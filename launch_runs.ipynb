{
 "cells": [
  {
   "cell_type": "markdown",
   "metadata": {},
   "source": [
    "# Paramaterized Runs for Multiple Brain Training\n",
    "\n",
    "This notebook aims to templatize a process for creating alterations of a Bonsai experiment, and submit all of them to the Bonsai platform.\n",
    "\n",
    "## Supported operations:\n",
    "\n",
    "1. Adjust goal objective weights\n",
    "2. Adjust any training parameters, including adding new ones\n",
    "3. Adjust some algorithm parameters such as memory\n",
    "4. Create inkling files from alterations\n",
    "5. Submit all brain-versions to platform and start training\n",
    "6. Query status of brains\n",
    "7. Assess all brains with same configuration file\n",
    "\n",
    "## NOT yet implemented:\n",
    "\n",
    "1. Adjust experimental tags\n",
    "2. Adjust algorithm network\n",
    "3. ~~changing training parameters for specific lessons~~\n",
    "4. Remove/add goals\n",
    "5. Adjust actual goal ranges or values"
   ]
  },
  {
   "cell_type": "markdown",
   "metadata": {},
   "source": [
    "## Necessary Imports"
   ]
  },
  {
   "cell_type": "code",
   "execution_count": 1,
   "metadata": {},
   "outputs": [
    {
     "data": {
      "text/html": [
       "<pre style=\"white-space:pre;overflow-x:auto;line-height:normal;font-family:Menlo,'DejaVu Sans Mono',consolas,'Courier New',monospace\"><span style=\"color: #7fbfbf\">[19:04:34] </span><span style=\"color: #000080\">INFO    </span> Note: NumExpr detected <span style=\"color: #000080; font-weight: bold\">24</span> cores but <span style=\"color: #008000\">\"NUMEXPR_MAX_THREADS\"</span>    <a href=\"file:///anaconda/envs/bonsai-batch/lib/python3.7/site-packages/numexpr/utils.py\"><span style=\"color: #7f7f7f\">utils.py</span></a><span style=\"color: #7f7f7f\">:145</span>\n",
       "                    not set, so enforcing safe limit of <span style=\"color: #000080; font-weight: bold\">8</span>.                                   \n",
       "</pre>\n"
      ],
      "text/plain": [
       "<rich.jupyter.JupyterRenderable at 0x7f3814b85c10>"
      ]
     },
     "metadata": {},
     "output_type": "display_data"
    },
    {
     "data": {
      "text/html": [
       "<pre style=\"white-space:pre;overflow-x:auto;line-height:normal;font-family:Menlo,'DejaVu Sans Mono',consolas,'Courier New',monospace\"><span style=\"color: #7fbfbf\">           </span><span style=\"color: #000080\">INFO    </span> NumExpr defaulting to <span style=\"color: #000080; font-weight: bold\">8</span> threads.                             <a href=\"file:///anaconda/envs/bonsai-batch/lib/python3.7/site-packages/numexpr/utils.py\"><span style=\"color: #7f7f7f\">utils.py</span></a><span style=\"color: #7f7f7f\">:157</span>\n",
       "</pre>\n"
      ],
      "text/plain": [
       "<rich.jupyter.JupyterRenderable at 0x7f3814b85690>"
      ]
     },
     "metadata": {},
     "output_type": "display_data"
    }
   ],
   "source": [
    "from batch_creation import *\n",
    "from batch_containers import *\n",
    "from ink_parser import *"
   ]
  },
  {
   "cell_type": "code",
   "execution_count": 2,
   "metadata": {},
   "outputs": [],
   "source": [
    "import pandas as pd\n",
    "import datetime"
   ]
  },
  {
   "cell_type": "markdown",
   "metadata": {},
   "source": [
    "## Read Inkling File\n",
    "\n",
    "We need a base inkling file, which we will parse and modify using provided functions in the `ink_parser` script. We recommend adding double hash marks `##` to break up important components of your inkling file. This will make it easier to parse the file for important components. "
   ]
  },
  {
   "cell_type": "code",
   "execution_count": 17,
   "metadata": {},
   "outputs": [],
   "source": [
    "cartpole_ink = \"cartpole_single_concept.ink\""
   ]
  },
  {
   "cell_type": "code",
   "execution_count": 18,
   "metadata": {},
   "outputs": [],
   "source": [
    "cartpole_ink_str = read_ink(cartpole_ink)"
   ]
  },
  {
   "cell_type": "markdown",
   "metadata": {},
   "source": [
    "## Adjust Goal Objective Weights"
   ]
  },
  {
   "cell_type": "code",
   "execution_count": 19,
   "metadata": {},
   "outputs": [],
   "source": [
    "goal_pri = adjust_weight_objectives(cartpole_ink_str, {\"FallOver\": 2})"
   ]
  },
  {
   "cell_type": "markdown",
   "metadata": {},
   "source": [
    "## Adjust Training Parameters"
   ]
  },
  {
   "cell_type": "code",
   "execution_count": 20,
   "metadata": {},
   "outputs": [],
   "source": [
    "train_params = {\n",
    "\t\"EpisodeIterationLimit\": 100,\n",
    "\t\"TotalIterationLimit\": 10 ** 7,\n",
    "\t\"NoProgressIterationLimit\": 10 ** 5,\n",
    "\t\"LessonAssessmentWindow\": 50,\n",
    "\t# \"LessonRewardThreshold\": 200,\n",
    "\t\"LessonSuccessThreshold\": 0.95,\n",
    "}\n",
    "goal_pri_tp = adjust_training_params(\n",
    "    goal_pri, train_params, \"## concept-level training params\"\n",
    ")"
   ]
  },
  {
   "cell_type": "markdown",
   "metadata": {},
   "source": [
    "## Adjust Algorithm Parameters"
   ]
  },
  {
   "cell_type": "code",
   "execution_count": 31,
   "metadata": {},
   "outputs": [],
   "source": [
    "algo_params = {\n",
    "    \"MemoryMode\": '\"state and action\"',\n",
    "    \"Algorithm\": '\"PPO\"',\n",
    "    \"BatchSize\": 6000\n",
    "}"
   ]
  },
  {
   "cell_type": "code",
   "execution_count": 32,
   "metadata": {},
   "outputs": [],
   "source": [
    "goal_pri_tp_memory = adjust_algorithm_params(goal_pri_tp, algo_params)"
   ]
  },
  {
   "cell_type": "code",
   "execution_count": 33,
   "metadata": {},
   "outputs": [],
   "source": [
    "ppo_cp = adjust_algorithm_params(cartpole_ink_str, algo_params)"
   ]
  },
  {
   "cell_type": "code",
   "execution_count": 29,
   "metadata": {},
   "outputs": [],
   "source": [
    "goal_pri_ppo_memory = adjust_algorithm_params(cartpole_ink_str, algo_params)"
   ]
  },
  {
   "cell_type": "markdown",
   "metadata": {},
   "source": [
    "## Save to New Inkling Files"
   ]
  },
  {
   "cell_type": "code",
   "execution_count": 34,
   "metadata": {},
   "outputs": [],
   "source": [
    "write_ink(\"\\n\".join(cp_memory), \"cp_memory.ink\")\n",
    "write_ink(\"\\n\".join(goal_pri_ppo_memory), \"cartpole-ppo-bs.ink\")"
   ]
  },
  {
   "cell_type": "code",
   "execution_count": 9,
   "metadata": {},
   "outputs": [],
   "source": [
    "write_ink(\"\\n\".join(goal_pri_tp), \"cp_goalpri_tp.ink\")\n",
    "write_ink(\"\\n\".join(goal_pri_tp_memory), \"cp_goalwpri_tp_memory.ink\")"
   ]
  },
  {
   "cell_type": "markdown",
   "metadata": {},
   "source": [
    "## Launch Training with Each New Inkling\n",
    "Create a list of all the Inkling files you want to train from."
   ]
  },
  {
   "cell_type": "code",
   "execution_count": 10,
   "metadata": {},
   "outputs": [],
   "source": [
    "inkling_files = [cartpole_ink, \"cp_memory.ink\", \"cp_goalwpri.ink\", \"cp_goalpri_tp.ink\", \"cp_goalwpri_tp_memory.ink\"]"
   ]
  },
  {
   "cell_type": "markdown",
   "metadata": {},
   "source": [
    "## Launch Parameters"
   ]
  },
  {
   "cell_type": "code",
   "execution_count": 11,
   "metadata": {},
   "outputs": [],
   "source": [
    "NUM_RUNS = 4\n",
    "SIM_PACKAGE = \"mba-pole\"\n",
    "EXPERIMENT_NAME = \"cartpole-launch-test\"\n",
    "SCALE_PLATFORM = \"ACI\"\n",
    "NUM_INSTANCES = 20\n",
    "LOW_PRI_NODES = 10\n",
    "DEDICATED_NODES = 0\n",
    "CONCEPT_NAME = \"BalancePole\"\n"
   ]
  },
  {
   "cell_type": "code",
   "execution_count": 12,
   "metadata": {},
   "outputs": [],
   "source": [
    "running_experiments = pd.DataFrame({})"
   ]
  },
  {
   "cell_type": "code",
   "execution_count": 13,
   "metadata": {
    "collapsed": true,
    "jupyter": {
     "outputs_hidden": true
    },
    "tags": []
   },
   "outputs": [
    {
     "name": "stderr",
     "output_type": "stream",
     "text": [
      "/anaconda/envs/bonsai-batch/lib/python3.7/site-packages/msal_extensions/token_cache.py:61: RuntimeWarning: You are using an unprotected token cache\n",
      "  warnings.warn(\"You are using an unprotected token cache\", RuntimeWarning)\n"
     ]
    },
    {
     "data": {
      "text/html": [
       "<pre style=\"white-space:pre;overflow-x:auto;line-height:normal;font-family:Menlo,'DejaVu Sans Mono',consolas,'Courier New',monospace\"><span style=\"color: #7fbfbf\">[17:11:03] </span><span style=\"color: #800000\">WARNING </span> No brain cartpole_single_concept found,           <a href=\"file:///home/alizaidi/bonsai/bonsai-batch/batch_containers.py\"><span style=\"color: #7f7f7f\">batch_containers.py</span></a><span style=\"color: #7f7f7f\">:921</span>\n",
       "                    creating<span style=\"color: #808000\">...</span>                                                              \n",
       "</pre>\n"
      ],
      "text/plain": [
       "<rich.jupyter.JupyterRenderable at 0x7f9420a7c850>"
      ]
     },
     "metadata": {},
     "output_type": "display_data"
    },
    {
     "name": "stderr",
     "output_type": "stream",
     "text": [
      "/anaconda/envs/bonsai-batch/lib/python3.7/site-packages/msal_extensions/token_cache.py:61: RuntimeWarning: You are using an unprotected token cache\n",
      "  warnings.warn(\"You are using an unprotected token cache\", RuntimeWarning)\n"
     ]
    },
    {
     "data": {
      "text/html": [
       "<pre style=\"white-space:pre;overflow-x:auto;line-height:normal;font-family:Menlo,'DejaVu Sans Mono',consolas,'Courier New',monospace\"><span style=\"color: #7fbfbf\">[17:11:05] </span><span style=\"color: #000080\">INFO    </span> Checking brain is in train mode                   <a href=\"file:///home/alizaidi/bonsai/bonsai-batch/batch_containers.py\"><span style=\"color: #7f7f7f\">batch_containers.py</span></a><span style=\"color: #7f7f7f\">:943</span>\n",
       "</pre>\n"
      ],
      "text/plain": [
       "<rich.jupyter.JupyterRenderable at 0x7f94789901d0>"
      ]
     },
     "metadata": {},
     "output_type": "display_data"
    },
    {
     "name": "stderr",
     "output_type": "stream",
     "text": [
      "/anaconda/envs/bonsai-batch/lib/python3.7/site-packages/msal_extensions/token_cache.py:61: RuntimeWarning: You are using an unprotected token cache\n",
      "  warnings.warn(\"You are using an unprotected token cache\", RuntimeWarning)\n"
     ]
    },
    {
     "data": {
      "text/html": [
       "<pre style=\"white-space:pre;overflow-x:auto;line-height:normal;font-family:Menlo,'DejaVu Sans Mono',consolas,'Courier New',monospace\"><span style=\"color: #7fbfbf\">[17:11:07] </span><span style=\"color: #000080\">INFO    </span> Brain is not training yet. Starting training<span style=\"color: #808000\">...</span>   <a href=\"file:///home/alizaidi/bonsai/bonsai-batch/batch_containers.py\"><span style=\"color: #7f7f7f\">batch_containers.py</span></a><span style=\"color: #7f7f7f\">:951</span>\n",
       "</pre>\n"
      ],
      "text/plain": [
       "<rich.jupyter.JupyterRenderable at 0x7f941dcebe90>"
      ]
     },
     "metadata": {},
     "output_type": "display_data"
    },
    {
     "data": {
      "text/html": [
       "<pre style=\"white-space:pre;overflow-x:auto;line-height:normal;font-family:Menlo,'DejaVu Sans Mono',consolas,'Courier New',monospace\"><span style=\"color: #7fbfbf\">           </span><span style=\"color: #000080\">INFO    </span> Pushing inkling to brain name                     <a href=\"file:///home/alizaidi/bonsai/bonsai-batch/batch_containers.py\"><span style=\"color: #7f7f7f\">batch_containers.py</span></a><span style=\"color: #7f7f7f\">:954</span>\n",
       "                    cartpole_single_concept and brain-version <span style=\"color: #000080; font-weight: bold\">1</span>                              \n",
       "</pre>\n"
      ],
      "text/plain": [
       "<rich.jupyter.JupyterRenderable at 0x7f941dcf8550>"
      ]
     },
     "metadata": {},
     "output_type": "display_data"
    },
    {
     "name": "stderr",
     "output_type": "stream",
     "text": [
      "/anaconda/envs/bonsai-batch/lib/python3.7/site-packages/msal_extensions/token_cache.py:61: RuntimeWarning: You are using an unprotected token cache\n",
      "  warnings.warn(\"You are using an unprotected token cache\", RuntimeWarning)\n"
     ]
    },
    {
     "data": {
      "text/html": [
       "<pre style=\"white-space:pre;overflow-x:auto;line-height:normal;font-family:Menlo,'DejaVu Sans Mono',consolas,'Courier New',monospace\"><span style=\"color: #7fbfbf\">[17:11:10] </span><span style=\"color: #000080\">INFO    </span> Running simulators using managed simulator       <a href=\"file:///home/alizaidi/bonsai/bonsai-batch/batch_containers.py\"><span style=\"color: #7f7f7f\">batch_containers.py</span></a><span style=\"color: #7f7f7f\">:1009</span>\n",
       "                    package mba-pole                                                         \n",
       "</pre>\n"
      ],
      "text/plain": [
       "<rich.jupyter.JupyterRenderable at 0x7f941dcf8190>"
      ]
     },
     "metadata": {},
     "output_type": "display_data"
    },
    {
     "name": "stderr",
     "output_type": "stream",
     "text": [
      "/anaconda/envs/bonsai-batch/lib/python3.7/site-packages/msal_extensions/token_cache.py:61: RuntimeWarning: You are using an unprotected token cache\n",
      "  warnings.warn(\"You are using an unprotected token cache\", RuntimeWarning)\n",
      "/anaconda/envs/bonsai-batch/lib/python3.7/site-packages/msal_extensions/token_cache.py:61: RuntimeWarning: You are using an unprotected token cache\n",
      "  warnings.warn(\"You are using an unprotected token cache\", RuntimeWarning)\n",
      "/anaconda/envs/bonsai-batch/lib/python3.7/site-packages/msal_extensions/token_cache.py:61: RuntimeWarning: You are using an unprotected token cache\n",
      "  warnings.warn(\"You are using an unprotected token cache\", RuntimeWarning)\n"
     ]
    },
    {
     "data": {
      "text/html": [
       "<pre style=\"white-space:pre;overflow-x:auto;line-height:normal;font-family:Menlo,'DejaVu Sans Mono',consolas,'Courier New',monospace\"><span style=\"color: #7fbfbf\">[17:11:18] </span><span style=\"color: #800000\">WARNING </span> No brain: cartpole_single_concept with version: <span style=\"color: #000080; font-weight: bold\">2</span> <a href=\"file:///home/alizaidi/bonsai/bonsai-batch/batch_containers.py\"><span style=\"color: #7f7f7f\">batch_containers.py</span></a><span style=\"color: #7f7f7f\">:933</span>\n",
       "                    found, creating<span style=\"color: #808000\">...</span>                                                       \n",
       "</pre>\n"
      ],
      "text/plain": [
       "<rich.jupyter.JupyterRenderable at 0x7f941dcebb90>"
      ]
     },
     "metadata": {},
     "output_type": "display_data"
    },
    {
     "name": "stderr",
     "output_type": "stream",
     "text": [
      "/anaconda/envs/bonsai-batch/lib/python3.7/site-packages/msal_extensions/token_cache.py:61: RuntimeWarning: You are using an unprotected token cache\n",
      "  warnings.warn(\"You are using an unprotected token cache\", RuntimeWarning)\n"
     ]
    },
    {
     "name": "stdout",
     "output_type": "stream",
     "text": [
      "Copied cartpole_single_concept version 1 to version 2.\n"
     ]
    },
    {
     "data": {
      "text/html": [
       "<pre style=\"white-space:pre;overflow-x:auto;line-height:normal;font-family:Menlo,'DejaVu Sans Mono',consolas,'Courier New',monospace\"><span style=\"color: #7fbfbf\">[17:11:50] </span><span style=\"color: #000080\">INFO    </span> Checking brain is in train mode                   <a href=\"file:///home/alizaidi/bonsai/bonsai-batch/batch_containers.py\"><span style=\"color: #7f7f7f\">batch_containers.py</span></a><span style=\"color: #7f7f7f\">:943</span>\n",
       "</pre>\n"
      ],
      "text/plain": [
       "<rich.jupyter.JupyterRenderable at 0x7f941dceb550>"
      ]
     },
     "metadata": {},
     "output_type": "display_data"
    },
    {
     "name": "stderr",
     "output_type": "stream",
     "text": [
      "/anaconda/envs/bonsai-batch/lib/python3.7/site-packages/msal_extensions/token_cache.py:61: RuntimeWarning: You are using an unprotected token cache\n",
      "  warnings.warn(\"You are using an unprotected token cache\", RuntimeWarning)\n"
     ]
    },
    {
     "data": {
      "text/html": [
       "<pre style=\"white-space:pre;overflow-x:auto;line-height:normal;font-family:Menlo,'DejaVu Sans Mono',consolas,'Courier New',monospace\"><span style=\"color: #7fbfbf\">[17:11:52] </span><span style=\"color: #000080\">INFO    </span> Brain is not training yet. Starting training<span style=\"color: #808000\">...</span>   <a href=\"file:///home/alizaidi/bonsai/bonsai-batch/batch_containers.py\"><span style=\"color: #7f7f7f\">batch_containers.py</span></a><span style=\"color: #7f7f7f\">:951</span>\n",
       "</pre>\n"
      ],
      "text/plain": [
       "<rich.jupyter.JupyterRenderable at 0x7f941dceb1d0>"
      ]
     },
     "metadata": {},
     "output_type": "display_data"
    },
    {
     "data": {
      "text/html": [
       "<pre style=\"white-space:pre;overflow-x:auto;line-height:normal;font-family:Menlo,'DejaVu Sans Mono',consolas,'Courier New',monospace\"><span style=\"color: #7fbfbf\">           </span><span style=\"color: #000080\">INFO    </span> Pushing inkling to brain name                     <a href=\"file:///home/alizaidi/bonsai/bonsai-batch/batch_containers.py\"><span style=\"color: #7f7f7f\">batch_containers.py</span></a><span style=\"color: #7f7f7f\">:954</span>\n",
       "                    cartpole_single_concept and brain-version <span style=\"color: #000080; font-weight: bold\">2</span>                              \n",
       "</pre>\n"
      ],
      "text/plain": [
       "<rich.jupyter.JupyterRenderable at 0x7f941dceb150>"
      ]
     },
     "metadata": {},
     "output_type": "display_data"
    },
    {
     "name": "stderr",
     "output_type": "stream",
     "text": [
      "/anaconda/envs/bonsai-batch/lib/python3.7/site-packages/msal_extensions/token_cache.py:61: RuntimeWarning: You are using an unprotected token cache\n",
      "  warnings.warn(\"You are using an unprotected token cache\", RuntimeWarning)\n"
     ]
    },
    {
     "data": {
      "text/html": [
       "<pre style=\"white-space:pre;overflow-x:auto;line-height:normal;font-family:Menlo,'DejaVu Sans Mono',consolas,'Courier New',monospace\"><span style=\"color: #7fbfbf\">[17:11:55] </span><span style=\"color: #000080\">INFO    </span> Running simulators using managed simulator       <a href=\"file:///home/alizaidi/bonsai/bonsai-batch/batch_containers.py\"><span style=\"color: #7f7f7f\">batch_containers.py</span></a><span style=\"color: #7f7f7f\">:1009</span>\n",
       "                    package mba-pole                                                         \n",
       "</pre>\n"
      ],
      "text/plain": [
       "<rich.jupyter.JupyterRenderable at 0x7f941dcf8810>"
      ]
     },
     "metadata": {},
     "output_type": "display_data"
    },
    {
     "name": "stderr",
     "output_type": "stream",
     "text": [
      "/anaconda/envs/bonsai-batch/lib/python3.7/site-packages/msal_extensions/token_cache.py:61: RuntimeWarning: You are using an unprotected token cache\n",
      "  warnings.warn(\"You are using an unprotected token cache\", RuntimeWarning)\n",
      "/anaconda/envs/bonsai-batch/lib/python3.7/site-packages/msal_extensions/token_cache.py:61: RuntimeWarning: You are using an unprotected token cache\n",
      "  warnings.warn(\"You are using an unprotected token cache\", RuntimeWarning)\n",
      "/anaconda/envs/bonsai-batch/lib/python3.7/site-packages/msal_extensions/token_cache.py:61: RuntimeWarning: You are using an unprotected token cache\n",
      "  warnings.warn(\"You are using an unprotected token cache\", RuntimeWarning)\n"
     ]
    },
    {
     "data": {
      "text/html": [
       "<pre style=\"white-space:pre;overflow-x:auto;line-height:normal;font-family:Menlo,'DejaVu Sans Mono',consolas,'Courier New',monospace\"><span style=\"color: #7fbfbf\">[17:12:03] </span><span style=\"color: #800000\">WARNING </span> No brain: cartpole_single_concept with version: <span style=\"color: #000080; font-weight: bold\">3</span> <a href=\"file:///home/alizaidi/bonsai/bonsai-batch/batch_containers.py\"><span style=\"color: #7f7f7f\">batch_containers.py</span></a><span style=\"color: #7f7f7f\">:933</span>\n",
       "                    found, creating<span style=\"color: #808000\">...</span>                                                       \n",
       "</pre>\n"
      ],
      "text/plain": [
       "<rich.jupyter.JupyterRenderable at 0x7f941dcebb90>"
      ]
     },
     "metadata": {},
     "output_type": "display_data"
    },
    {
     "name": "stderr",
     "output_type": "stream",
     "text": [
      "/anaconda/envs/bonsai-batch/lib/python3.7/site-packages/msal_extensions/token_cache.py:61: RuntimeWarning: You are using an unprotected token cache\n",
      "  warnings.warn(\"You are using an unprotected token cache\", RuntimeWarning)\n"
     ]
    },
    {
     "name": "stdout",
     "output_type": "stream",
     "text": [
      "Copied cartpole_single_concept version 2 to version 3.\n"
     ]
    },
    {
     "data": {
      "text/html": [
       "<pre style=\"white-space:pre;overflow-x:auto;line-height:normal;font-family:Menlo,'DejaVu Sans Mono',consolas,'Courier New',monospace\"><span style=\"color: #7fbfbf\">[17:12:35] </span><span style=\"color: #000080\">INFO    </span> Checking brain is in train mode                   <a href=\"file:///home/alizaidi/bonsai/bonsai-batch/batch_containers.py\"><span style=\"color: #7f7f7f\">batch_containers.py</span></a><span style=\"color: #7f7f7f\">:943</span>\n",
       "</pre>\n"
      ],
      "text/plain": [
       "<rich.jupyter.JupyterRenderable at 0x7f941dcf8990>"
      ]
     },
     "metadata": {},
     "output_type": "display_data"
    },
    {
     "name": "stderr",
     "output_type": "stream",
     "text": [
      "/anaconda/envs/bonsai-batch/lib/python3.7/site-packages/msal_extensions/token_cache.py:61: RuntimeWarning: You are using an unprotected token cache\n",
      "  warnings.warn(\"You are using an unprotected token cache\", RuntimeWarning)\n"
     ]
    },
    {
     "data": {
      "text/html": [
       "<pre style=\"white-space:pre;overflow-x:auto;line-height:normal;font-family:Menlo,'DejaVu Sans Mono',consolas,'Courier New',monospace\"><span style=\"color: #7fbfbf\">[17:12:37] </span><span style=\"color: #000080\">INFO    </span> Brain is not training yet. Starting training<span style=\"color: #808000\">...</span>   <a href=\"file:///home/alizaidi/bonsai/bonsai-batch/batch_containers.py\"><span style=\"color: #7f7f7f\">batch_containers.py</span></a><span style=\"color: #7f7f7f\">:951</span>\n",
       "</pre>\n"
      ],
      "text/plain": [
       "<rich.jupyter.JupyterRenderable at 0x7f941dcf80d0>"
      ]
     },
     "metadata": {},
     "output_type": "display_data"
    },
    {
     "data": {
      "text/html": [
       "<pre style=\"white-space:pre;overflow-x:auto;line-height:normal;font-family:Menlo,'DejaVu Sans Mono',consolas,'Courier New',monospace\"><span style=\"color: #7fbfbf\">           </span><span style=\"color: #000080\">INFO    </span> Pushing inkling to brain name                     <a href=\"file:///home/alizaidi/bonsai/bonsai-batch/batch_containers.py\"><span style=\"color: #7f7f7f\">batch_containers.py</span></a><span style=\"color: #7f7f7f\">:954</span>\n",
       "                    cartpole_single_concept and brain-version <span style=\"color: #000080; font-weight: bold\">3</span>                              \n",
       "</pre>\n"
      ],
      "text/plain": [
       "<rich.jupyter.JupyterRenderable at 0x7f941dcf8050>"
      ]
     },
     "metadata": {},
     "output_type": "display_data"
    },
    {
     "name": "stderr",
     "output_type": "stream",
     "text": [
      "/anaconda/envs/bonsai-batch/lib/python3.7/site-packages/msal_extensions/token_cache.py:61: RuntimeWarning: You are using an unprotected token cache\n",
      "  warnings.warn(\"You are using an unprotected token cache\", RuntimeWarning)\n"
     ]
    },
    {
     "data": {
      "text/html": [
       "<pre style=\"white-space:pre;overflow-x:auto;line-height:normal;font-family:Menlo,'DejaVu Sans Mono',consolas,'Courier New',monospace\"><span style=\"color: #7fbfbf\">[17:12:41] </span><span style=\"color: #000080\">INFO    </span> Running simulators using managed simulator       <a href=\"file:///home/alizaidi/bonsai/bonsai-batch/batch_containers.py\"><span style=\"color: #7f7f7f\">batch_containers.py</span></a><span style=\"color: #7f7f7f\">:1009</span>\n",
       "                    package mba-pole                                                         \n",
       "</pre>\n"
      ],
      "text/plain": [
       "<rich.jupyter.JupyterRenderable at 0x7f941dcf8990>"
      ]
     },
     "metadata": {},
     "output_type": "display_data"
    },
    {
     "name": "stderr",
     "output_type": "stream",
     "text": [
      "/anaconda/envs/bonsai-batch/lib/python3.7/site-packages/msal_extensions/token_cache.py:61: RuntimeWarning: You are using an unprotected token cache\n",
      "  warnings.warn(\"You are using an unprotected token cache\", RuntimeWarning)\n",
      "/anaconda/envs/bonsai-batch/lib/python3.7/site-packages/msal_extensions/token_cache.py:61: RuntimeWarning: You are using an unprotected token cache\n",
      "  warnings.warn(\"You are using an unprotected token cache\", RuntimeWarning)\n",
      "/anaconda/envs/bonsai-batch/lib/python3.7/site-packages/msal_extensions/token_cache.py:61: RuntimeWarning: You are using an unprotected token cache\n",
      "  warnings.warn(\"You are using an unprotected token cache\", RuntimeWarning)\n"
     ]
    },
    {
     "data": {
      "text/html": [
       "<pre style=\"white-space:pre;overflow-x:auto;line-height:normal;font-family:Menlo,'DejaVu Sans Mono',consolas,'Courier New',monospace\"><span style=\"color: #7fbfbf\">[17:12:49] </span><span style=\"color: #800000\">WARNING </span> No brain: cartpole_single_concept with version: <span style=\"color: #000080; font-weight: bold\">4</span> <a href=\"file:///home/alizaidi/bonsai/bonsai-batch/batch_containers.py\"><span style=\"color: #7f7f7f\">batch_containers.py</span></a><span style=\"color: #7f7f7f\">:933</span>\n",
       "                    found, creating<span style=\"color: #808000\">...</span>                                                       \n",
       "</pre>\n"
      ],
      "text/plain": [
       "<rich.jupyter.JupyterRenderable at 0x7f941dcf7b90>"
      ]
     },
     "metadata": {},
     "output_type": "display_data"
    },
    {
     "name": "stderr",
     "output_type": "stream",
     "text": [
      "/anaconda/envs/bonsai-batch/lib/python3.7/site-packages/msal_extensions/token_cache.py:61: RuntimeWarning: You are using an unprotected token cache\n",
      "  warnings.warn(\"You are using an unprotected token cache\", RuntimeWarning)\n"
     ]
    },
    {
     "name": "stdout",
     "output_type": "stream",
     "text": [
      "Copied cartpole_single_concept version 3 to version 4.\n"
     ]
    },
    {
     "data": {
      "text/html": [
       "<pre style=\"white-space:pre;overflow-x:auto;line-height:normal;font-family:Menlo,'DejaVu Sans Mono',consolas,'Courier New',monospace\"><span style=\"color: #7fbfbf\">[17:13:22] </span><span style=\"color: #000080\">INFO    </span> Checking brain is in train mode                   <a href=\"file:///home/alizaidi/bonsai/bonsai-batch/batch_containers.py\"><span style=\"color: #7f7f7f\">batch_containers.py</span></a><span style=\"color: #7f7f7f\">:943</span>\n",
       "</pre>\n"
      ],
      "text/plain": [
       "<rich.jupyter.JupyterRenderable at 0x7f941dcf7e90>"
      ]
     },
     "metadata": {},
     "output_type": "display_data"
    },
    {
     "name": "stderr",
     "output_type": "stream",
     "text": [
      "/anaconda/envs/bonsai-batch/lib/python3.7/site-packages/msal_extensions/token_cache.py:61: RuntimeWarning: You are using an unprotected token cache\n",
      "  warnings.warn(\"You are using an unprotected token cache\", RuntimeWarning)\n"
     ]
    },
    {
     "data": {
      "text/html": [
       "<pre style=\"white-space:pre;overflow-x:auto;line-height:normal;font-family:Menlo,'DejaVu Sans Mono',consolas,'Courier New',monospace\"><span style=\"color: #7fbfbf\">[17:13:24] </span><span style=\"color: #000080\">INFO    </span> Brain is not training yet. Starting training<span style=\"color: #808000\">...</span>   <a href=\"file:///home/alizaidi/bonsai/bonsai-batch/batch_containers.py\"><span style=\"color: #7f7f7f\">batch_containers.py</span></a><span style=\"color: #7f7f7f\">:951</span>\n",
       "</pre>\n"
      ],
      "text/plain": [
       "<rich.jupyter.JupyterRenderable at 0x7f941dcf7390>"
      ]
     },
     "metadata": {},
     "output_type": "display_data"
    },
    {
     "data": {
      "text/html": [
       "<pre style=\"white-space:pre;overflow-x:auto;line-height:normal;font-family:Menlo,'DejaVu Sans Mono',consolas,'Courier New',monospace\"><span style=\"color: #7fbfbf\">           </span><span style=\"color: #000080\">INFO    </span> Pushing inkling to brain name                     <a href=\"file:///home/alizaidi/bonsai/bonsai-batch/batch_containers.py\"><span style=\"color: #7f7f7f\">batch_containers.py</span></a><span style=\"color: #7f7f7f\">:954</span>\n",
       "                    cartpole_single_concept and brain-version <span style=\"color: #000080; font-weight: bold\">4</span>                              \n",
       "</pre>\n"
      ],
      "text/plain": [
       "<rich.jupyter.JupyterRenderable at 0x7f941dcebd10>"
      ]
     },
     "metadata": {},
     "output_type": "display_data"
    },
    {
     "name": "stderr",
     "output_type": "stream",
     "text": [
      "/anaconda/envs/bonsai-batch/lib/python3.7/site-packages/msal_extensions/token_cache.py:61: RuntimeWarning: You are using an unprotected token cache\n",
      "  warnings.warn(\"You are using an unprotected token cache\", RuntimeWarning)\n"
     ]
    },
    {
     "data": {
      "text/html": [
       "<pre style=\"white-space:pre;overflow-x:auto;line-height:normal;font-family:Menlo,'DejaVu Sans Mono',consolas,'Courier New',monospace\"><span style=\"color: #7fbfbf\">[17:13:27] </span><span style=\"color: #000080\">INFO    </span> Running simulators using managed simulator       <a href=\"file:///home/alizaidi/bonsai/bonsai-batch/batch_containers.py\"><span style=\"color: #7f7f7f\">batch_containers.py</span></a><span style=\"color: #7f7f7f\">:1009</span>\n",
       "                    package mba-pole                                                         \n",
       "</pre>\n"
      ],
      "text/plain": [
       "<rich.jupyter.JupyterRenderable at 0x7f941dcebb90>"
      ]
     },
     "metadata": {},
     "output_type": "display_data"
    },
    {
     "name": "stderr",
     "output_type": "stream",
     "text": [
      "/anaconda/envs/bonsai-batch/lib/python3.7/site-packages/msal_extensions/token_cache.py:61: RuntimeWarning: You are using an unprotected token cache\n",
      "  warnings.warn(\"You are using an unprotected token cache\", RuntimeWarning)\n",
      "/anaconda/envs/bonsai-batch/lib/python3.7/site-packages/msal_extensions/token_cache.py:61: RuntimeWarning: You are using an unprotected token cache\n",
      "  warnings.warn(\"You are using an unprotected token cache\", RuntimeWarning)\n"
     ]
    },
    {
     "data": {
      "text/html": [
       "<pre style=\"white-space:pre;overflow-x:auto;line-height:normal;font-family:Menlo,'DejaVu Sans Mono',consolas,'Courier New',monospace\"><span style=\"color: #7fbfbf\">[17:13:34] </span><span style=\"color: #800000\">WARNING </span> No brain cp_memory found, creating<span style=\"color: #808000\">...</span>             <a href=\"file:///home/alizaidi/bonsai/bonsai-batch/batch_containers.py\"><span style=\"color: #7f7f7f\">batch_containers.py</span></a><span style=\"color: #7f7f7f\">:921</span>\n",
       "</pre>\n"
      ],
      "text/plain": [
       "<rich.jupyter.JupyterRenderable at 0x7f941dcebf10>"
      ]
     },
     "metadata": {},
     "output_type": "display_data"
    },
    {
     "name": "stderr",
     "output_type": "stream",
     "text": [
      "/anaconda/envs/bonsai-batch/lib/python3.7/site-packages/msal_extensions/token_cache.py:61: RuntimeWarning: You are using an unprotected token cache\n",
      "  warnings.warn(\"You are using an unprotected token cache\", RuntimeWarning)\n"
     ]
    },
    {
     "data": {
      "text/html": [
       "<pre style=\"white-space:pre;overflow-x:auto;line-height:normal;font-family:Menlo,'DejaVu Sans Mono',consolas,'Courier New',monospace\"><span style=\"color: #7fbfbf\">[17:13:36] </span><span style=\"color: #000080\">INFO    </span> Checking brain is in train mode                   <a href=\"file:///home/alizaidi/bonsai/bonsai-batch/batch_containers.py\"><span style=\"color: #7f7f7f\">batch_containers.py</span></a><span style=\"color: #7f7f7f\">:943</span>\n",
       "</pre>\n"
      ],
      "text/plain": [
       "<rich.jupyter.JupyterRenderable at 0x7f941dceb550>"
      ]
     },
     "metadata": {},
     "output_type": "display_data"
    },
    {
     "name": "stderr",
     "output_type": "stream",
     "text": [
      "/anaconda/envs/bonsai-batch/lib/python3.7/site-packages/msal_extensions/token_cache.py:61: RuntimeWarning: You are using an unprotected token cache\n",
      "  warnings.warn(\"You are using an unprotected token cache\", RuntimeWarning)\n"
     ]
    },
    {
     "data": {
      "text/html": [
       "<pre style=\"white-space:pre;overflow-x:auto;line-height:normal;font-family:Menlo,'DejaVu Sans Mono',consolas,'Courier New',monospace\"><span style=\"color: #7fbfbf\">[17:13:39] </span><span style=\"color: #000080\">INFO    </span> Brain is not training yet. Starting training<span style=\"color: #808000\">...</span>   <a href=\"file:///home/alizaidi/bonsai/bonsai-batch/batch_containers.py\"><span style=\"color: #7f7f7f\">batch_containers.py</span></a><span style=\"color: #7f7f7f\">:951</span>\n",
       "</pre>\n"
      ],
      "text/plain": [
       "<rich.jupyter.JupyterRenderable at 0x7f941dd00d90>"
      ]
     },
     "metadata": {},
     "output_type": "display_data"
    },
    {
     "data": {
      "text/html": [
       "<pre style=\"white-space:pre;overflow-x:auto;line-height:normal;font-family:Menlo,'DejaVu Sans Mono',consolas,'Courier New',monospace\"><span style=\"color: #7fbfbf\">           </span><span style=\"color: #000080\">INFO    </span> Pushing inkling to brain name cp_memory and       <a href=\"file:///home/alizaidi/bonsai/bonsai-batch/batch_containers.py\"><span style=\"color: #7f7f7f\">batch_containers.py</span></a><span style=\"color: #7f7f7f\">:954</span>\n",
       "                    brain-version <span style=\"color: #000080; font-weight: bold\">1</span>                                                          \n",
       "</pre>\n"
      ],
      "text/plain": [
       "<rich.jupyter.JupyterRenderable at 0x7f941dd00810>"
      ]
     },
     "metadata": {},
     "output_type": "display_data"
    },
    {
     "name": "stderr",
     "output_type": "stream",
     "text": [
      "/anaconda/envs/bonsai-batch/lib/python3.7/site-packages/msal_extensions/token_cache.py:61: RuntimeWarning: You are using an unprotected token cache\n",
      "  warnings.warn(\"You are using an unprotected token cache\", RuntimeWarning)\n"
     ]
    },
    {
     "data": {
      "text/html": [
       "<pre style=\"white-space:pre;overflow-x:auto;line-height:normal;font-family:Menlo,'DejaVu Sans Mono',consolas,'Courier New',monospace\"><span style=\"color: #7fbfbf\">[17:13:42] </span><span style=\"color: #000080\">INFO    </span> Running simulators using managed simulator       <a href=\"file:///home/alizaidi/bonsai/bonsai-batch/batch_containers.py\"><span style=\"color: #7f7f7f\">batch_containers.py</span></a><span style=\"color: #7f7f7f\">:1009</span>\n",
       "                    package mba-pole                                                         \n",
       "</pre>\n"
      ],
      "text/plain": [
       "<rich.jupyter.JupyterRenderable at 0x7f941dd00d10>"
      ]
     },
     "metadata": {},
     "output_type": "display_data"
    },
    {
     "name": "stderr",
     "output_type": "stream",
     "text": [
      "/anaconda/envs/bonsai-batch/lib/python3.7/site-packages/msal_extensions/token_cache.py:61: RuntimeWarning: You are using an unprotected token cache\n",
      "  warnings.warn(\"You are using an unprotected token cache\", RuntimeWarning)\n",
      "/anaconda/envs/bonsai-batch/lib/python3.7/site-packages/msal_extensions/token_cache.py:61: RuntimeWarning: You are using an unprotected token cache\n",
      "  warnings.warn(\"You are using an unprotected token cache\", RuntimeWarning)\n",
      "/anaconda/envs/bonsai-batch/lib/python3.7/site-packages/msal_extensions/token_cache.py:61: RuntimeWarning: You are using an unprotected token cache\n",
      "  warnings.warn(\"You are using an unprotected token cache\", RuntimeWarning)\n"
     ]
    },
    {
     "data": {
      "text/html": [
       "<pre style=\"white-space:pre;overflow-x:auto;line-height:normal;font-family:Menlo,'DejaVu Sans Mono',consolas,'Courier New',monospace\"><span style=\"color: #7fbfbf\">[17:13:50] </span><span style=\"color: #800000\">WARNING </span> No brain: cp_memory with version: <span style=\"color: #000080; font-weight: bold\">2</span> found,        <a href=\"file:///home/alizaidi/bonsai/bonsai-batch/batch_containers.py\"><span style=\"color: #7f7f7f\">batch_containers.py</span></a><span style=\"color: #7f7f7f\">:933</span>\n",
       "                    creating<span style=\"color: #808000\">...</span>                                                              \n",
       "</pre>\n"
      ],
      "text/plain": [
       "<rich.jupyter.JupyterRenderable at 0x7f941dcf7b10>"
      ]
     },
     "metadata": {},
     "output_type": "display_data"
    },
    {
     "name": "stderr",
     "output_type": "stream",
     "text": [
      "/anaconda/envs/bonsai-batch/lib/python3.7/site-packages/msal_extensions/token_cache.py:61: RuntimeWarning: You are using an unprotected token cache\n",
      "  warnings.warn(\"You are using an unprotected token cache\", RuntimeWarning)\n"
     ]
    },
    {
     "name": "stdout",
     "output_type": "stream",
     "text": [
      "Copied cp_memory version 1 to version 2.\n"
     ]
    },
    {
     "data": {
      "text/html": [
       "<pre style=\"white-space:pre;overflow-x:auto;line-height:normal;font-family:Menlo,'DejaVu Sans Mono',consolas,'Courier New',monospace\"><span style=\"color: #7fbfbf\">[17:14:23] </span><span style=\"color: #000080\">INFO    </span> Checking brain is in train mode                   <a href=\"file:///home/alizaidi/bonsai/bonsai-batch/batch_containers.py\"><span style=\"color: #7f7f7f\">batch_containers.py</span></a><span style=\"color: #7f7f7f\">:943</span>\n",
       "</pre>\n"
      ],
      "text/plain": [
       "<rich.jupyter.JupyterRenderable at 0x7f941dcf90d0>"
      ]
     },
     "metadata": {},
     "output_type": "display_data"
    },
    {
     "name": "stderr",
     "output_type": "stream",
     "text": [
      "/anaconda/envs/bonsai-batch/lib/python3.7/site-packages/msal_extensions/token_cache.py:61: RuntimeWarning: You are using an unprotected token cache\n",
      "  warnings.warn(\"You are using an unprotected token cache\", RuntimeWarning)\n"
     ]
    },
    {
     "data": {
      "text/html": [
       "<pre style=\"white-space:pre;overflow-x:auto;line-height:normal;font-family:Menlo,'DejaVu Sans Mono',consolas,'Courier New',monospace\"><span style=\"color: #7fbfbf\">[17:14:25] </span><span style=\"color: #000080\">INFO    </span> Brain is not training yet. Starting training<span style=\"color: #808000\">...</span>   <a href=\"file:///home/alizaidi/bonsai/bonsai-batch/batch_containers.py\"><span style=\"color: #7f7f7f\">batch_containers.py</span></a><span style=\"color: #7f7f7f\">:951</span>\n",
       "</pre>\n"
      ],
      "text/plain": [
       "<rich.jupyter.JupyterRenderable at 0x7f941dcf9290>"
      ]
     },
     "metadata": {},
     "output_type": "display_data"
    },
    {
     "data": {
      "text/html": [
       "<pre style=\"white-space:pre;overflow-x:auto;line-height:normal;font-family:Menlo,'DejaVu Sans Mono',consolas,'Courier New',monospace\"><span style=\"color: #7fbfbf\">           </span><span style=\"color: #000080\">INFO    </span> Pushing inkling to brain name cp_memory and       <a href=\"file:///home/alizaidi/bonsai/bonsai-batch/batch_containers.py\"><span style=\"color: #7f7f7f\">batch_containers.py</span></a><span style=\"color: #7f7f7f\">:954</span>\n",
       "                    brain-version <span style=\"color: #000080; font-weight: bold\">2</span>                                                          \n",
       "</pre>\n"
      ],
      "text/plain": [
       "<rich.jupyter.JupyterRenderable at 0x7f941dcf9250>"
      ]
     },
     "metadata": {},
     "output_type": "display_data"
    },
    {
     "name": "stderr",
     "output_type": "stream",
     "text": [
      "/anaconda/envs/bonsai-batch/lib/python3.7/site-packages/msal_extensions/token_cache.py:61: RuntimeWarning: You are using an unprotected token cache\n",
      "  warnings.warn(\"You are using an unprotected token cache\", RuntimeWarning)\n"
     ]
    },
    {
     "data": {
      "text/html": [
       "<pre style=\"white-space:pre;overflow-x:auto;line-height:normal;font-family:Menlo,'DejaVu Sans Mono',consolas,'Courier New',monospace\"><span style=\"color: #7fbfbf\">[17:14:28] </span><span style=\"color: #000080\">INFO    </span> Running simulators using managed simulator       <a href=\"file:///home/alizaidi/bonsai/bonsai-batch/batch_containers.py\"><span style=\"color: #7f7f7f\">batch_containers.py</span></a><span style=\"color: #7f7f7f\">:1009</span>\n",
       "                    package mba-pole                                                         \n",
       "</pre>\n"
      ],
      "text/plain": [
       "<rich.jupyter.JupyterRenderable at 0x7f941dcebe90>"
      ]
     },
     "metadata": {},
     "output_type": "display_data"
    },
    {
     "name": "stderr",
     "output_type": "stream",
     "text": [
      "/anaconda/envs/bonsai-batch/lib/python3.7/site-packages/msal_extensions/token_cache.py:61: RuntimeWarning: You are using an unprotected token cache\n",
      "  warnings.warn(\"You are using an unprotected token cache\", RuntimeWarning)\n",
      "/anaconda/envs/bonsai-batch/lib/python3.7/site-packages/msal_extensions/token_cache.py:61: RuntimeWarning: You are using an unprotected token cache\n",
      "  warnings.warn(\"You are using an unprotected token cache\", RuntimeWarning)\n",
      "/anaconda/envs/bonsai-batch/lib/python3.7/site-packages/msal_extensions/token_cache.py:61: RuntimeWarning: You are using an unprotected token cache\n",
      "  warnings.warn(\"You are using an unprotected token cache\", RuntimeWarning)\n"
     ]
    },
    {
     "data": {
      "text/html": [
       "<pre style=\"white-space:pre;overflow-x:auto;line-height:normal;font-family:Menlo,'DejaVu Sans Mono',consolas,'Courier New',monospace\"><span style=\"color: #7fbfbf\">[17:14:37] </span><span style=\"color: #800000\">WARNING </span> No brain: cp_memory with version: <span style=\"color: #000080; font-weight: bold\">3</span> found,        <a href=\"file:///home/alizaidi/bonsai/bonsai-batch/batch_containers.py\"><span style=\"color: #7f7f7f\">batch_containers.py</span></a><span style=\"color: #7f7f7f\">:933</span>\n",
       "                    creating<span style=\"color: #808000\">...</span>                                                              \n",
       "</pre>\n"
      ],
      "text/plain": [
       "<rich.jupyter.JupyterRenderable at 0x7f941dcf8190>"
      ]
     },
     "metadata": {},
     "output_type": "display_data"
    },
    {
     "name": "stderr",
     "output_type": "stream",
     "text": [
      "/anaconda/envs/bonsai-batch/lib/python3.7/site-packages/msal_extensions/token_cache.py:61: RuntimeWarning: You are using an unprotected token cache\n",
      "  warnings.warn(\"You are using an unprotected token cache\", RuntimeWarning)\n"
     ]
    },
    {
     "name": "stdout",
     "output_type": "stream",
     "text": [
      "Copied cp_memory version 2 to version 3.\n"
     ]
    },
    {
     "data": {
      "text/html": [
       "<pre style=\"white-space:pre;overflow-x:auto;line-height:normal;font-family:Menlo,'DejaVu Sans Mono',consolas,'Courier New',monospace\"><span style=\"color: #7fbfbf\">[17:15:09] </span><span style=\"color: #000080\">INFO    </span> Checking brain is in train mode                   <a href=\"file:///home/alizaidi/bonsai/bonsai-batch/batch_containers.py\"><span style=\"color: #7f7f7f\">batch_containers.py</span></a><span style=\"color: #7f7f7f\">:943</span>\n",
       "</pre>\n"
      ],
      "text/plain": [
       "<rich.jupyter.JupyterRenderable at 0x7f941dcf9b50>"
      ]
     },
     "metadata": {},
     "output_type": "display_data"
    },
    {
     "name": "stderr",
     "output_type": "stream",
     "text": [
      "/anaconda/envs/bonsai-batch/lib/python3.7/site-packages/msal_extensions/token_cache.py:61: RuntimeWarning: You are using an unprotected token cache\n",
      "  warnings.warn(\"You are using an unprotected token cache\", RuntimeWarning)\n"
     ]
    },
    {
     "data": {
      "text/html": [
       "<pre style=\"white-space:pre;overflow-x:auto;line-height:normal;font-family:Menlo,'DejaVu Sans Mono',consolas,'Courier New',monospace\"><span style=\"color: #7fbfbf\">[17:15:12] </span><span style=\"color: #000080\">INFO    </span> Brain is not training yet. Starting training<span style=\"color: #808000\">...</span>   <a href=\"file:///home/alizaidi/bonsai/bonsai-batch/batch_containers.py\"><span style=\"color: #7f7f7f\">batch_containers.py</span></a><span style=\"color: #7f7f7f\">:951</span>\n",
       "</pre>\n"
      ],
      "text/plain": [
       "<rich.jupyter.JupyterRenderable at 0x7f941dcf9bd0>"
      ]
     },
     "metadata": {},
     "output_type": "display_data"
    },
    {
     "data": {
      "text/html": [
       "<pre style=\"white-space:pre;overflow-x:auto;line-height:normal;font-family:Menlo,'DejaVu Sans Mono',consolas,'Courier New',monospace\"><span style=\"color: #7fbfbf\">           </span><span style=\"color: #000080\">INFO    </span> Pushing inkling to brain name cp_memory and       <a href=\"file:///home/alizaidi/bonsai/bonsai-batch/batch_containers.py\"><span style=\"color: #7f7f7f\">batch_containers.py</span></a><span style=\"color: #7f7f7f\">:954</span>\n",
       "                    brain-version <span style=\"color: #000080; font-weight: bold\">3</span>                                                          \n",
       "</pre>\n"
      ],
      "text/plain": [
       "<rich.jupyter.JupyterRenderable at 0x7f941dcf91d0>"
      ]
     },
     "metadata": {},
     "output_type": "display_data"
    },
    {
     "name": "stderr",
     "output_type": "stream",
     "text": [
      "/anaconda/envs/bonsai-batch/lib/python3.7/site-packages/msal_extensions/token_cache.py:61: RuntimeWarning: You are using an unprotected token cache\n",
      "  warnings.warn(\"You are using an unprotected token cache\", RuntimeWarning)\n"
     ]
    },
    {
     "data": {
      "text/html": [
       "<pre style=\"white-space:pre;overflow-x:auto;line-height:normal;font-family:Menlo,'DejaVu Sans Mono',consolas,'Courier New',monospace\"><span style=\"color: #7fbfbf\">[17:15:15] </span><span style=\"color: #000080\">INFO    </span> Running simulators using managed simulator       <a href=\"file:///home/alizaidi/bonsai/bonsai-batch/batch_containers.py\"><span style=\"color: #7f7f7f\">batch_containers.py</span></a><span style=\"color: #7f7f7f\">:1009</span>\n",
       "                    package mba-pole                                                         \n",
       "</pre>\n"
      ],
      "text/plain": [
       "<rich.jupyter.JupyterRenderable at 0x7f941dd00d10>"
      ]
     },
     "metadata": {},
     "output_type": "display_data"
    },
    {
     "name": "stderr",
     "output_type": "stream",
     "text": [
      "/anaconda/envs/bonsai-batch/lib/python3.7/site-packages/msal_extensions/token_cache.py:61: RuntimeWarning: You are using an unprotected token cache\n",
      "  warnings.warn(\"You are using an unprotected token cache\", RuntimeWarning)\n",
      "/anaconda/envs/bonsai-batch/lib/python3.7/site-packages/msal_extensions/token_cache.py:61: RuntimeWarning: You are using an unprotected token cache\n",
      "  warnings.warn(\"You are using an unprotected token cache\", RuntimeWarning)\n",
      "/anaconda/envs/bonsai-batch/lib/python3.7/site-packages/msal_extensions/token_cache.py:61: RuntimeWarning: You are using an unprotected token cache\n",
      "  warnings.warn(\"You are using an unprotected token cache\", RuntimeWarning)\n"
     ]
    },
    {
     "data": {
      "text/html": [
       "<pre style=\"white-space:pre;overflow-x:auto;line-height:normal;font-family:Menlo,'DejaVu Sans Mono',consolas,'Courier New',monospace\"><span style=\"color: #7fbfbf\">[17:15:24] </span><span style=\"color: #800000\">WARNING </span> No brain: cp_memory with version: <span style=\"color: #000080; font-weight: bold\">4</span> found,        <a href=\"file:///home/alizaidi/bonsai/bonsai-batch/batch_containers.py\"><span style=\"color: #7f7f7f\">batch_containers.py</span></a><span style=\"color: #7f7f7f\">:933</span>\n",
       "                    creating<span style=\"color: #808000\">...</span>                                                              \n",
       "</pre>\n"
      ],
      "text/plain": [
       "<rich.jupyter.JupyterRenderable at 0x7f941dd00990>"
      ]
     },
     "metadata": {},
     "output_type": "display_data"
    },
    {
     "name": "stderr",
     "output_type": "stream",
     "text": [
      "/anaconda/envs/bonsai-batch/lib/python3.7/site-packages/msal_extensions/token_cache.py:61: RuntimeWarning: You are using an unprotected token cache\n",
      "  warnings.warn(\"You are using an unprotected token cache\", RuntimeWarning)\n"
     ]
    },
    {
     "name": "stdout",
     "output_type": "stream",
     "text": [
      "Copied cp_memory version 3 to version 4.\n"
     ]
    },
    {
     "data": {
      "text/html": [
       "<pre style=\"white-space:pre;overflow-x:auto;line-height:normal;font-family:Menlo,'DejaVu Sans Mono',consolas,'Courier New',monospace\"><span style=\"color: #7fbfbf\">[17:15:56] </span><span style=\"color: #000080\">INFO    </span> Checking brain is in train mode                   <a href=\"file:///home/alizaidi/bonsai/bonsai-batch/batch_containers.py\"><span style=\"color: #7f7f7f\">batch_containers.py</span></a><span style=\"color: #7f7f7f\">:943</span>\n",
       "</pre>\n"
      ],
      "text/plain": [
       "<rich.jupyter.JupyterRenderable at 0x7f941dd00990>"
      ]
     },
     "metadata": {},
     "output_type": "display_data"
    },
    {
     "name": "stderr",
     "output_type": "stream",
     "text": [
      "/anaconda/envs/bonsai-batch/lib/python3.7/site-packages/msal_extensions/token_cache.py:61: RuntimeWarning: You are using an unprotected token cache\n",
      "  warnings.warn(\"You are using an unprotected token cache\", RuntimeWarning)\n"
     ]
    },
    {
     "data": {
      "text/html": [
       "<pre style=\"white-space:pre;overflow-x:auto;line-height:normal;font-family:Menlo,'DejaVu Sans Mono',consolas,'Courier New',monospace\"><span style=\"color: #7fbfbf\">[17:15:58] </span><span style=\"color: #000080\">INFO    </span> Brain is not training yet. Starting training<span style=\"color: #808000\">...</span>   <a href=\"file:///home/alizaidi/bonsai/bonsai-batch/batch_containers.py\"><span style=\"color: #7f7f7f\">batch_containers.py</span></a><span style=\"color: #7f7f7f\">:951</span>\n",
       "</pre>\n"
      ],
      "text/plain": [
       "<rich.jupyter.JupyterRenderable at 0x7f941dd00ad0>"
      ]
     },
     "metadata": {},
     "output_type": "display_data"
    },
    {
     "data": {
      "text/html": [
       "<pre style=\"white-space:pre;overflow-x:auto;line-height:normal;font-family:Menlo,'DejaVu Sans Mono',consolas,'Courier New',monospace\"><span style=\"color: #7fbfbf\">           </span><span style=\"color: #000080\">INFO    </span> Pushing inkling to brain name cp_memory and       <a href=\"file:///home/alizaidi/bonsai/bonsai-batch/batch_containers.py\"><span style=\"color: #7f7f7f\">batch_containers.py</span></a><span style=\"color: #7f7f7f\">:954</span>\n",
       "                    brain-version <span style=\"color: #000080; font-weight: bold\">4</span>                                                          \n",
       "</pre>\n"
      ],
      "text/plain": [
       "<rich.jupyter.JupyterRenderable at 0x7f941dd00d10>"
      ]
     },
     "metadata": {},
     "output_type": "display_data"
    },
    {
     "name": "stderr",
     "output_type": "stream",
     "text": [
      "/anaconda/envs/bonsai-batch/lib/python3.7/site-packages/msal_extensions/token_cache.py:61: RuntimeWarning: You are using an unprotected token cache\n",
      "  warnings.warn(\"You are using an unprotected token cache\", RuntimeWarning)\n"
     ]
    },
    {
     "data": {
      "text/html": [
       "<pre style=\"white-space:pre;overflow-x:auto;line-height:normal;font-family:Menlo,'DejaVu Sans Mono',consolas,'Courier New',monospace\"><span style=\"color: #7fbfbf\">[17:16:01] </span><span style=\"color: #000080\">INFO    </span> Running simulators using managed simulator       <a href=\"file:///home/alizaidi/bonsai/bonsai-batch/batch_containers.py\"><span style=\"color: #7f7f7f\">batch_containers.py</span></a><span style=\"color: #7f7f7f\">:1009</span>\n",
       "                    package mba-pole                                                         \n",
       "</pre>\n"
      ],
      "text/plain": [
       "<rich.jupyter.JupyterRenderable at 0x7f941dcf9c10>"
      ]
     },
     "metadata": {},
     "output_type": "display_data"
    },
    {
     "name": "stderr",
     "output_type": "stream",
     "text": [
      "/anaconda/envs/bonsai-batch/lib/python3.7/site-packages/msal_extensions/token_cache.py:61: RuntimeWarning: You are using an unprotected token cache\n",
      "  warnings.warn(\"You are using an unprotected token cache\", RuntimeWarning)\n",
      "/anaconda/envs/bonsai-batch/lib/python3.7/site-packages/msal_extensions/token_cache.py:61: RuntimeWarning: You are using an unprotected token cache\n",
      "  warnings.warn(\"You are using an unprotected token cache\", RuntimeWarning)\n"
     ]
    },
    {
     "data": {
      "text/html": [
       "<pre style=\"white-space:pre;overflow-x:auto;line-height:normal;font-family:Menlo,'DejaVu Sans Mono',consolas,'Courier New',monospace\"><span style=\"color: #7fbfbf\">[17:16:08] </span><span style=\"color: #800000\">WARNING </span> No brain cp_goalwpri found, creating<span style=\"color: #808000\">...</span>           <a href=\"file:///home/alizaidi/bonsai/bonsai-batch/batch_containers.py\"><span style=\"color: #7f7f7f\">batch_containers.py</span></a><span style=\"color: #7f7f7f\">:921</span>\n",
       "</pre>\n"
      ],
      "text/plain": [
       "<rich.jupyter.JupyterRenderable at 0x7f941dd00e90>"
      ]
     },
     "metadata": {},
     "output_type": "display_data"
    },
    {
     "name": "stderr",
     "output_type": "stream",
     "text": [
      "/anaconda/envs/bonsai-batch/lib/python3.7/site-packages/msal_extensions/token_cache.py:61: RuntimeWarning: You are using an unprotected token cache\n",
      "  warnings.warn(\"You are using an unprotected token cache\", RuntimeWarning)\n"
     ]
    },
    {
     "data": {
      "text/html": [
       "<pre style=\"white-space:pre;overflow-x:auto;line-height:normal;font-family:Menlo,'DejaVu Sans Mono',consolas,'Courier New',monospace\"><span style=\"color: #7fbfbf\">[17:16:11] </span><span style=\"color: #000080\">INFO    </span> Checking brain is in train mode                   <a href=\"file:///home/alizaidi/bonsai/bonsai-batch/batch_containers.py\"><span style=\"color: #7f7f7f\">batch_containers.py</span></a><span style=\"color: #7f7f7f\">:943</span>\n",
       "</pre>\n"
      ],
      "text/plain": [
       "<rich.jupyter.JupyterRenderable at 0x7f941dcf8610>"
      ]
     },
     "metadata": {},
     "output_type": "display_data"
    },
    {
     "name": "stderr",
     "output_type": "stream",
     "text": [
      "/anaconda/envs/bonsai-batch/lib/python3.7/site-packages/msal_extensions/token_cache.py:61: RuntimeWarning: You are using an unprotected token cache\n",
      "  warnings.warn(\"You are using an unprotected token cache\", RuntimeWarning)\n"
     ]
    },
    {
     "data": {
      "text/html": [
       "<pre style=\"white-space:pre;overflow-x:auto;line-height:normal;font-family:Menlo,'DejaVu Sans Mono',consolas,'Courier New',monospace\"><span style=\"color: #7fbfbf\">[17:16:14] </span><span style=\"color: #000080\">INFO    </span> Brain is not training yet. Starting training<span style=\"color: #808000\">...</span>   <a href=\"file:///home/alizaidi/bonsai/bonsai-batch/batch_containers.py\"><span style=\"color: #7f7f7f\">batch_containers.py</span></a><span style=\"color: #7f7f7f\">:951</span>\n",
       "</pre>\n"
      ],
      "text/plain": [
       "<rich.jupyter.JupyterRenderable at 0x7f9460260dd0>"
      ]
     },
     "metadata": {},
     "output_type": "display_data"
    },
    {
     "data": {
      "text/html": [
       "<pre style=\"white-space:pre;overflow-x:auto;line-height:normal;font-family:Menlo,'DejaVu Sans Mono',consolas,'Courier New',monospace\"><span style=\"color: #7fbfbf\">           </span><span style=\"color: #000080\">INFO    </span> Pushing inkling to brain name cp_goalwpri and     <a href=\"file:///home/alizaidi/bonsai/bonsai-batch/batch_containers.py\"><span style=\"color: #7f7f7f\">batch_containers.py</span></a><span style=\"color: #7f7f7f\">:954</span>\n",
       "                    brain-version <span style=\"color: #000080; font-weight: bold\">1</span>                                                          \n",
       "</pre>\n"
      ],
      "text/plain": [
       "<rich.jupyter.JupyterRenderable at 0x7f9460260e50>"
      ]
     },
     "metadata": {},
     "output_type": "display_data"
    },
    {
     "name": "stderr",
     "output_type": "stream",
     "text": [
      "/anaconda/envs/bonsai-batch/lib/python3.7/site-packages/msal_extensions/token_cache.py:61: RuntimeWarning: You are using an unprotected token cache\n",
      "  warnings.warn(\"You are using an unprotected token cache\", RuntimeWarning)\n"
     ]
    },
    {
     "data": {
      "text/html": [
       "<pre style=\"white-space:pre;overflow-x:auto;line-height:normal;font-family:Menlo,'DejaVu Sans Mono',consolas,'Courier New',monospace\"><span style=\"color: #7fbfbf\">[17:16:17] </span><span style=\"color: #000080\">INFO    </span> Running simulators using managed simulator       <a href=\"file:///home/alizaidi/bonsai/bonsai-batch/batch_containers.py\"><span style=\"color: #7f7f7f\">batch_containers.py</span></a><span style=\"color: #7f7f7f\">:1009</span>\n",
       "                    package mba-pole                                                         \n",
       "</pre>\n"
      ],
      "text/plain": [
       "<rich.jupyter.JupyterRenderable at 0x7f9460260fd0>"
      ]
     },
     "metadata": {},
     "output_type": "display_data"
    },
    {
     "name": "stderr",
     "output_type": "stream",
     "text": [
      "/anaconda/envs/bonsai-batch/lib/python3.7/site-packages/msal_extensions/token_cache.py:61: RuntimeWarning: You are using an unprotected token cache\n",
      "  warnings.warn(\"You are using an unprotected token cache\", RuntimeWarning)\n",
      "/anaconda/envs/bonsai-batch/lib/python3.7/site-packages/msal_extensions/token_cache.py:61: RuntimeWarning: You are using an unprotected token cache\n",
      "  warnings.warn(\"You are using an unprotected token cache\", RuntimeWarning)\n",
      "/anaconda/envs/bonsai-batch/lib/python3.7/site-packages/msal_extensions/token_cache.py:61: RuntimeWarning: You are using an unprotected token cache\n",
      "  warnings.warn(\"You are using an unprotected token cache\", RuntimeWarning)\n"
     ]
    },
    {
     "data": {
      "text/html": [
       "<pre style=\"white-space:pre;overflow-x:auto;line-height:normal;font-family:Menlo,'DejaVu Sans Mono',consolas,'Courier New',monospace\"><span style=\"color: #7fbfbf\">[17:16:26] </span><span style=\"color: #800000\">WARNING </span> No brain: cp_goalwpri with version: <span style=\"color: #000080; font-weight: bold\">2</span> found,      <a href=\"file:///home/alizaidi/bonsai/bonsai-batch/batch_containers.py\"><span style=\"color: #7f7f7f\">batch_containers.py</span></a><span style=\"color: #7f7f7f\">:933</span>\n",
       "                    creating<span style=\"color: #808000\">...</span>                                                              \n",
       "</pre>\n"
      ],
      "text/plain": [
       "<rich.jupyter.JupyterRenderable at 0x7f941dd003d0>"
      ]
     },
     "metadata": {},
     "output_type": "display_data"
    },
    {
     "name": "stderr",
     "output_type": "stream",
     "text": [
      "/anaconda/envs/bonsai-batch/lib/python3.7/site-packages/msal_extensions/token_cache.py:61: RuntimeWarning: You are using an unprotected token cache\n",
      "  warnings.warn(\"You are using an unprotected token cache\", RuntimeWarning)\n"
     ]
    },
    {
     "name": "stdout",
     "output_type": "stream",
     "text": [
      "Copied cp_goalwpri version 1 to version 2.\n"
     ]
    },
    {
     "data": {
      "text/html": [
       "<pre style=\"white-space:pre;overflow-x:auto;line-height:normal;font-family:Menlo,'DejaVu Sans Mono',consolas,'Courier New',monospace\"><span style=\"color: #7fbfbf\">[17:16:58] </span><span style=\"color: #000080\">INFO    </span> Checking brain is in train mode                   <a href=\"file:///home/alizaidi/bonsai/bonsai-batch/batch_containers.py\"><span style=\"color: #7f7f7f\">batch_containers.py</span></a><span style=\"color: #7f7f7f\">:943</span>\n",
       "</pre>\n"
      ],
      "text/plain": [
       "<rich.jupyter.JupyterRenderable at 0x7f941dcf9e90>"
      ]
     },
     "metadata": {},
     "output_type": "display_data"
    },
    {
     "name": "stderr",
     "output_type": "stream",
     "text": [
      "/anaconda/envs/bonsai-batch/lib/python3.7/site-packages/msal_extensions/token_cache.py:61: RuntimeWarning: You are using an unprotected token cache\n",
      "  warnings.warn(\"You are using an unprotected token cache\", RuntimeWarning)\n"
     ]
    },
    {
     "data": {
      "text/html": [
       "<pre style=\"white-space:pre;overflow-x:auto;line-height:normal;font-family:Menlo,'DejaVu Sans Mono',consolas,'Courier New',monospace\"><span style=\"color: #7fbfbf\">[17:17:00] </span><span style=\"color: #000080\">INFO    </span> Brain is not training yet. Starting training<span style=\"color: #808000\">...</span>   <a href=\"file:///home/alizaidi/bonsai/bonsai-batch/batch_containers.py\"><span style=\"color: #7f7f7f\">batch_containers.py</span></a><span style=\"color: #7f7f7f\">:951</span>\n",
       "</pre>\n"
      ],
      "text/plain": [
       "<rich.jupyter.JupyterRenderable at 0x7f941dcf9050>"
      ]
     },
     "metadata": {},
     "output_type": "display_data"
    },
    {
     "data": {
      "text/html": [
       "<pre style=\"white-space:pre;overflow-x:auto;line-height:normal;font-family:Menlo,'DejaVu Sans Mono',consolas,'Courier New',monospace\"><span style=\"color: #7fbfbf\">           </span><span style=\"color: #000080\">INFO    </span> Pushing inkling to brain name cp_goalwpri and     <a href=\"file:///home/alizaidi/bonsai/bonsai-batch/batch_containers.py\"><span style=\"color: #7f7f7f\">batch_containers.py</span></a><span style=\"color: #7f7f7f\">:954</span>\n",
       "                    brain-version <span style=\"color: #000080; font-weight: bold\">2</span>                                                          \n",
       "</pre>\n"
      ],
      "text/plain": [
       "<rich.jupyter.JupyterRenderable at 0x7f941dcf91d0>"
      ]
     },
     "metadata": {},
     "output_type": "display_data"
    },
    {
     "name": "stderr",
     "output_type": "stream",
     "text": [
      "/anaconda/envs/bonsai-batch/lib/python3.7/site-packages/msal_extensions/token_cache.py:61: RuntimeWarning: You are using an unprotected token cache\n",
      "  warnings.warn(\"You are using an unprotected token cache\", RuntimeWarning)\n"
     ]
    },
    {
     "data": {
      "text/html": [
       "<pre style=\"white-space:pre;overflow-x:auto;line-height:normal;font-family:Menlo,'DejaVu Sans Mono',consolas,'Courier New',monospace\"><span style=\"color: #7fbfbf\">[17:17:04] </span><span style=\"color: #000080\">INFO    </span> Running simulators using managed simulator       <a href=\"file:///home/alizaidi/bonsai/bonsai-batch/batch_containers.py\"><span style=\"color: #7f7f7f\">batch_containers.py</span></a><span style=\"color: #7f7f7f\">:1009</span>\n",
       "                    package mba-pole                                                         \n",
       "</pre>\n"
      ],
      "text/plain": [
       "<rich.jupyter.JupyterRenderable at 0x7f941dcebdd0>"
      ]
     },
     "metadata": {},
     "output_type": "display_data"
    },
    {
     "name": "stderr",
     "output_type": "stream",
     "text": [
      "/anaconda/envs/bonsai-batch/lib/python3.7/site-packages/msal_extensions/token_cache.py:61: RuntimeWarning: You are using an unprotected token cache\n",
      "  warnings.warn(\"You are using an unprotected token cache\", RuntimeWarning)\n",
      "/anaconda/envs/bonsai-batch/lib/python3.7/site-packages/msal_extensions/token_cache.py:61: RuntimeWarning: You are using an unprotected token cache\n",
      "  warnings.warn(\"You are using an unprotected token cache\", RuntimeWarning)\n",
      "/anaconda/envs/bonsai-batch/lib/python3.7/site-packages/msal_extensions/token_cache.py:61: RuntimeWarning: You are using an unprotected token cache\n",
      "  warnings.warn(\"You are using an unprotected token cache\", RuntimeWarning)\n"
     ]
    },
    {
     "data": {
      "text/html": [
       "<pre style=\"white-space:pre;overflow-x:auto;line-height:normal;font-family:Menlo,'DejaVu Sans Mono',consolas,'Courier New',monospace\"><span style=\"color: #7fbfbf\">[17:17:12] </span><span style=\"color: #800000\">WARNING </span> No brain: cp_goalwpri with version: <span style=\"color: #000080; font-weight: bold\">3</span> found,      <a href=\"file:///home/alizaidi/bonsai/bonsai-batch/batch_containers.py\"><span style=\"color: #7f7f7f\">batch_containers.py</span></a><span style=\"color: #7f7f7f\">:933</span>\n",
       "                    creating<span style=\"color: #808000\">...</span>                                                              \n",
       "</pre>\n"
      ],
      "text/plain": [
       "<rich.jupyter.JupyterRenderable at 0x7f941dcf8190>"
      ]
     },
     "metadata": {},
     "output_type": "display_data"
    },
    {
     "name": "stderr",
     "output_type": "stream",
     "text": [
      "/anaconda/envs/bonsai-batch/lib/python3.7/site-packages/msal_extensions/token_cache.py:61: RuntimeWarning: You are using an unprotected token cache\n",
      "  warnings.warn(\"You are using an unprotected token cache\", RuntimeWarning)\n"
     ]
    },
    {
     "name": "stdout",
     "output_type": "stream",
     "text": [
      "Copied cp_goalwpri version 2 to version 3.\n"
     ]
    },
    {
     "data": {
      "text/html": [
       "<pre style=\"white-space:pre;overflow-x:auto;line-height:normal;font-family:Menlo,'DejaVu Sans Mono',consolas,'Courier New',monospace\"><span style=\"color: #7fbfbf\">[17:17:44] </span><span style=\"color: #000080\">INFO    </span> Checking brain is in train mode                   <a href=\"file:///home/alizaidi/bonsai/bonsai-batch/batch_containers.py\"><span style=\"color: #7f7f7f\">batch_containers.py</span></a><span style=\"color: #7f7f7f\">:943</span>\n",
       "</pre>\n"
      ],
      "text/plain": [
       "<rich.jupyter.JupyterRenderable at 0x7f941dcf8190>"
      ]
     },
     "metadata": {},
     "output_type": "display_data"
    },
    {
     "name": "stderr",
     "output_type": "stream",
     "text": [
      "/anaconda/envs/bonsai-batch/lib/python3.7/site-packages/msal_extensions/token_cache.py:61: RuntimeWarning: You are using an unprotected token cache\n",
      "  warnings.warn(\"You are using an unprotected token cache\", RuntimeWarning)\n"
     ]
    },
    {
     "data": {
      "text/html": [
       "<pre style=\"white-space:pre;overflow-x:auto;line-height:normal;font-family:Menlo,'DejaVu Sans Mono',consolas,'Courier New',monospace\"><span style=\"color: #7fbfbf\">[17:17:47] </span><span style=\"color: #000080\">INFO    </span> Brain is not training yet. Starting training<span style=\"color: #808000\">...</span>   <a href=\"file:///home/alizaidi/bonsai/bonsai-batch/batch_containers.py\"><span style=\"color: #7f7f7f\">batch_containers.py</span></a><span style=\"color: #7f7f7f\">:951</span>\n",
       "</pre>\n"
      ],
      "text/plain": [
       "<rich.jupyter.JupyterRenderable at 0x7f941dcebf10>"
      ]
     },
     "metadata": {},
     "output_type": "display_data"
    },
    {
     "data": {
      "text/html": [
       "<pre style=\"white-space:pre;overflow-x:auto;line-height:normal;font-family:Menlo,'DejaVu Sans Mono',consolas,'Courier New',monospace\"><span style=\"color: #7fbfbf\">           </span><span style=\"color: #000080\">INFO    </span> Pushing inkling to brain name cp_goalwpri and     <a href=\"file:///home/alizaidi/bonsai/bonsai-batch/batch_containers.py\"><span style=\"color: #7f7f7f\">batch_containers.py</span></a><span style=\"color: #7f7f7f\">:954</span>\n",
       "                    brain-version <span style=\"color: #000080; font-weight: bold\">3</span>                                                          \n",
       "</pre>\n"
      ],
      "text/plain": [
       "<rich.jupyter.JupyterRenderable at 0x7f941dcf7910>"
      ]
     },
     "metadata": {},
     "output_type": "display_data"
    },
    {
     "name": "stderr",
     "output_type": "stream",
     "text": [
      "/anaconda/envs/bonsai-batch/lib/python3.7/site-packages/msal_extensions/token_cache.py:61: RuntimeWarning: You are using an unprotected token cache\n",
      "  warnings.warn(\"You are using an unprotected token cache\", RuntimeWarning)\n"
     ]
    },
    {
     "data": {
      "text/html": [
       "<pre style=\"white-space:pre;overflow-x:auto;line-height:normal;font-family:Menlo,'DejaVu Sans Mono',consolas,'Courier New',monospace\"><span style=\"color: #7fbfbf\">[17:17:50] </span><span style=\"color: #000080\">INFO    </span> Running simulators using managed simulator       <a href=\"file:///home/alizaidi/bonsai/bonsai-batch/batch_containers.py\"><span style=\"color: #7f7f7f\">batch_containers.py</span></a><span style=\"color: #7f7f7f\">:1009</span>\n",
       "                    package mba-pole                                                         \n",
       "</pre>\n"
      ],
      "text/plain": [
       "<rich.jupyter.JupyterRenderable at 0x7f941dcf7e10>"
      ]
     },
     "metadata": {},
     "output_type": "display_data"
    },
    {
     "name": "stderr",
     "output_type": "stream",
     "text": [
      "/anaconda/envs/bonsai-batch/lib/python3.7/site-packages/msal_extensions/token_cache.py:61: RuntimeWarning: You are using an unprotected token cache\n",
      "  warnings.warn(\"You are using an unprotected token cache\", RuntimeWarning)\n",
      "/anaconda/envs/bonsai-batch/lib/python3.7/site-packages/msal_extensions/token_cache.py:61: RuntimeWarning: You are using an unprotected token cache\n",
      "  warnings.warn(\"You are using an unprotected token cache\", RuntimeWarning)\n",
      "/anaconda/envs/bonsai-batch/lib/python3.7/site-packages/msal_extensions/token_cache.py:61: RuntimeWarning: You are using an unprotected token cache\n",
      "  warnings.warn(\"You are using an unprotected token cache\", RuntimeWarning)\n"
     ]
    },
    {
     "data": {
      "text/html": [
       "<pre style=\"white-space:pre;overflow-x:auto;line-height:normal;font-family:Menlo,'DejaVu Sans Mono',consolas,'Courier New',monospace\"><span style=\"color: #7fbfbf\">[17:17:57] </span><span style=\"color: #800000\">WARNING </span> No brain: cp_goalwpri with version: <span style=\"color: #000080; font-weight: bold\">4</span> found,      <a href=\"file:///home/alizaidi/bonsai/bonsai-batch/batch_containers.py\"><span style=\"color: #7f7f7f\">batch_containers.py</span></a><span style=\"color: #7f7f7f\">:933</span>\n",
       "                    creating<span style=\"color: #808000\">...</span>                                                              \n",
       "</pre>\n"
      ],
      "text/plain": [
       "<rich.jupyter.JupyterRenderable at 0x7f941dcf8190>"
      ]
     },
     "metadata": {},
     "output_type": "display_data"
    },
    {
     "name": "stderr",
     "output_type": "stream",
     "text": [
      "/anaconda/envs/bonsai-batch/lib/python3.7/site-packages/msal_extensions/token_cache.py:61: RuntimeWarning: You are using an unprotected token cache\n",
      "  warnings.warn(\"You are using an unprotected token cache\", RuntimeWarning)\n"
     ]
    },
    {
     "name": "stdout",
     "output_type": "stream",
     "text": [
      "Copied cp_goalwpri version 3 to version 4.\n"
     ]
    },
    {
     "data": {
      "text/html": [
       "<pre style=\"white-space:pre;overflow-x:auto;line-height:normal;font-family:Menlo,'DejaVu Sans Mono',consolas,'Courier New',monospace\"><span style=\"color: #7fbfbf\">[17:18:29] </span><span style=\"color: #000080\">INFO    </span> Checking brain is in train mode                   <a href=\"file:///home/alizaidi/bonsai/bonsai-batch/batch_containers.py\"><span style=\"color: #7f7f7f\">batch_containers.py</span></a><span style=\"color: #7f7f7f\">:943</span>\n",
       "</pre>\n"
      ],
      "text/plain": [
       "<rich.jupyter.JupyterRenderable at 0x7f941dcf7990>"
      ]
     },
     "metadata": {},
     "output_type": "display_data"
    },
    {
     "name": "stderr",
     "output_type": "stream",
     "text": [
      "/anaconda/envs/bonsai-batch/lib/python3.7/site-packages/msal_extensions/token_cache.py:61: RuntimeWarning: You are using an unprotected token cache\n",
      "  warnings.warn(\"You are using an unprotected token cache\", RuntimeWarning)\n"
     ]
    },
    {
     "data": {
      "text/html": [
       "<pre style=\"white-space:pre;overflow-x:auto;line-height:normal;font-family:Menlo,'DejaVu Sans Mono',consolas,'Courier New',monospace\"><span style=\"color: #7fbfbf\">[17:18:31] </span><span style=\"color: #000080\">INFO    </span> Brain is not training yet. Starting training<span style=\"color: #808000\">...</span>   <a href=\"file:///home/alizaidi/bonsai/bonsai-batch/batch_containers.py\"><span style=\"color: #7f7f7f\">batch_containers.py</span></a><span style=\"color: #7f7f7f\">:951</span>\n",
       "</pre>\n"
      ],
      "text/plain": [
       "<rich.jupyter.JupyterRenderable at 0x7f941dcf7a10>"
      ]
     },
     "metadata": {},
     "output_type": "display_data"
    },
    {
     "data": {
      "text/html": [
       "<pre style=\"white-space:pre;overflow-x:auto;line-height:normal;font-family:Menlo,'DejaVu Sans Mono',consolas,'Courier New',monospace\"><span style=\"color: #7fbfbf\">           </span><span style=\"color: #000080\">INFO    </span> Pushing inkling to brain name cp_goalwpri and     <a href=\"file:///home/alizaidi/bonsai/bonsai-batch/batch_containers.py\"><span style=\"color: #7f7f7f\">batch_containers.py</span></a><span style=\"color: #7f7f7f\">:954</span>\n",
       "                    brain-version <span style=\"color: #000080; font-weight: bold\">4</span>                                                          \n",
       "</pre>\n"
      ],
      "text/plain": [
       "<rich.jupyter.JupyterRenderable at 0x7f941dcebd10>"
      ]
     },
     "metadata": {},
     "output_type": "display_data"
    },
    {
     "name": "stderr",
     "output_type": "stream",
     "text": [
      "/anaconda/envs/bonsai-batch/lib/python3.7/site-packages/msal_extensions/token_cache.py:61: RuntimeWarning: You are using an unprotected token cache\n",
      "  warnings.warn(\"You are using an unprotected token cache\", RuntimeWarning)\n"
     ]
    },
    {
     "data": {
      "text/html": [
       "<pre style=\"white-space:pre;overflow-x:auto;line-height:normal;font-family:Menlo,'DejaVu Sans Mono',consolas,'Courier New',monospace\"><span style=\"color: #7fbfbf\">[17:18:34] </span><span style=\"color: #000080\">INFO    </span> Running simulators using managed simulator       <a href=\"file:///home/alizaidi/bonsai/bonsai-batch/batch_containers.py\"><span style=\"color: #7f7f7f\">batch_containers.py</span></a><span style=\"color: #7f7f7f\">:1009</span>\n",
       "                    package mba-pole                                                         \n",
       "</pre>\n"
      ],
      "text/plain": [
       "<rich.jupyter.JupyterRenderable at 0x7f941dcebd10>"
      ]
     },
     "metadata": {},
     "output_type": "display_data"
    },
    {
     "name": "stderr",
     "output_type": "stream",
     "text": [
      "/anaconda/envs/bonsai-batch/lib/python3.7/site-packages/msal_extensions/token_cache.py:61: RuntimeWarning: You are using an unprotected token cache\n",
      "  warnings.warn(\"You are using an unprotected token cache\", RuntimeWarning)\n",
      "/anaconda/envs/bonsai-batch/lib/python3.7/site-packages/msal_extensions/token_cache.py:61: RuntimeWarning: You are using an unprotected token cache\n",
      "  warnings.warn(\"You are using an unprotected token cache\", RuntimeWarning)\n"
     ]
    },
    {
     "data": {
      "text/html": [
       "<pre style=\"white-space:pre;overflow-x:auto;line-height:normal;font-family:Menlo,'DejaVu Sans Mono',consolas,'Courier New',monospace\"><span style=\"color: #7fbfbf\">[17:18:39] </span><span style=\"color: #800000\">WARNING </span> No brain cp_goalpri_tp found, creating<span style=\"color: #808000\">...</span>         <a href=\"file:///home/alizaidi/bonsai/bonsai-batch/batch_containers.py\"><span style=\"color: #7f7f7f\">batch_containers.py</span></a><span style=\"color: #7f7f7f\">:921</span>\n",
       "</pre>\n"
      ],
      "text/plain": [
       "<rich.jupyter.JupyterRenderable at 0x7f941dceb550>"
      ]
     },
     "metadata": {},
     "output_type": "display_data"
    },
    {
     "name": "stderr",
     "output_type": "stream",
     "text": [
      "/anaconda/envs/bonsai-batch/lib/python3.7/site-packages/msal_extensions/token_cache.py:61: RuntimeWarning: You are using an unprotected token cache\n",
      "  warnings.warn(\"You are using an unprotected token cache\", RuntimeWarning)\n"
     ]
    },
    {
     "data": {
      "text/html": [
       "<pre style=\"white-space:pre;overflow-x:auto;line-height:normal;font-family:Menlo,'DejaVu Sans Mono',consolas,'Courier New',monospace\"><span style=\"color: #7fbfbf\">[17:18:41] </span><span style=\"color: #000080\">INFO    </span> Checking brain is in train mode                   <a href=\"file:///home/alizaidi/bonsai/bonsai-batch/batch_containers.py\"><span style=\"color: #7f7f7f\">batch_containers.py</span></a><span style=\"color: #7f7f7f\">:943</span>\n",
       "</pre>\n"
      ],
      "text/plain": [
       "<rich.jupyter.JupyterRenderable at 0x7f941dcf80d0>"
      ]
     },
     "metadata": {},
     "output_type": "display_data"
    },
    {
     "name": "stderr",
     "output_type": "stream",
     "text": [
      "/anaconda/envs/bonsai-batch/lib/python3.7/site-packages/msal_extensions/token_cache.py:61: RuntimeWarning: You are using an unprotected token cache\n",
      "  warnings.warn(\"You are using an unprotected token cache\", RuntimeWarning)\n"
     ]
    },
    {
     "data": {
      "text/html": [
       "<pre style=\"white-space:pre;overflow-x:auto;line-height:normal;font-family:Menlo,'DejaVu Sans Mono',consolas,'Courier New',monospace\"><span style=\"color: #7fbfbf\">[17:18:43] </span><span style=\"color: #000080\">INFO    </span> Brain is not training yet. Starting training<span style=\"color: #808000\">...</span>   <a href=\"file:///home/alizaidi/bonsai/bonsai-batch/batch_containers.py\"><span style=\"color: #7f7f7f\">batch_containers.py</span></a><span style=\"color: #7f7f7f\">:951</span>\n",
       "</pre>\n"
      ],
      "text/plain": [
       "<rich.jupyter.JupyterRenderable at 0x7f9460260610>"
      ]
     },
     "metadata": {},
     "output_type": "display_data"
    },
    {
     "data": {
      "text/html": [
       "<pre style=\"white-space:pre;overflow-x:auto;line-height:normal;font-family:Menlo,'DejaVu Sans Mono',consolas,'Courier New',monospace\"><span style=\"color: #7fbfbf\">           </span><span style=\"color: #000080\">INFO    </span> Pushing inkling to brain name cp_goalpri_tp and   <a href=\"file:///home/alizaidi/bonsai/bonsai-batch/batch_containers.py\"><span style=\"color: #7f7f7f\">batch_containers.py</span></a><span style=\"color: #7f7f7f\">:954</span>\n",
       "                    brain-version <span style=\"color: #000080; font-weight: bold\">1</span>                                                          \n",
       "</pre>\n"
      ],
      "text/plain": [
       "<rich.jupyter.JupyterRenderable at 0x7f9460260e90>"
      ]
     },
     "metadata": {},
     "output_type": "display_data"
    },
    {
     "name": "stderr",
     "output_type": "stream",
     "text": [
      "/anaconda/envs/bonsai-batch/lib/python3.7/site-packages/msal_extensions/token_cache.py:61: RuntimeWarning: You are using an unprotected token cache\n",
      "  warnings.warn(\"You are using an unprotected token cache\", RuntimeWarning)\n"
     ]
    },
    {
     "data": {
      "text/html": [
       "<pre style=\"white-space:pre;overflow-x:auto;line-height:normal;font-family:Menlo,'DejaVu Sans Mono',consolas,'Courier New',monospace\"><span style=\"color: #7fbfbf\">[17:18:46] </span><span style=\"color: #000080\">INFO    </span> Running simulators using managed simulator       <a href=\"file:///home/alizaidi/bonsai/bonsai-batch/batch_containers.py\"><span style=\"color: #7f7f7f\">batch_containers.py</span></a><span style=\"color: #7f7f7f\">:1009</span>\n",
       "                    package mba-pole                                                         \n",
       "</pre>\n"
      ],
      "text/plain": [
       "<rich.jupyter.JupyterRenderable at 0x7f9460260510>"
      ]
     },
     "metadata": {},
     "output_type": "display_data"
    },
    {
     "name": "stderr",
     "output_type": "stream",
     "text": [
      "/anaconda/envs/bonsai-batch/lib/python3.7/site-packages/msal_extensions/token_cache.py:61: RuntimeWarning: You are using an unprotected token cache\n",
      "  warnings.warn(\"You are using an unprotected token cache\", RuntimeWarning)\n",
      "/anaconda/envs/bonsai-batch/lib/python3.7/site-packages/msal_extensions/token_cache.py:61: RuntimeWarning: You are using an unprotected token cache\n",
      "  warnings.warn(\"You are using an unprotected token cache\", RuntimeWarning)\n",
      "/anaconda/envs/bonsai-batch/lib/python3.7/site-packages/msal_extensions/token_cache.py:61: RuntimeWarning: You are using an unprotected token cache\n",
      "  warnings.warn(\"You are using an unprotected token cache\", RuntimeWarning)\n"
     ]
    },
    {
     "data": {
      "text/html": [
       "<pre style=\"white-space:pre;overflow-x:auto;line-height:normal;font-family:Menlo,'DejaVu Sans Mono',consolas,'Courier New',monospace\"><span style=\"color: #7fbfbf\">[17:18:54] </span><span style=\"color: #800000\">WARNING </span> No brain: cp_goalpri_tp with version: <span style=\"color: #000080; font-weight: bold\">2</span> found,    <a href=\"file:///home/alizaidi/bonsai/bonsai-batch/batch_containers.py\"><span style=\"color: #7f7f7f\">batch_containers.py</span></a><span style=\"color: #7f7f7f\">:933</span>\n",
       "                    creating<span style=\"color: #808000\">...</span>                                                              \n",
       "</pre>\n"
      ],
      "text/plain": [
       "<rich.jupyter.JupyterRenderable at 0x7f941dd00e90>"
      ]
     },
     "metadata": {},
     "output_type": "display_data"
    },
    {
     "name": "stderr",
     "output_type": "stream",
     "text": [
      "/anaconda/envs/bonsai-batch/lib/python3.7/site-packages/msal_extensions/token_cache.py:61: RuntimeWarning: You are using an unprotected token cache\n",
      "  warnings.warn(\"You are using an unprotected token cache\", RuntimeWarning)\n"
     ]
    },
    {
     "name": "stdout",
     "output_type": "stream",
     "text": [
      "Copied cp_goalpri_tp version 1 to version 2.\n"
     ]
    },
    {
     "data": {
      "text/html": [
       "<pre style=\"white-space:pre;overflow-x:auto;line-height:normal;font-family:Menlo,'DejaVu Sans Mono',consolas,'Courier New',monospace\"><span style=\"color: #7fbfbf\">[17:19:26] </span><span style=\"color: #000080\">INFO    </span> Checking brain is in train mode                   <a href=\"file:///home/alizaidi/bonsai/bonsai-batch/batch_containers.py\"><span style=\"color: #7f7f7f\">batch_containers.py</span></a><span style=\"color: #7f7f7f\">:943</span>\n",
       "</pre>\n"
      ],
      "text/plain": [
       "<rich.jupyter.JupyterRenderable at 0x7f941dcf9290>"
      ]
     },
     "metadata": {},
     "output_type": "display_data"
    },
    {
     "name": "stderr",
     "output_type": "stream",
     "text": [
      "/anaconda/envs/bonsai-batch/lib/python3.7/site-packages/msal_extensions/token_cache.py:61: RuntimeWarning: You are using an unprotected token cache\n",
      "  warnings.warn(\"You are using an unprotected token cache\", RuntimeWarning)\n"
     ]
    },
    {
     "data": {
      "text/html": [
       "<pre style=\"white-space:pre;overflow-x:auto;line-height:normal;font-family:Menlo,'DejaVu Sans Mono',consolas,'Courier New',monospace\"><span style=\"color: #7fbfbf\">[17:19:28] </span><span style=\"color: #000080\">INFO    </span> Brain is not training yet. Starting training<span style=\"color: #808000\">...</span>   <a href=\"file:///home/alizaidi/bonsai/bonsai-batch/batch_containers.py\"><span style=\"color: #7f7f7f\">batch_containers.py</span></a><span style=\"color: #7f7f7f\">:951</span>\n",
       "</pre>\n"
      ],
      "text/plain": [
       "<rich.jupyter.JupyterRenderable at 0x7f941dcf9c50>"
      ]
     },
     "metadata": {},
     "output_type": "display_data"
    },
    {
     "data": {
      "text/html": [
       "<pre style=\"white-space:pre;overflow-x:auto;line-height:normal;font-family:Menlo,'DejaVu Sans Mono',consolas,'Courier New',monospace\"><span style=\"color: #7fbfbf\">           </span><span style=\"color: #000080\">INFO    </span> Pushing inkling to brain name cp_goalpri_tp and   <a href=\"file:///home/alizaidi/bonsai/bonsai-batch/batch_containers.py\"><span style=\"color: #7f7f7f\">batch_containers.py</span></a><span style=\"color: #7f7f7f\">:954</span>\n",
       "                    brain-version <span style=\"color: #000080; font-weight: bold\">2</span>                                                          \n",
       "</pre>\n"
      ],
      "text/plain": [
       "<rich.jupyter.JupyterRenderable at 0x7f941dcf9850>"
      ]
     },
     "metadata": {},
     "output_type": "display_data"
    },
    {
     "name": "stderr",
     "output_type": "stream",
     "text": [
      "/anaconda/envs/bonsai-batch/lib/python3.7/site-packages/msal_extensions/token_cache.py:61: RuntimeWarning: You are using an unprotected token cache\n",
      "  warnings.warn(\"You are using an unprotected token cache\", RuntimeWarning)\n"
     ]
    },
    {
     "data": {
      "text/html": [
       "<pre style=\"white-space:pre;overflow-x:auto;line-height:normal;font-family:Menlo,'DejaVu Sans Mono',consolas,'Courier New',monospace\"><span style=\"color: #7fbfbf\">[17:19:31] </span><span style=\"color: #000080\">INFO    </span> Running simulators using managed simulator       <a href=\"file:///home/alizaidi/bonsai/bonsai-batch/batch_containers.py\"><span style=\"color: #7f7f7f\">batch_containers.py</span></a><span style=\"color: #7f7f7f\">:1009</span>\n",
       "                    package mba-pole                                                         \n",
       "</pre>\n"
      ],
      "text/plain": [
       "<rich.jupyter.JupyterRenderable at 0x7f941dcf7910>"
      ]
     },
     "metadata": {},
     "output_type": "display_data"
    },
    {
     "name": "stderr",
     "output_type": "stream",
     "text": [
      "/anaconda/envs/bonsai-batch/lib/python3.7/site-packages/msal_extensions/token_cache.py:61: RuntimeWarning: You are using an unprotected token cache\n",
      "  warnings.warn(\"You are using an unprotected token cache\", RuntimeWarning)\n",
      "/anaconda/envs/bonsai-batch/lib/python3.7/site-packages/msal_extensions/token_cache.py:61: RuntimeWarning: You are using an unprotected token cache\n",
      "  warnings.warn(\"You are using an unprotected token cache\", RuntimeWarning)\n",
      "/anaconda/envs/bonsai-batch/lib/python3.7/site-packages/msal_extensions/token_cache.py:61: RuntimeWarning: You are using an unprotected token cache\n",
      "  warnings.warn(\"You are using an unprotected token cache\", RuntimeWarning)\n"
     ]
    },
    {
     "data": {
      "text/html": [
       "<pre style=\"white-space:pre;overflow-x:auto;line-height:normal;font-family:Menlo,'DejaVu Sans Mono',consolas,'Courier New',monospace\"><span style=\"color: #7fbfbf\">[17:19:38] </span><span style=\"color: #800000\">WARNING </span> No brain: cp_goalpri_tp with version: <span style=\"color: #000080; font-weight: bold\">3</span> found,    <a href=\"file:///home/alizaidi/bonsai/bonsai-batch/batch_containers.py\"><span style=\"color: #7f7f7f\">batch_containers.py</span></a><span style=\"color: #7f7f7f\">:933</span>\n",
       "                    creating<span style=\"color: #808000\">...</span>                                                              \n",
       "</pre>\n"
      ],
      "text/plain": [
       "<rich.jupyter.JupyterRenderable at 0x7f941dd00d90>"
      ]
     },
     "metadata": {},
     "output_type": "display_data"
    },
    {
     "name": "stderr",
     "output_type": "stream",
     "text": [
      "/anaconda/envs/bonsai-batch/lib/python3.7/site-packages/msal_extensions/token_cache.py:61: RuntimeWarning: You are using an unprotected token cache\n",
      "  warnings.warn(\"You are using an unprotected token cache\", RuntimeWarning)\n"
     ]
    },
    {
     "name": "stdout",
     "output_type": "stream",
     "text": [
      "Copied cp_goalpri_tp version 2 to version 3.\n"
     ]
    },
    {
     "data": {
      "text/html": [
       "<pre style=\"white-space:pre;overflow-x:auto;line-height:normal;font-family:Menlo,'DejaVu Sans Mono',consolas,'Courier New',monospace\"><span style=\"color: #7fbfbf\">[17:20:10] </span><span style=\"color: #000080\">INFO    </span> Checking brain is in train mode                   <a href=\"file:///home/alizaidi/bonsai/bonsai-batch/batch_containers.py\"><span style=\"color: #7f7f7f\">batch_containers.py</span></a><span style=\"color: #7f7f7f\">:943</span>\n",
       "</pre>\n"
      ],
      "text/plain": [
       "<rich.jupyter.JupyterRenderable at 0x7f941dcf9e90>"
      ]
     },
     "metadata": {},
     "output_type": "display_data"
    },
    {
     "name": "stderr",
     "output_type": "stream",
     "text": [
      "/anaconda/envs/bonsai-batch/lib/python3.7/site-packages/msal_extensions/token_cache.py:61: RuntimeWarning: You are using an unprotected token cache\n",
      "  warnings.warn(\"You are using an unprotected token cache\", RuntimeWarning)\n"
     ]
    },
    {
     "data": {
      "text/html": [
       "<pre style=\"white-space:pre;overflow-x:auto;line-height:normal;font-family:Menlo,'DejaVu Sans Mono',consolas,'Courier New',monospace\"><span style=\"color: #7fbfbf\">[17:20:12] </span><span style=\"color: #000080\">INFO    </span> Brain is not training yet. Starting training<span style=\"color: #808000\">...</span>   <a href=\"file:///home/alizaidi/bonsai/bonsai-batch/batch_containers.py\"><span style=\"color: #7f7f7f\">batch_containers.py</span></a><span style=\"color: #7f7f7f\">:951</span>\n",
       "</pre>\n"
      ],
      "text/plain": [
       "<rich.jupyter.JupyterRenderable at 0x7f941dcf9290>"
      ]
     },
     "metadata": {},
     "output_type": "display_data"
    },
    {
     "data": {
      "text/html": [
       "<pre style=\"white-space:pre;overflow-x:auto;line-height:normal;font-family:Menlo,'DejaVu Sans Mono',consolas,'Courier New',monospace\"><span style=\"color: #7fbfbf\">           </span><span style=\"color: #000080\">INFO    </span> Pushing inkling to brain name cp_goalpri_tp and   <a href=\"file:///home/alizaidi/bonsai/bonsai-batch/batch_containers.py\"><span style=\"color: #7f7f7f\">batch_containers.py</span></a><span style=\"color: #7f7f7f\">:954</span>\n",
       "                    brain-version <span style=\"color: #000080; font-weight: bold\">3</span>                                                          \n",
       "</pre>\n"
      ],
      "text/plain": [
       "<rich.jupyter.JupyterRenderable at 0x7f941dcf92d0>"
      ]
     },
     "metadata": {},
     "output_type": "display_data"
    },
    {
     "name": "stderr",
     "output_type": "stream",
     "text": [
      "/anaconda/envs/bonsai-batch/lib/python3.7/site-packages/msal_extensions/token_cache.py:61: RuntimeWarning: You are using an unprotected token cache\n",
      "  warnings.warn(\"You are using an unprotected token cache\", RuntimeWarning)\n"
     ]
    },
    {
     "data": {
      "text/html": [
       "<pre style=\"white-space:pre;overflow-x:auto;line-height:normal;font-family:Menlo,'DejaVu Sans Mono',consolas,'Courier New',monospace\"><span style=\"color: #7fbfbf\">[17:20:15] </span><span style=\"color: #000080\">INFO    </span> Running simulators using managed simulator       <a href=\"file:///home/alizaidi/bonsai/bonsai-batch/batch_containers.py\"><span style=\"color: #7f7f7f\">batch_containers.py</span></a><span style=\"color: #7f7f7f\">:1009</span>\n",
       "                    package mba-pole                                                         \n",
       "</pre>\n"
      ],
      "text/plain": [
       "<rich.jupyter.JupyterRenderable at 0x7f941dcf9e90>"
      ]
     },
     "metadata": {},
     "output_type": "display_data"
    },
    {
     "name": "stderr",
     "output_type": "stream",
     "text": [
      "/anaconda/envs/bonsai-batch/lib/python3.7/site-packages/msal_extensions/token_cache.py:61: RuntimeWarning: You are using an unprotected token cache\n",
      "  warnings.warn(\"You are using an unprotected token cache\", RuntimeWarning)\n",
      "/anaconda/envs/bonsai-batch/lib/python3.7/site-packages/msal_extensions/token_cache.py:61: RuntimeWarning: You are using an unprotected token cache\n",
      "  warnings.warn(\"You are using an unprotected token cache\", RuntimeWarning)\n",
      "/anaconda/envs/bonsai-batch/lib/python3.7/site-packages/msal_extensions/token_cache.py:61: RuntimeWarning: You are using an unprotected token cache\n",
      "  warnings.warn(\"You are using an unprotected token cache\", RuntimeWarning)\n"
     ]
    },
    {
     "data": {
      "text/html": [
       "<pre style=\"white-space:pre;overflow-x:auto;line-height:normal;font-family:Menlo,'DejaVu Sans Mono',consolas,'Courier New',monospace\"><span style=\"color: #7fbfbf\">[17:20:23] </span><span style=\"color: #800000\">WARNING </span> No brain: cp_goalpri_tp with version: <span style=\"color: #000080; font-weight: bold\">4</span> found,    <a href=\"file:///home/alizaidi/bonsai/bonsai-batch/batch_containers.py\"><span style=\"color: #7f7f7f\">batch_containers.py</span></a><span style=\"color: #7f7f7f\">:933</span>\n",
       "                    creating<span style=\"color: #808000\">...</span>                                                              \n",
       "</pre>\n"
      ],
      "text/plain": [
       "<rich.jupyter.JupyterRenderable at 0x7f941dd00f10>"
      ]
     },
     "metadata": {},
     "output_type": "display_data"
    },
    {
     "name": "stderr",
     "output_type": "stream",
     "text": [
      "/anaconda/envs/bonsai-batch/lib/python3.7/site-packages/msal_extensions/token_cache.py:61: RuntimeWarning: You are using an unprotected token cache\n",
      "  warnings.warn(\"You are using an unprotected token cache\", RuntimeWarning)\n"
     ]
    },
    {
     "name": "stdout",
     "output_type": "stream",
     "text": [
      "Copied cp_goalpri_tp version 3 to version 4.\n"
     ]
    },
    {
     "data": {
      "text/html": [
       "<pre style=\"white-space:pre;overflow-x:auto;line-height:normal;font-family:Menlo,'DejaVu Sans Mono',consolas,'Courier New',monospace\"><span style=\"color: #7fbfbf\">[17:20:56] </span><span style=\"color: #000080\">INFO    </span> Checking brain is in train mode                   <a href=\"file:///home/alizaidi/bonsai/bonsai-batch/batch_containers.py\"><span style=\"color: #7f7f7f\">batch_containers.py</span></a><span style=\"color: #7f7f7f\">:943</span>\n",
       "</pre>\n"
      ],
      "text/plain": [
       "<rich.jupyter.JupyterRenderable at 0x7f941dcf9ad0>"
      ]
     },
     "metadata": {},
     "output_type": "display_data"
    },
    {
     "name": "stderr",
     "output_type": "stream",
     "text": [
      "/anaconda/envs/bonsai-batch/lib/python3.7/site-packages/msal_extensions/token_cache.py:61: RuntimeWarning: You are using an unprotected token cache\n",
      "  warnings.warn(\"You are using an unprotected token cache\", RuntimeWarning)\n"
     ]
    },
    {
     "data": {
      "text/html": [
       "<pre style=\"white-space:pre;overflow-x:auto;line-height:normal;font-family:Menlo,'DejaVu Sans Mono',consolas,'Courier New',monospace\"><span style=\"color: #7fbfbf\">[17:20:58] </span><span style=\"color: #000080\">INFO    </span> Brain is not training yet. Starting training<span style=\"color: #808000\">...</span>   <a href=\"file:///home/alizaidi/bonsai/bonsai-batch/batch_containers.py\"><span style=\"color: #7f7f7f\">batch_containers.py</span></a><span style=\"color: #7f7f7f\">:951</span>\n",
       "</pre>\n"
      ],
      "text/plain": [
       "<rich.jupyter.JupyterRenderable at 0x7f941dcf9c50>"
      ]
     },
     "metadata": {},
     "output_type": "display_data"
    },
    {
     "data": {
      "text/html": [
       "<pre style=\"white-space:pre;overflow-x:auto;line-height:normal;font-family:Menlo,'DejaVu Sans Mono',consolas,'Courier New',monospace\"><span style=\"color: #7fbfbf\">           </span><span style=\"color: #000080\">INFO    </span> Pushing inkling to brain name cp_goalpri_tp and   <a href=\"file:///home/alizaidi/bonsai/bonsai-batch/batch_containers.py\"><span style=\"color: #7f7f7f\">batch_containers.py</span></a><span style=\"color: #7f7f7f\">:954</span>\n",
       "                    brain-version <span style=\"color: #000080; font-weight: bold\">4</span>                                                          \n",
       "</pre>\n"
      ],
      "text/plain": [
       "<rich.jupyter.JupyterRenderable at 0x7f941dcf9dd0>"
      ]
     },
     "metadata": {},
     "output_type": "display_data"
    },
    {
     "name": "stderr",
     "output_type": "stream",
     "text": [
      "/anaconda/envs/bonsai-batch/lib/python3.7/site-packages/msal_extensions/token_cache.py:61: RuntimeWarning: You are using an unprotected token cache\n",
      "  warnings.warn(\"You are using an unprotected token cache\", RuntimeWarning)\n"
     ]
    },
    {
     "data": {
      "text/html": [
       "<pre style=\"white-space:pre;overflow-x:auto;line-height:normal;font-family:Menlo,'DejaVu Sans Mono',consolas,'Courier New',monospace\"><span style=\"color: #7fbfbf\">[17:21:01] </span><span style=\"color: #000080\">INFO    </span> Running simulators using managed simulator       <a href=\"file:///home/alizaidi/bonsai/bonsai-batch/batch_containers.py\"><span style=\"color: #7f7f7f\">batch_containers.py</span></a><span style=\"color: #7f7f7f\">:1009</span>\n",
       "                    package mba-pole                                                         \n",
       "</pre>\n"
      ],
      "text/plain": [
       "<rich.jupyter.JupyterRenderable at 0x7f941dcf7e10>"
      ]
     },
     "metadata": {},
     "output_type": "display_data"
    },
    {
     "name": "stderr",
     "output_type": "stream",
     "text": [
      "/anaconda/envs/bonsai-batch/lib/python3.7/site-packages/msal_extensions/token_cache.py:61: RuntimeWarning: You are using an unprotected token cache\n",
      "  warnings.warn(\"You are using an unprotected token cache\", RuntimeWarning)\n",
      "/anaconda/envs/bonsai-batch/lib/python3.7/site-packages/msal_extensions/token_cache.py:61: RuntimeWarning: You are using an unprotected token cache\n",
      "  warnings.warn(\"You are using an unprotected token cache\", RuntimeWarning)\n"
     ]
    },
    {
     "data": {
      "text/html": [
       "<pre style=\"white-space:pre;overflow-x:auto;line-height:normal;font-family:Menlo,'DejaVu Sans Mono',consolas,'Courier New',monospace\"><span style=\"color: #7fbfbf\">[17:21:08] </span><span style=\"color: #800000\">WARNING </span> No brain cp_goalwpri_tp_memory found, creating<span style=\"color: #808000\">...</span> <a href=\"file:///home/alizaidi/bonsai/bonsai-batch/batch_containers.py\"><span style=\"color: #7f7f7f\">batch_containers.py</span></a><span style=\"color: #7f7f7f\">:921</span>\n",
       "</pre>\n"
      ],
      "text/plain": [
       "<rich.jupyter.JupyterRenderable at 0x7f941dcf9a10>"
      ]
     },
     "metadata": {},
     "output_type": "display_data"
    },
    {
     "name": "stderr",
     "output_type": "stream",
     "text": [
      "/anaconda/envs/bonsai-batch/lib/python3.7/site-packages/msal_extensions/token_cache.py:61: RuntimeWarning: You are using an unprotected token cache\n",
      "  warnings.warn(\"You are using an unprotected token cache\", RuntimeWarning)\n"
     ]
    },
    {
     "data": {
      "text/html": [
       "<pre style=\"white-space:pre;overflow-x:auto;line-height:normal;font-family:Menlo,'DejaVu Sans Mono',consolas,'Courier New',monospace\"><span style=\"color: #7fbfbf\">[17:21:10] </span><span style=\"color: #000080\">INFO    </span> Checking brain is in train mode                   <a href=\"file:///home/alizaidi/bonsai/bonsai-batch/batch_containers.py\"><span style=\"color: #7f7f7f\">batch_containers.py</span></a><span style=\"color: #7f7f7f\">:943</span>\n",
       "</pre>\n"
      ],
      "text/plain": [
       "<rich.jupyter.JupyterRenderable at 0x7f941dcf9c10>"
      ]
     },
     "metadata": {},
     "output_type": "display_data"
    },
    {
     "name": "stderr",
     "output_type": "stream",
     "text": [
      "/anaconda/envs/bonsai-batch/lib/python3.7/site-packages/msal_extensions/token_cache.py:61: RuntimeWarning: You are using an unprotected token cache\n",
      "  warnings.warn(\"You are using an unprotected token cache\", RuntimeWarning)\n"
     ]
    },
    {
     "data": {
      "text/html": [
       "<pre style=\"white-space:pre;overflow-x:auto;line-height:normal;font-family:Menlo,'DejaVu Sans Mono',consolas,'Courier New',monospace\"><span style=\"color: #7fbfbf\">[17:21:12] </span><span style=\"color: #000080\">INFO    </span> Brain is not training yet. Starting training<span style=\"color: #808000\">...</span>   <a href=\"file:///home/alizaidi/bonsai/bonsai-batch/batch_containers.py\"><span style=\"color: #7f7f7f\">batch_containers.py</span></a><span style=\"color: #7f7f7f\">:951</span>\n",
       "</pre>\n"
      ],
      "text/plain": [
       "<rich.jupyter.JupyterRenderable at 0x7f946026e750>"
      ]
     },
     "metadata": {},
     "output_type": "display_data"
    },
    {
     "data": {
      "text/html": [
       "<pre style=\"white-space:pre;overflow-x:auto;line-height:normal;font-family:Menlo,'DejaVu Sans Mono',consolas,'Courier New',monospace\"><span style=\"color: #7fbfbf\">           </span><span style=\"color: #000080\">INFO    </span> Pushing inkling to brain name                     <a href=\"file:///home/alizaidi/bonsai/bonsai-batch/batch_containers.py\"><span style=\"color: #7f7f7f\">batch_containers.py</span></a><span style=\"color: #7f7f7f\">:954</span>\n",
       "                    cp_goalwpri_tp_memory and brain-version <span style=\"color: #000080; font-weight: bold\">1</span>                                \n",
       "</pre>\n"
      ],
      "text/plain": [
       "<rich.jupyter.JupyterRenderable at 0x7f946026e750>"
      ]
     },
     "metadata": {},
     "output_type": "display_data"
    },
    {
     "name": "stderr",
     "output_type": "stream",
     "text": [
      "/anaconda/envs/bonsai-batch/lib/python3.7/site-packages/msal_extensions/token_cache.py:61: RuntimeWarning: You are using an unprotected token cache\n",
      "  warnings.warn(\"You are using an unprotected token cache\", RuntimeWarning)\n"
     ]
    },
    {
     "data": {
      "text/html": [
       "<pre style=\"white-space:pre;overflow-x:auto;line-height:normal;font-family:Menlo,'DejaVu Sans Mono',consolas,'Courier New',monospace\"><span style=\"color: #7fbfbf\">[17:21:14] </span><span style=\"color: #000080\">INFO    </span> Running simulators using managed simulator       <a href=\"file:///home/alizaidi/bonsai/bonsai-batch/batch_containers.py\"><span style=\"color: #7f7f7f\">batch_containers.py</span></a><span style=\"color: #7f7f7f\">:1009</span>\n",
       "                    package mba-pole                                                         \n",
       "</pre>\n"
      ],
      "text/plain": [
       "<rich.jupyter.JupyterRenderable at 0x7f946026e290>"
      ]
     },
     "metadata": {},
     "output_type": "display_data"
    },
    {
     "name": "stderr",
     "output_type": "stream",
     "text": [
      "/anaconda/envs/bonsai-batch/lib/python3.7/site-packages/msal_extensions/token_cache.py:61: RuntimeWarning: You are using an unprotected token cache\n",
      "  warnings.warn(\"You are using an unprotected token cache\", RuntimeWarning)\n",
      "/anaconda/envs/bonsai-batch/lib/python3.7/site-packages/msal_extensions/token_cache.py:61: RuntimeWarning: You are using an unprotected token cache\n",
      "  warnings.warn(\"You are using an unprotected token cache\", RuntimeWarning)\n",
      "/anaconda/envs/bonsai-batch/lib/python3.7/site-packages/msal_extensions/token_cache.py:61: RuntimeWarning: You are using an unprotected token cache\n",
      "  warnings.warn(\"You are using an unprotected token cache\", RuntimeWarning)\n"
     ]
    },
    {
     "data": {
      "text/html": [
       "<pre style=\"white-space:pre;overflow-x:auto;line-height:normal;font-family:Menlo,'DejaVu Sans Mono',consolas,'Courier New',monospace\"><span style=\"color: #7fbfbf\">[17:21:22] </span><span style=\"color: #800000\">WARNING </span> No brain: cp_goalwpri_tp_memory with version: <span style=\"color: #000080; font-weight: bold\">2</span>   <a href=\"file:///home/alizaidi/bonsai/bonsai-batch/batch_containers.py\"><span style=\"color: #7f7f7f\">batch_containers.py</span></a><span style=\"color: #7f7f7f\">:933</span>\n",
       "                    found, creating<span style=\"color: #808000\">...</span>                                                       \n",
       "</pre>\n"
      ],
      "text/plain": [
       "<rich.jupyter.JupyterRenderable at 0x7f941dcf91d0>"
      ]
     },
     "metadata": {},
     "output_type": "display_data"
    },
    {
     "name": "stderr",
     "output_type": "stream",
     "text": [
      "/anaconda/envs/bonsai-batch/lib/python3.7/site-packages/msal_extensions/token_cache.py:61: RuntimeWarning: You are using an unprotected token cache\n",
      "  warnings.warn(\"You are using an unprotected token cache\", RuntimeWarning)\n"
     ]
    },
    {
     "name": "stdout",
     "output_type": "stream",
     "text": [
      "Copied cp_goalwpri_tp_memory version 1 to version 2.\n"
     ]
    },
    {
     "data": {
      "text/html": [
       "<pre style=\"white-space:pre;overflow-x:auto;line-height:normal;font-family:Menlo,'DejaVu Sans Mono',consolas,'Courier New',monospace\"><span style=\"color: #7fbfbf\">[17:21:54] </span><span style=\"color: #000080\">INFO    </span> Checking brain is in train mode                   <a href=\"file:///home/alizaidi/bonsai/bonsai-batch/batch_containers.py\"><span style=\"color: #7f7f7f\">batch_containers.py</span></a><span style=\"color: #7f7f7f\">:943</span>\n",
       "</pre>\n"
      ],
      "text/plain": [
       "<rich.jupyter.JupyterRenderable at 0x7f941dcf7510>"
      ]
     },
     "metadata": {},
     "output_type": "display_data"
    },
    {
     "name": "stderr",
     "output_type": "stream",
     "text": [
      "/anaconda/envs/bonsai-batch/lib/python3.7/site-packages/msal_extensions/token_cache.py:61: RuntimeWarning: You are using an unprotected token cache\n",
      "  warnings.warn(\"You are using an unprotected token cache\", RuntimeWarning)\n"
     ]
    },
    {
     "data": {
      "text/html": [
       "<pre style=\"white-space:pre;overflow-x:auto;line-height:normal;font-family:Menlo,'DejaVu Sans Mono',consolas,'Courier New',monospace\"><span style=\"color: #7fbfbf\">[17:21:56] </span><span style=\"color: #000080\">INFO    </span> Brain is not training yet. Starting training<span style=\"color: #808000\">...</span>   <a href=\"file:///home/alizaidi/bonsai/bonsai-batch/batch_containers.py\"><span style=\"color: #7f7f7f\">batch_containers.py</span></a><span style=\"color: #7f7f7f\">:951</span>\n",
       "</pre>\n"
      ],
      "text/plain": [
       "<rich.jupyter.JupyterRenderable at 0x7f941dcf7790>"
      ]
     },
     "metadata": {},
     "output_type": "display_data"
    },
    {
     "data": {
      "text/html": [
       "<pre style=\"white-space:pre;overflow-x:auto;line-height:normal;font-family:Menlo,'DejaVu Sans Mono',consolas,'Courier New',monospace\"><span style=\"color: #7fbfbf\">           </span><span style=\"color: #000080\">INFO    </span> Pushing inkling to brain name                     <a href=\"file:///home/alizaidi/bonsai/bonsai-batch/batch_containers.py\"><span style=\"color: #7f7f7f\">batch_containers.py</span></a><span style=\"color: #7f7f7f\">:954</span>\n",
       "                    cp_goalwpri_tp_memory and brain-version <span style=\"color: #000080; font-weight: bold\">2</span>                                \n",
       "</pre>\n"
      ],
      "text/plain": [
       "<rich.jupyter.JupyterRenderable at 0x7f941dcebf10>"
      ]
     },
     "metadata": {},
     "output_type": "display_data"
    },
    {
     "name": "stderr",
     "output_type": "stream",
     "text": [
      "/anaconda/envs/bonsai-batch/lib/python3.7/site-packages/msal_extensions/token_cache.py:61: RuntimeWarning: You are using an unprotected token cache\n",
      "  warnings.warn(\"You are using an unprotected token cache\", RuntimeWarning)\n"
     ]
    },
    {
     "data": {
      "text/html": [
       "<pre style=\"white-space:pre;overflow-x:auto;line-height:normal;font-family:Menlo,'DejaVu Sans Mono',consolas,'Courier New',monospace\"><span style=\"color: #7fbfbf\">[17:21:59] </span><span style=\"color: #000080\">INFO    </span> Running simulators using managed simulator       <a href=\"file:///home/alizaidi/bonsai/bonsai-batch/batch_containers.py\"><span style=\"color: #7f7f7f\">batch_containers.py</span></a><span style=\"color: #7f7f7f\">:1009</span>\n",
       "                    package mba-pole                                                         \n",
       "</pre>\n"
      ],
      "text/plain": [
       "<rich.jupyter.JupyterRenderable at 0x7f941dcf7e10>"
      ]
     },
     "metadata": {},
     "output_type": "display_data"
    },
    {
     "name": "stderr",
     "output_type": "stream",
     "text": [
      "/anaconda/envs/bonsai-batch/lib/python3.7/site-packages/msal_extensions/token_cache.py:61: RuntimeWarning: You are using an unprotected token cache\n",
      "  warnings.warn(\"You are using an unprotected token cache\", RuntimeWarning)\n",
      "/anaconda/envs/bonsai-batch/lib/python3.7/site-packages/msal_extensions/token_cache.py:61: RuntimeWarning: You are using an unprotected token cache\n",
      "  warnings.warn(\"You are using an unprotected token cache\", RuntimeWarning)\n",
      "/anaconda/envs/bonsai-batch/lib/python3.7/site-packages/msal_extensions/token_cache.py:61: RuntimeWarning: You are using an unprotected token cache\n",
      "  warnings.warn(\"You are using an unprotected token cache\", RuntimeWarning)\n"
     ]
    },
    {
     "data": {
      "text/html": [
       "<pre style=\"white-space:pre;overflow-x:auto;line-height:normal;font-family:Menlo,'DejaVu Sans Mono',consolas,'Courier New',monospace\"><span style=\"color: #7fbfbf\">[17:22:07] </span><span style=\"color: #800000\">WARNING </span> No brain: cp_goalwpri_tp_memory with version: <span style=\"color: #000080; font-weight: bold\">3</span>   <a href=\"file:///home/alizaidi/bonsai/bonsai-batch/batch_containers.py\"><span style=\"color: #7f7f7f\">batch_containers.py</span></a><span style=\"color: #7f7f7f\">:933</span>\n",
       "                    found, creating<span style=\"color: #808000\">...</span>                                                       \n",
       "</pre>\n"
      ],
      "text/plain": [
       "<rich.jupyter.JupyterRenderable at 0x7f941dcf9850>"
      ]
     },
     "metadata": {},
     "output_type": "display_data"
    },
    {
     "name": "stderr",
     "output_type": "stream",
     "text": [
      "/anaconda/envs/bonsai-batch/lib/python3.7/site-packages/msal_extensions/token_cache.py:61: RuntimeWarning: You are using an unprotected token cache\n",
      "  warnings.warn(\"You are using an unprotected token cache\", RuntimeWarning)\n"
     ]
    },
    {
     "name": "stdout",
     "output_type": "stream",
     "text": [
      "Copied cp_goalwpri_tp_memory version 2 to version 3.\n"
     ]
    },
    {
     "data": {
      "text/html": [
       "<pre style=\"white-space:pre;overflow-x:auto;line-height:normal;font-family:Menlo,'DejaVu Sans Mono',consolas,'Courier New',monospace\"><span style=\"color: #7fbfbf\">[17:22:39] </span><span style=\"color: #000080\">INFO    </span> Checking brain is in train mode                   <a href=\"file:///home/alizaidi/bonsai/bonsai-batch/batch_containers.py\"><span style=\"color: #7f7f7f\">batch_containers.py</span></a><span style=\"color: #7f7f7f\">:943</span>\n",
       "</pre>\n"
      ],
      "text/plain": [
       "<rich.jupyter.JupyterRenderable at 0x7f941dcf7e10>"
      ]
     },
     "metadata": {},
     "output_type": "display_data"
    },
    {
     "name": "stderr",
     "output_type": "stream",
     "text": [
      "/anaconda/envs/bonsai-batch/lib/python3.7/site-packages/msal_extensions/token_cache.py:61: RuntimeWarning: You are using an unprotected token cache\n",
      "  warnings.warn(\"You are using an unprotected token cache\", RuntimeWarning)\n"
     ]
    },
    {
     "data": {
      "text/html": [
       "<pre style=\"white-space:pre;overflow-x:auto;line-height:normal;font-family:Menlo,'DejaVu Sans Mono',consolas,'Courier New',monospace\"><span style=\"color: #7fbfbf\">[17:22:41] </span><span style=\"color: #000080\">INFO    </span> Brain is not training yet. Starting training<span style=\"color: #808000\">...</span>   <a href=\"file:///home/alizaidi/bonsai/bonsai-batch/batch_containers.py\"><span style=\"color: #7f7f7f\">batch_containers.py</span></a><span style=\"color: #7f7f7f\">:951</span>\n",
       "</pre>\n"
      ],
      "text/plain": [
       "<rich.jupyter.JupyterRenderable at 0x7f941dcf73d0>"
      ]
     },
     "metadata": {},
     "output_type": "display_data"
    },
    {
     "data": {
      "text/html": [
       "<pre style=\"white-space:pre;overflow-x:auto;line-height:normal;font-family:Menlo,'DejaVu Sans Mono',consolas,'Courier New',monospace\"><span style=\"color: #7fbfbf\">           </span><span style=\"color: #000080\">INFO    </span> Pushing inkling to brain name                     <a href=\"file:///home/alizaidi/bonsai/bonsai-batch/batch_containers.py\"><span style=\"color: #7f7f7f\">batch_containers.py</span></a><span style=\"color: #7f7f7f\">:954</span>\n",
       "                    cp_goalwpri_tp_memory and brain-version <span style=\"color: #000080; font-weight: bold\">3</span>                                \n",
       "</pre>\n"
      ],
      "text/plain": [
       "<rich.jupyter.JupyterRenderable at 0x7f941dcf7790>"
      ]
     },
     "metadata": {},
     "output_type": "display_data"
    },
    {
     "name": "stderr",
     "output_type": "stream",
     "text": [
      "/anaconda/envs/bonsai-batch/lib/python3.7/site-packages/msal_extensions/token_cache.py:61: RuntimeWarning: You are using an unprotected token cache\n",
      "  warnings.warn(\"You are using an unprotected token cache\", RuntimeWarning)\n"
     ]
    },
    {
     "data": {
      "text/html": [
       "<pre style=\"white-space:pre;overflow-x:auto;line-height:normal;font-family:Menlo,'DejaVu Sans Mono',consolas,'Courier New',monospace\"><span style=\"color: #7fbfbf\">[17:22:43] </span><span style=\"color: #000080\">INFO    </span> Running simulators using managed simulator       <a href=\"file:///home/alizaidi/bonsai/bonsai-batch/batch_containers.py\"><span style=\"color: #7f7f7f\">batch_containers.py</span></a><span style=\"color: #7f7f7f\">:1009</span>\n",
       "                    package mba-pole                                                         \n",
       "</pre>\n"
      ],
      "text/plain": [
       "<rich.jupyter.JupyterRenderable at 0x7f941dcf7e10>"
      ]
     },
     "metadata": {},
     "output_type": "display_data"
    },
    {
     "name": "stderr",
     "output_type": "stream",
     "text": [
      "/anaconda/envs/bonsai-batch/lib/python3.7/site-packages/msal_extensions/token_cache.py:61: RuntimeWarning: You are using an unprotected token cache\n",
      "  warnings.warn(\"You are using an unprotected token cache\", RuntimeWarning)\n",
      "/anaconda/envs/bonsai-batch/lib/python3.7/site-packages/msal_extensions/token_cache.py:61: RuntimeWarning: You are using an unprotected token cache\n",
      "  warnings.warn(\"You are using an unprotected token cache\", RuntimeWarning)\n",
      "/anaconda/envs/bonsai-batch/lib/python3.7/site-packages/msal_extensions/token_cache.py:61: RuntimeWarning: You are using an unprotected token cache\n",
      "  warnings.warn(\"You are using an unprotected token cache\", RuntimeWarning)\n"
     ]
    },
    {
     "data": {
      "text/html": [
       "<pre style=\"white-space:pre;overflow-x:auto;line-height:normal;font-family:Menlo,'DejaVu Sans Mono',consolas,'Courier New',monospace\"><span style=\"color: #7fbfbf\">[17:22:50] </span><span style=\"color: #800000\">WARNING </span> No brain: cp_goalwpri_tp_memory with version: <span style=\"color: #000080; font-weight: bold\">4</span>   <a href=\"file:///home/alizaidi/bonsai/bonsai-batch/batch_containers.py\"><span style=\"color: #7f7f7f\">batch_containers.py</span></a><span style=\"color: #7f7f7f\">:933</span>\n",
       "                    found, creating<span style=\"color: #808000\">...</span>                                                       \n",
       "</pre>\n"
      ],
      "text/plain": [
       "<rich.jupyter.JupyterRenderable at 0x7f941dcf9c10>"
      ]
     },
     "metadata": {},
     "output_type": "display_data"
    },
    {
     "name": "stderr",
     "output_type": "stream",
     "text": [
      "/anaconda/envs/bonsai-batch/lib/python3.7/site-packages/msal_extensions/token_cache.py:61: RuntimeWarning: You are using an unprotected token cache\n",
      "  warnings.warn(\"You are using an unprotected token cache\", RuntimeWarning)\n"
     ]
    },
    {
     "name": "stdout",
     "output_type": "stream",
     "text": [
      "Copied cp_goalwpri_tp_memory version 3 to version 4.\n"
     ]
    },
    {
     "data": {
      "text/html": [
       "<pre style=\"white-space:pre;overflow-x:auto;line-height:normal;font-family:Menlo,'DejaVu Sans Mono',consolas,'Courier New',monospace\"><span style=\"color: #7fbfbf\">[17:23:22] </span><span style=\"color: #000080\">INFO    </span> Checking brain is in train mode                   <a href=\"file:///home/alizaidi/bonsai/bonsai-batch/batch_containers.py\"><span style=\"color: #7f7f7f\">batch_containers.py</span></a><span style=\"color: #7f7f7f\">:943</span>\n",
       "</pre>\n"
      ],
      "text/plain": [
       "<rich.jupyter.JupyterRenderable at 0x7f941dd00750>"
      ]
     },
     "metadata": {},
     "output_type": "display_data"
    },
    {
     "name": "stderr",
     "output_type": "stream",
     "text": [
      "/anaconda/envs/bonsai-batch/lib/python3.7/site-packages/msal_extensions/token_cache.py:61: RuntimeWarning: You are using an unprotected token cache\n",
      "  warnings.warn(\"You are using an unprotected token cache\", RuntimeWarning)\n"
     ]
    },
    {
     "data": {
      "text/html": [
       "<pre style=\"white-space:pre;overflow-x:auto;line-height:normal;font-family:Menlo,'DejaVu Sans Mono',consolas,'Courier New',monospace\"><span style=\"color: #7fbfbf\">[17:23:24] </span><span style=\"color: #000080\">INFO    </span> Brain is not training yet. Starting training<span style=\"color: #808000\">...</span>   <a href=\"file:///home/alizaidi/bonsai/bonsai-batch/batch_containers.py\"><span style=\"color: #7f7f7f\">batch_containers.py</span></a><span style=\"color: #7f7f7f\">:951</span>\n",
       "</pre>\n"
      ],
      "text/plain": [
       "<rich.jupyter.JupyterRenderable at 0x7f941dd00990>"
      ]
     },
     "metadata": {},
     "output_type": "display_data"
    },
    {
     "data": {
      "text/html": [
       "<pre style=\"white-space:pre;overflow-x:auto;line-height:normal;font-family:Menlo,'DejaVu Sans Mono',consolas,'Courier New',monospace\"><span style=\"color: #7fbfbf\">           </span><span style=\"color: #000080\">INFO    </span> Pushing inkling to brain name                     <a href=\"file:///home/alizaidi/bonsai/bonsai-batch/batch_containers.py\"><span style=\"color: #7f7f7f\">batch_containers.py</span></a><span style=\"color: #7f7f7f\">:954</span>\n",
       "                    cp_goalwpri_tp_memory and brain-version <span style=\"color: #000080; font-weight: bold\">4</span>                                \n",
       "</pre>\n"
      ],
      "text/plain": [
       "<rich.jupyter.JupyterRenderable at 0x7f941dd00990>"
      ]
     },
     "metadata": {},
     "output_type": "display_data"
    },
    {
     "name": "stderr",
     "output_type": "stream",
     "text": [
      "/anaconda/envs/bonsai-batch/lib/python3.7/site-packages/msal_extensions/token_cache.py:61: RuntimeWarning: You are using an unprotected token cache\n",
      "  warnings.warn(\"You are using an unprotected token cache\", RuntimeWarning)\n"
     ]
    },
    {
     "data": {
      "text/html": [
       "<pre style=\"white-space:pre;overflow-x:auto;line-height:normal;font-family:Menlo,'DejaVu Sans Mono',consolas,'Courier New',monospace\"><span style=\"color: #7fbfbf\">[17:23:27] </span><span style=\"color: #000080\">INFO    </span> Running simulators using managed simulator       <a href=\"file:///home/alizaidi/bonsai/bonsai-batch/batch_containers.py\"><span style=\"color: #7f7f7f\">batch_containers.py</span></a><span style=\"color: #7f7f7f\">:1009</span>\n",
       "                    package mba-pole                                                         \n",
       "</pre>\n"
      ],
      "text/plain": [
       "<rich.jupyter.JupyterRenderable at 0x7f9460260dd0>"
      ]
     },
     "metadata": {},
     "output_type": "display_data"
    },
    {
     "name": "stderr",
     "output_type": "stream",
     "text": [
      "/anaconda/envs/bonsai-batch/lib/python3.7/site-packages/msal_extensions/token_cache.py:61: RuntimeWarning: You are using an unprotected token cache\n",
      "  warnings.warn(\"You are using an unprotected token cache\", RuntimeWarning)\n"
     ]
    }
   ],
   "source": [
    "for i, INK_FILE in enumerate(inkling_files):\n",
    "#     SIM_NAME = f\"{EXPERIMENT_NAME}_pool{i}\"\n",
    "#     TASK = f\"python main.py --sim-name {SIM_NAME}\" \n",
    "    BRAIN_NAME = INK_FILE.replace(\".ink\", \"\")\n",
    "\n",
    "    for i in range(1, NUM_RUNS + 1):\n",
    "        TASK = f\"python main.py\"\n",
    "        SIM_NAME = SIM_PACKAGE\n",
    "        BRAIN_VERSION = str(i)\n",
    "        POOL_NAME = EXPERIMENT_NAME + str(i)\n",
    "        status = run_sims_connect(\n",
    "            config_file = \"configs/userconfig.ini\",\n",
    "            task_to_run=TASK,\n",
    "            scale_platform=SCALE_PLATFORM,\n",
    "            num_instances=NUM_INSTANCES,\n",
    "            brain_name=BRAIN_NAME,\n",
    "            brain_version=BRAIN_VERSION,\n",
    "            pool_name=POOL_NAME,\n",
    "            # only needed for batch experiments\n",
    "            low_pri_nodes=LOW_PRI_NODES,\n",
    "            dedicated_nodes=DEDICATED_NODES,\n",
    "            sim_name = SIM_NAME,\n",
    "            ink_file=INK_FILE,\n",
    "            wait=False,\n",
    "            connect_sims_brain=False,\n",
    "            sleep_time=0,\n",
    "        )\n",
    "        \n",
    "        ## save experiment dictionary for tracking status later\n",
    "        running_experiments = running_experiments.append({\n",
    "            \"experiment\": EXPERIMENT_NAME,\n",
    "            \"brain\": BRAIN_NAME,\n",
    "            \"version\": BRAIN_VERSION,\n",
    "            \"concept_name\": CONCEPT_NAME,\n",
    "            \"inkling\": INK_FILE,\n",
    "            \"scale_platform\": SCALE_PLATFORM,\n",
    "            \"low_pri_nodes\": LOW_PRI_NODES,\n",
    "            \"dedicated_nodes\": DEDICATED_NODES,\n",
    "            \"sim\": SIM_NAME,\n",
    "            \"pool_name\": POOL_NAME,\n",
    "            \"task\": TASK,\n",
    "            \"experiment_start_time\": datetime.datetime.now().strftime(\"%Y-%m-%d-%H-%M-%S\"),\n",
    "            \"last_checked\": datetime.datetime.now().strftime(\"%Y-%m-%d-%H-%M-%S\"),\n",
    "            \"status\": status,\n",
    "        }, ignore_index=True)"
   ]
  },
  {
   "cell_type": "code",
   "execution_count": 15,
   "metadata": {},
   "outputs": [
    {
     "data": {
      "text/html": [
       "<div>\n",
       "<style scoped>\n",
       "    .dataframe tbody tr th:only-of-type {\n",
       "        vertical-align: middle;\n",
       "    }\n",
       "\n",
       "    .dataframe tbody tr th {\n",
       "        vertical-align: top;\n",
       "    }\n",
       "\n",
       "    .dataframe thead th {\n",
       "        text-align: right;\n",
       "    }\n",
       "</style>\n",
       "<table border=\"1\" class=\"dataframe\">\n",
       "  <thead>\n",
       "    <tr style=\"text-align: right;\">\n",
       "      <th></th>\n",
       "      <th>brain</th>\n",
       "      <th>concept_name</th>\n",
       "      <th>dedicated_nodes</th>\n",
       "      <th>experiment</th>\n",
       "      <th>experiment_start_time</th>\n",
       "      <th>inkling</th>\n",
       "      <th>last_checked</th>\n",
       "      <th>low_pri_nodes</th>\n",
       "      <th>pool_name</th>\n",
       "      <th>scale_platform</th>\n",
       "      <th>sim</th>\n",
       "      <th>status</th>\n",
       "      <th>task</th>\n",
       "      <th>version</th>\n",
       "    </tr>\n",
       "  </thead>\n",
       "  <tbody>\n",
       "    <tr>\n",
       "      <th>0</th>\n",
       "      <td>cartpole_single_concept</td>\n",
       "      <td>BalancePole</td>\n",
       "      <td>0.0</td>\n",
       "      <td>cartpole-launch-test</td>\n",
       "      <td>2022-02-09-17-11-14</td>\n",
       "      <td>cartpole_single_concept.ink</td>\n",
       "      <td>2022-02-09-17-11-14</td>\n",
       "      <td>10.0</td>\n",
       "      <td>cartpole-launch-test1</td>\n",
       "      <td>ACI</td>\n",
       "      <td>mba-pole</td>\n",
       "      <td>Active</td>\n",
       "      <td>python main.py</td>\n",
       "      <td>1</td>\n",
       "    </tr>\n",
       "    <tr>\n",
       "      <th>1</th>\n",
       "      <td>cartpole_single_concept</td>\n",
       "      <td>BalancePole</td>\n",
       "      <td>0.0</td>\n",
       "      <td>cartpole-launch-test</td>\n",
       "      <td>2022-02-09-17-11-58</td>\n",
       "      <td>cartpole_single_concept.ink</td>\n",
       "      <td>2022-02-09-17-11-58</td>\n",
       "      <td>10.0</td>\n",
       "      <td>cartpole-launch-test2</td>\n",
       "      <td>ACI</td>\n",
       "      <td>mba-pole</td>\n",
       "      <td>Active</td>\n",
       "      <td>python main.py</td>\n",
       "      <td>2</td>\n",
       "    </tr>\n",
       "    <tr>\n",
       "      <th>2</th>\n",
       "      <td>cartpole_single_concept</td>\n",
       "      <td>BalancePole</td>\n",
       "      <td>0.0</td>\n",
       "      <td>cartpole-launch-test</td>\n",
       "      <td>2022-02-09-17-12-45</td>\n",
       "      <td>cartpole_single_concept.ink</td>\n",
       "      <td>2022-02-09-17-12-45</td>\n",
       "      <td>10.0</td>\n",
       "      <td>cartpole-launch-test3</td>\n",
       "      <td>ACI</td>\n",
       "      <td>mba-pole</td>\n",
       "      <td>Active</td>\n",
       "      <td>python main.py</td>\n",
       "      <td>3</td>\n",
       "    </tr>\n",
       "    <tr>\n",
       "      <th>3</th>\n",
       "      <td>cartpole_single_concept</td>\n",
       "      <td>BalancePole</td>\n",
       "      <td>0.0</td>\n",
       "      <td>cartpole-launch-test</td>\n",
       "      <td>2022-02-09-17-13-32</td>\n",
       "      <td>cartpole_single_concept.ink</td>\n",
       "      <td>2022-02-09-17-13-32</td>\n",
       "      <td>10.0</td>\n",
       "      <td>cartpole-launch-test4</td>\n",
       "      <td>ACI</td>\n",
       "      <td>mba-pole</td>\n",
       "      <td>Active</td>\n",
       "      <td>python main.py</td>\n",
       "      <td>4</td>\n",
       "    </tr>\n",
       "    <tr>\n",
       "      <th>4</th>\n",
       "      <td>cp_memory</td>\n",
       "      <td>BalancePole</td>\n",
       "      <td>0.0</td>\n",
       "      <td>cartpole-launch-test</td>\n",
       "      <td>2022-02-09-17-13-46</td>\n",
       "      <td>cp_memory.ink</td>\n",
       "      <td>2022-02-09-17-13-46</td>\n",
       "      <td>10.0</td>\n",
       "      <td>cartpole-launch-test1</td>\n",
       "      <td>ACI</td>\n",
       "      <td>mba-pole</td>\n",
       "      <td>Active</td>\n",
       "      <td>python main.py</td>\n",
       "      <td>1</td>\n",
       "    </tr>\n",
       "    <tr>\n",
       "      <th>5</th>\n",
       "      <td>cp_memory</td>\n",
       "      <td>BalancePole</td>\n",
       "      <td>0.0</td>\n",
       "      <td>cartpole-launch-test</td>\n",
       "      <td>2022-02-09-17-14-32</td>\n",
       "      <td>cp_memory.ink</td>\n",
       "      <td>2022-02-09-17-14-32</td>\n",
       "      <td>10.0</td>\n",
       "      <td>cartpole-launch-test2</td>\n",
       "      <td>ACI</td>\n",
       "      <td>mba-pole</td>\n",
       "      <td>Active</td>\n",
       "      <td>python main.py</td>\n",
       "      <td>2</td>\n",
       "    </tr>\n",
       "    <tr>\n",
       "      <th>6</th>\n",
       "      <td>cp_memory</td>\n",
       "      <td>BalancePole</td>\n",
       "      <td>0.0</td>\n",
       "      <td>cartpole-launch-test</td>\n",
       "      <td>2022-02-09-17-15-19</td>\n",
       "      <td>cp_memory.ink</td>\n",
       "      <td>2022-02-09-17-15-19</td>\n",
       "      <td>10.0</td>\n",
       "      <td>cartpole-launch-test3</td>\n",
       "      <td>ACI</td>\n",
       "      <td>mba-pole</td>\n",
       "      <td>Active</td>\n",
       "      <td>python main.py</td>\n",
       "      <td>3</td>\n",
       "    </tr>\n",
       "    <tr>\n",
       "      <th>7</th>\n",
       "      <td>cp_memory</td>\n",
       "      <td>BalancePole</td>\n",
       "      <td>0.0</td>\n",
       "      <td>cartpole-launch-test</td>\n",
       "      <td>2022-02-09-17-16-05</td>\n",
       "      <td>cp_memory.ink</td>\n",
       "      <td>2022-02-09-17-16-05</td>\n",
       "      <td>10.0</td>\n",
       "      <td>cartpole-launch-test4</td>\n",
       "      <td>ACI</td>\n",
       "      <td>mba-pole</td>\n",
       "      <td>Active</td>\n",
       "      <td>python main.py</td>\n",
       "      <td>4</td>\n",
       "    </tr>\n",
       "    <tr>\n",
       "      <th>8</th>\n",
       "      <td>cp_goalwpri</td>\n",
       "      <td>BalancePole</td>\n",
       "      <td>0.0</td>\n",
       "      <td>cartpole-launch-test</td>\n",
       "      <td>2022-02-09-17-16-21</td>\n",
       "      <td>cp_goalwpri.ink</td>\n",
       "      <td>2022-02-09-17-16-21</td>\n",
       "      <td>10.0</td>\n",
       "      <td>cartpole-launch-test1</td>\n",
       "      <td>ACI</td>\n",
       "      <td>mba-pole</td>\n",
       "      <td>Active</td>\n",
       "      <td>python main.py</td>\n",
       "      <td>1</td>\n",
       "    </tr>\n",
       "    <tr>\n",
       "      <th>9</th>\n",
       "      <td>cp_goalwpri</td>\n",
       "      <td>BalancePole</td>\n",
       "      <td>0.0</td>\n",
       "      <td>cartpole-launch-test</td>\n",
       "      <td>2022-02-09-17-17-08</td>\n",
       "      <td>cp_goalwpri.ink</td>\n",
       "      <td>2022-02-09-17-17-08</td>\n",
       "      <td>10.0</td>\n",
       "      <td>cartpole-launch-test2</td>\n",
       "      <td>ACI</td>\n",
       "      <td>mba-pole</td>\n",
       "      <td>Active</td>\n",
       "      <td>python main.py</td>\n",
       "      <td>2</td>\n",
       "    </tr>\n",
       "    <tr>\n",
       "      <th>10</th>\n",
       "      <td>cp_goalwpri</td>\n",
       "      <td>BalancePole</td>\n",
       "      <td>0.0</td>\n",
       "      <td>cartpole-launch-test</td>\n",
       "      <td>2022-02-09-17-17-53</td>\n",
       "      <td>cp_goalwpri.ink</td>\n",
       "      <td>2022-02-09-17-17-53</td>\n",
       "      <td>10.0</td>\n",
       "      <td>cartpole-launch-test3</td>\n",
       "      <td>ACI</td>\n",
       "      <td>mba-pole</td>\n",
       "      <td>Active</td>\n",
       "      <td>python main.py</td>\n",
       "      <td>3</td>\n",
       "    </tr>\n",
       "    <tr>\n",
       "      <th>11</th>\n",
       "      <td>cp_goalwpri</td>\n",
       "      <td>BalancePole</td>\n",
       "      <td>0.0</td>\n",
       "      <td>cartpole-launch-test</td>\n",
       "      <td>2022-02-09-17-18-37</td>\n",
       "      <td>cp_goalwpri.ink</td>\n",
       "      <td>2022-02-09-17-18-37</td>\n",
       "      <td>10.0</td>\n",
       "      <td>cartpole-launch-test4</td>\n",
       "      <td>ACI</td>\n",
       "      <td>mba-pole</td>\n",
       "      <td>Active</td>\n",
       "      <td>python main.py</td>\n",
       "      <td>4</td>\n",
       "    </tr>\n",
       "    <tr>\n",
       "      <th>12</th>\n",
       "      <td>cp_goalpri_tp</td>\n",
       "      <td>BalancePole</td>\n",
       "      <td>0.0</td>\n",
       "      <td>cartpole-launch-test</td>\n",
       "      <td>2022-02-09-17-18-50</td>\n",
       "      <td>cp_goalpri_tp.ink</td>\n",
       "      <td>2022-02-09-17-18-50</td>\n",
       "      <td>10.0</td>\n",
       "      <td>cartpole-launch-test1</td>\n",
       "      <td>ACI</td>\n",
       "      <td>mba-pole</td>\n",
       "      <td>Active</td>\n",
       "      <td>python main.py</td>\n",
       "      <td>1</td>\n",
       "    </tr>\n",
       "    <tr>\n",
       "      <th>13</th>\n",
       "      <td>cp_goalpri_tp</td>\n",
       "      <td>BalancePole</td>\n",
       "      <td>0.0</td>\n",
       "      <td>cartpole-launch-test</td>\n",
       "      <td>2022-02-09-17-19-33</td>\n",
       "      <td>cp_goalpri_tp.ink</td>\n",
       "      <td>2022-02-09-17-19-33</td>\n",
       "      <td>10.0</td>\n",
       "      <td>cartpole-launch-test2</td>\n",
       "      <td>ACI</td>\n",
       "      <td>mba-pole</td>\n",
       "      <td>Active</td>\n",
       "      <td>python main.py</td>\n",
       "      <td>2</td>\n",
       "    </tr>\n",
       "    <tr>\n",
       "      <th>14</th>\n",
       "      <td>cp_goalpri_tp</td>\n",
       "      <td>BalancePole</td>\n",
       "      <td>0.0</td>\n",
       "      <td>cartpole-launch-test</td>\n",
       "      <td>2022-02-09-17-20-18</td>\n",
       "      <td>cp_goalpri_tp.ink</td>\n",
       "      <td>2022-02-09-17-20-18</td>\n",
       "      <td>10.0</td>\n",
       "      <td>cartpole-launch-test3</td>\n",
       "      <td>ACI</td>\n",
       "      <td>mba-pole</td>\n",
       "      <td>Active</td>\n",
       "      <td>python main.py</td>\n",
       "      <td>3</td>\n",
       "    </tr>\n",
       "    <tr>\n",
       "      <th>15</th>\n",
       "      <td>cp_goalpri_tp</td>\n",
       "      <td>BalancePole</td>\n",
       "      <td>0.0</td>\n",
       "      <td>cartpole-launch-test</td>\n",
       "      <td>2022-02-09-17-21-05</td>\n",
       "      <td>cp_goalpri_tp.ink</td>\n",
       "      <td>2022-02-09-17-21-05</td>\n",
       "      <td>10.0</td>\n",
       "      <td>cartpole-launch-test4</td>\n",
       "      <td>ACI</td>\n",
       "      <td>mba-pole</td>\n",
       "      <td>Active</td>\n",
       "      <td>python main.py</td>\n",
       "      <td>4</td>\n",
       "    </tr>\n",
       "    <tr>\n",
       "      <th>16</th>\n",
       "      <td>cp_goalwpri_tp_memory</td>\n",
       "      <td>BalancePole</td>\n",
       "      <td>0.0</td>\n",
       "      <td>cartpole-launch-test</td>\n",
       "      <td>2022-02-09-17-21-18</td>\n",
       "      <td>cp_goalwpri_tp_memory.ink</td>\n",
       "      <td>2022-02-09-17-21-18</td>\n",
       "      <td>10.0</td>\n",
       "      <td>cartpole-launch-test1</td>\n",
       "      <td>ACI</td>\n",
       "      <td>mba-pole</td>\n",
       "      <td>Active</td>\n",
       "      <td>python main.py</td>\n",
       "      <td>1</td>\n",
       "    </tr>\n",
       "    <tr>\n",
       "      <th>17</th>\n",
       "      <td>cp_goalwpri_tp_memory</td>\n",
       "      <td>BalancePole</td>\n",
       "      <td>0.0</td>\n",
       "      <td>cartpole-launch-test</td>\n",
       "      <td>2022-02-09-17-22-02</td>\n",
       "      <td>cp_goalwpri_tp_memory.ink</td>\n",
       "      <td>2022-02-09-17-22-02</td>\n",
       "      <td>10.0</td>\n",
       "      <td>cartpole-launch-test2</td>\n",
       "      <td>ACI</td>\n",
       "      <td>mba-pole</td>\n",
       "      <td>Active</td>\n",
       "      <td>python main.py</td>\n",
       "      <td>2</td>\n",
       "    </tr>\n",
       "    <tr>\n",
       "      <th>18</th>\n",
       "      <td>cp_goalwpri_tp_memory</td>\n",
       "      <td>BalancePole</td>\n",
       "      <td>0.0</td>\n",
       "      <td>cartpole-launch-test</td>\n",
       "      <td>2022-02-09-17-22-46</td>\n",
       "      <td>cp_goalwpri_tp_memory.ink</td>\n",
       "      <td>2022-02-09-17-22-46</td>\n",
       "      <td>10.0</td>\n",
       "      <td>cartpole-launch-test3</td>\n",
       "      <td>ACI</td>\n",
       "      <td>mba-pole</td>\n",
       "      <td>Active</td>\n",
       "      <td>python main.py</td>\n",
       "      <td>3</td>\n",
       "    </tr>\n",
       "    <tr>\n",
       "      <th>19</th>\n",
       "      <td>cp_goalwpri_tp_memory</td>\n",
       "      <td>BalancePole</td>\n",
       "      <td>0.0</td>\n",
       "      <td>cartpole-launch-test</td>\n",
       "      <td>2022-02-09-17-23-31</td>\n",
       "      <td>cp_goalwpri_tp_memory.ink</td>\n",
       "      <td>2022-02-09-17-23-31</td>\n",
       "      <td>10.0</td>\n",
       "      <td>cartpole-launch-test4</td>\n",
       "      <td>ACI</td>\n",
       "      <td>mba-pole</td>\n",
       "      <td>Active</td>\n",
       "      <td>python main.py</td>\n",
       "      <td>4</td>\n",
       "    </tr>\n",
       "  </tbody>\n",
       "</table>\n",
       "</div>"
      ],
      "text/plain": [
       "                      brain concept_name  dedicated_nodes  \\\n",
       "0   cartpole_single_concept  BalancePole              0.0   \n",
       "1   cartpole_single_concept  BalancePole              0.0   \n",
       "2   cartpole_single_concept  BalancePole              0.0   \n",
       "3   cartpole_single_concept  BalancePole              0.0   \n",
       "4                 cp_memory  BalancePole              0.0   \n",
       "5                 cp_memory  BalancePole              0.0   \n",
       "6                 cp_memory  BalancePole              0.0   \n",
       "7                 cp_memory  BalancePole              0.0   \n",
       "8               cp_goalwpri  BalancePole              0.0   \n",
       "9               cp_goalwpri  BalancePole              0.0   \n",
       "10              cp_goalwpri  BalancePole              0.0   \n",
       "11              cp_goalwpri  BalancePole              0.0   \n",
       "12            cp_goalpri_tp  BalancePole              0.0   \n",
       "13            cp_goalpri_tp  BalancePole              0.0   \n",
       "14            cp_goalpri_tp  BalancePole              0.0   \n",
       "15            cp_goalpri_tp  BalancePole              0.0   \n",
       "16    cp_goalwpri_tp_memory  BalancePole              0.0   \n",
       "17    cp_goalwpri_tp_memory  BalancePole              0.0   \n",
       "18    cp_goalwpri_tp_memory  BalancePole              0.0   \n",
       "19    cp_goalwpri_tp_memory  BalancePole              0.0   \n",
       "\n",
       "              experiment experiment_start_time                      inkling  \\\n",
       "0   cartpole-launch-test   2022-02-09-17-11-14  cartpole_single_concept.ink   \n",
       "1   cartpole-launch-test   2022-02-09-17-11-58  cartpole_single_concept.ink   \n",
       "2   cartpole-launch-test   2022-02-09-17-12-45  cartpole_single_concept.ink   \n",
       "3   cartpole-launch-test   2022-02-09-17-13-32  cartpole_single_concept.ink   \n",
       "4   cartpole-launch-test   2022-02-09-17-13-46                cp_memory.ink   \n",
       "5   cartpole-launch-test   2022-02-09-17-14-32                cp_memory.ink   \n",
       "6   cartpole-launch-test   2022-02-09-17-15-19                cp_memory.ink   \n",
       "7   cartpole-launch-test   2022-02-09-17-16-05                cp_memory.ink   \n",
       "8   cartpole-launch-test   2022-02-09-17-16-21              cp_goalwpri.ink   \n",
       "9   cartpole-launch-test   2022-02-09-17-17-08              cp_goalwpri.ink   \n",
       "10  cartpole-launch-test   2022-02-09-17-17-53              cp_goalwpri.ink   \n",
       "11  cartpole-launch-test   2022-02-09-17-18-37              cp_goalwpri.ink   \n",
       "12  cartpole-launch-test   2022-02-09-17-18-50            cp_goalpri_tp.ink   \n",
       "13  cartpole-launch-test   2022-02-09-17-19-33            cp_goalpri_tp.ink   \n",
       "14  cartpole-launch-test   2022-02-09-17-20-18            cp_goalpri_tp.ink   \n",
       "15  cartpole-launch-test   2022-02-09-17-21-05            cp_goalpri_tp.ink   \n",
       "16  cartpole-launch-test   2022-02-09-17-21-18    cp_goalwpri_tp_memory.ink   \n",
       "17  cartpole-launch-test   2022-02-09-17-22-02    cp_goalwpri_tp_memory.ink   \n",
       "18  cartpole-launch-test   2022-02-09-17-22-46    cp_goalwpri_tp_memory.ink   \n",
       "19  cartpole-launch-test   2022-02-09-17-23-31    cp_goalwpri_tp_memory.ink   \n",
       "\n",
       "           last_checked  low_pri_nodes              pool_name scale_platform  \\\n",
       "0   2022-02-09-17-11-14           10.0  cartpole-launch-test1            ACI   \n",
       "1   2022-02-09-17-11-58           10.0  cartpole-launch-test2            ACI   \n",
       "2   2022-02-09-17-12-45           10.0  cartpole-launch-test3            ACI   \n",
       "3   2022-02-09-17-13-32           10.0  cartpole-launch-test4            ACI   \n",
       "4   2022-02-09-17-13-46           10.0  cartpole-launch-test1            ACI   \n",
       "5   2022-02-09-17-14-32           10.0  cartpole-launch-test2            ACI   \n",
       "6   2022-02-09-17-15-19           10.0  cartpole-launch-test3            ACI   \n",
       "7   2022-02-09-17-16-05           10.0  cartpole-launch-test4            ACI   \n",
       "8   2022-02-09-17-16-21           10.0  cartpole-launch-test1            ACI   \n",
       "9   2022-02-09-17-17-08           10.0  cartpole-launch-test2            ACI   \n",
       "10  2022-02-09-17-17-53           10.0  cartpole-launch-test3            ACI   \n",
       "11  2022-02-09-17-18-37           10.0  cartpole-launch-test4            ACI   \n",
       "12  2022-02-09-17-18-50           10.0  cartpole-launch-test1            ACI   \n",
       "13  2022-02-09-17-19-33           10.0  cartpole-launch-test2            ACI   \n",
       "14  2022-02-09-17-20-18           10.0  cartpole-launch-test3            ACI   \n",
       "15  2022-02-09-17-21-05           10.0  cartpole-launch-test4            ACI   \n",
       "16  2022-02-09-17-21-18           10.0  cartpole-launch-test1            ACI   \n",
       "17  2022-02-09-17-22-02           10.0  cartpole-launch-test2            ACI   \n",
       "18  2022-02-09-17-22-46           10.0  cartpole-launch-test3            ACI   \n",
       "19  2022-02-09-17-23-31           10.0  cartpole-launch-test4            ACI   \n",
       "\n",
       "         sim  status            task version  \n",
       "0   mba-pole  Active  python main.py       1  \n",
       "1   mba-pole  Active  python main.py       2  \n",
       "2   mba-pole  Active  python main.py       3  \n",
       "3   mba-pole  Active  python main.py       4  \n",
       "4   mba-pole  Active  python main.py       1  \n",
       "5   mba-pole  Active  python main.py       2  \n",
       "6   mba-pole  Active  python main.py       3  \n",
       "7   mba-pole  Active  python main.py       4  \n",
       "8   mba-pole  Active  python main.py       1  \n",
       "9   mba-pole  Active  python main.py       2  \n",
       "10  mba-pole  Active  python main.py       3  \n",
       "11  mba-pole  Active  python main.py       4  \n",
       "12  mba-pole  Active  python main.py       1  \n",
       "13  mba-pole  Active  python main.py       2  \n",
       "14  mba-pole  Active  python main.py       3  \n",
       "15  mba-pole  Active  python main.py       4  \n",
       "16  mba-pole  Active  python main.py       1  \n",
       "17  mba-pole  Active  python main.py       2  \n",
       "18  mba-pole  Active  python main.py       3  \n",
       "19  mba-pole  Active  python main.py       4  "
      ]
     },
     "execution_count": 15,
     "metadata": {},
     "output_type": "execute_result"
    }
   ],
   "source": [
    "running_experiments"
   ]
  },
  {
   "cell_type": "markdown",
   "metadata": {},
   "source": [
    "## Check Status of Brain and Brain Version"
   ]
  },
  {
   "cell_type": "code",
   "execution_count": 20,
   "metadata": {
    "collapsed": true,
    "jupyter": {
     "outputs_hidden": true
    },
    "tags": []
   },
   "outputs": [
    {
     "data": {
      "text/html": [
       "<pre style=\"white-space:pre;overflow-x:auto;line-height:normal;font-family:Menlo,'DejaVu Sans Mono',consolas,'Courier New',monospace\"><span style=\"color: #7fbfbf\">[18:07:05] </span><span style=\"color: #000080\">INFO    </span> Checking brain status for brain                  <a href=\"file:///home/alizaidi/bonsai/bonsai-batch/batch_containers.py\"><span style=\"color: #7f7f7f\">batch_containers.py</span></a><span style=\"color: #7f7f7f\">:1028</span>\n",
       "                    cartpole_single_concept and version <span style=\"color: #000080; font-weight: bold\">1</span>                                    \n",
       "</pre>\n"
      ],
      "text/plain": [
       "<rich.jupyter.JupyterRenderable at 0x7f94600e3650>"
      ]
     },
     "metadata": {},
     "output_type": "display_data"
    },
    {
     "name": "stderr",
     "output_type": "stream",
     "text": [
      "/anaconda/envs/bonsai-batch/lib/python3.7/site-packages/msal_extensions/token_cache.py:61: RuntimeWarning: You are using an unprotected token cache\n",
      "  warnings.warn(\"You are using an unprotected token cache\", RuntimeWarning)\n"
     ]
    },
    {
     "data": {
      "text/html": [
       "<pre style=\"white-space:pre;overflow-x:auto;line-height:normal;font-family:Menlo,'DejaVu Sans Mono',consolas,'Courier New',monospace\"><span style=\"color: #7fbfbf\">[18:07:08] </span><span style=\"color: #000080\">INFO    </span> Brain cartpole_single_concept with version <span style=\"color: #000080; font-weight: bold\">1</span>     <a href=\"file:///home/alizaidi/bonsai/bonsai-batch/batch_containers.py\"><span style=\"color: #7f7f7f\">batch_containers.py</span></a><span style=\"color: #7f7f7f\">:1033</span>\n",
       "                    status: Idle                                                             \n",
       "</pre>\n"
      ],
      "text/plain": [
       "<rich.jupyter.JupyterRenderable at 0x7f941e86af10>"
      ]
     },
     "metadata": {},
     "output_type": "display_data"
    },
    {
     "data": {
      "text/html": [
       "<pre style=\"white-space:pre;overflow-x:auto;line-height:normal;font-family:Menlo,'DejaVu Sans Mono',consolas,'Courier New',monospace\"><span style=\"color: #7fbfbf\">           </span><span style=\"color: #000080\">INFO    </span> Checking brain status for brain                  <a href=\"file:///home/alizaidi/bonsai/bonsai-batch/batch_containers.py\"><span style=\"color: #7f7f7f\">batch_containers.py</span></a><span style=\"color: #7f7f7f\">:1028</span>\n",
       "                    cartpole_single_concept and version <span style=\"color: #000080; font-weight: bold\">2</span>                                    \n",
       "</pre>\n"
      ],
      "text/plain": [
       "<rich.jupyter.JupyterRenderable at 0x7f941e86af10>"
      ]
     },
     "metadata": {},
     "output_type": "display_data"
    },
    {
     "name": "stderr",
     "output_type": "stream",
     "text": [
      "/anaconda/envs/bonsai-batch/lib/python3.7/site-packages/msal_extensions/token_cache.py:61: RuntimeWarning: You are using an unprotected token cache\n",
      "  warnings.warn(\"You are using an unprotected token cache\", RuntimeWarning)\n"
     ]
    },
    {
     "data": {
      "text/html": [
       "<pre style=\"white-space:pre;overflow-x:auto;line-height:normal;font-family:Menlo,'DejaVu Sans Mono',consolas,'Courier New',monospace\"><span style=\"color: #7fbfbf\">[18:07:11] </span><span style=\"color: #000080\">INFO    </span> Brain cartpole_single_concept with version <span style=\"color: #000080; font-weight: bold\">2</span>     <a href=\"file:///home/alizaidi/bonsai/bonsai-batch/batch_containers.py\"><span style=\"color: #7f7f7f\">batch_containers.py</span></a><span style=\"color: #7f7f7f\">:1033</span>\n",
       "                    status: Idle                                                             \n",
       "</pre>\n"
      ],
      "text/plain": [
       "<rich.jupyter.JupyterRenderable at 0x7f941ddc8b50>"
      ]
     },
     "metadata": {},
     "output_type": "display_data"
    },
    {
     "data": {
      "text/html": [
       "<pre style=\"white-space:pre;overflow-x:auto;line-height:normal;font-family:Menlo,'DejaVu Sans Mono',consolas,'Courier New',monospace\"><span style=\"color: #7fbfbf\">           </span><span style=\"color: #000080\">INFO    </span> Checking brain status for brain                  <a href=\"file:///home/alizaidi/bonsai/bonsai-batch/batch_containers.py\"><span style=\"color: #7f7f7f\">batch_containers.py</span></a><span style=\"color: #7f7f7f\">:1028</span>\n",
       "                    cartpole_single_concept and version <span style=\"color: #000080; font-weight: bold\">3</span>                                    \n",
       "</pre>\n"
      ],
      "text/plain": [
       "<rich.jupyter.JupyterRenderable at 0x7f94601db590>"
      ]
     },
     "metadata": {},
     "output_type": "display_data"
    },
    {
     "name": "stderr",
     "output_type": "stream",
     "text": [
      "/anaconda/envs/bonsai-batch/lib/python3.7/site-packages/msal_extensions/token_cache.py:61: RuntimeWarning: You are using an unprotected token cache\n",
      "  warnings.warn(\"You are using an unprotected token cache\", RuntimeWarning)\n"
     ]
    },
    {
     "data": {
      "text/html": [
       "<pre style=\"white-space:pre;overflow-x:auto;line-height:normal;font-family:Menlo,'DejaVu Sans Mono',consolas,'Courier New',monospace\"><span style=\"color: #7fbfbf\">[18:07:13] </span><span style=\"color: #000080\">INFO    </span> Brain cartpole_single_concept with version <span style=\"color: #000080; font-weight: bold\">3</span>     <a href=\"file:///home/alizaidi/bonsai/bonsai-batch/batch_containers.py\"><span style=\"color: #7f7f7f\">batch_containers.py</span></a><span style=\"color: #7f7f7f\">:1033</span>\n",
       "                    status: Idle                                                             \n",
       "</pre>\n"
      ],
      "text/plain": [
       "<rich.jupyter.JupyterRenderable at 0x7f941ddc8050>"
      ]
     },
     "metadata": {},
     "output_type": "display_data"
    },
    {
     "data": {
      "text/html": [
       "<pre style=\"white-space:pre;overflow-x:auto;line-height:normal;font-family:Menlo,'DejaVu Sans Mono',consolas,'Courier New',monospace\"><span style=\"color: #7fbfbf\">           </span><span style=\"color: #000080\">INFO    </span> Checking brain status for brain                  <a href=\"file:///home/alizaidi/bonsai/bonsai-batch/batch_containers.py\"><span style=\"color: #7f7f7f\">batch_containers.py</span></a><span style=\"color: #7f7f7f\">:1028</span>\n",
       "                    cartpole_single_concept and version <span style=\"color: #000080; font-weight: bold\">4</span>                                    \n",
       "</pre>\n"
      ],
      "text/plain": [
       "<rich.jupyter.JupyterRenderable at 0x7f94600de210>"
      ]
     },
     "metadata": {},
     "output_type": "display_data"
    },
    {
     "name": "stderr",
     "output_type": "stream",
     "text": [
      "/anaconda/envs/bonsai-batch/lib/python3.7/site-packages/msal_extensions/token_cache.py:61: RuntimeWarning: You are using an unprotected token cache\n",
      "  warnings.warn(\"You are using an unprotected token cache\", RuntimeWarning)\n"
     ]
    },
    {
     "data": {
      "text/html": [
       "<pre style=\"white-space:pre;overflow-x:auto;line-height:normal;font-family:Menlo,'DejaVu Sans Mono',consolas,'Courier New',monospace\"><span style=\"color: #7fbfbf\">[18:07:16] </span><span style=\"color: #000080\">INFO    </span> Brain cartpole_single_concept with version <span style=\"color: #000080; font-weight: bold\">4</span>     <a href=\"file:///home/alizaidi/bonsai/bonsai-batch/batch_containers.py\"><span style=\"color: #7f7f7f\">batch_containers.py</span></a><span style=\"color: #7f7f7f\">:1033</span>\n",
       "                    status: Idle                                                             \n",
       "</pre>\n"
      ],
      "text/plain": [
       "<rich.jupyter.JupyterRenderable at 0x7f94600de410>"
      ]
     },
     "metadata": {},
     "output_type": "display_data"
    },
    {
     "data": {
      "text/html": [
       "<pre style=\"white-space:pre;overflow-x:auto;line-height:normal;font-family:Menlo,'DejaVu Sans Mono',consolas,'Courier New',monospace\"><span style=\"color: #7fbfbf\">           </span><span style=\"color: #000080\">INFO    </span> Checking brain status for brain cp_memory and    <a href=\"file:///home/alizaidi/bonsai/bonsai-batch/batch_containers.py\"><span style=\"color: #7f7f7f\">batch_containers.py</span></a><span style=\"color: #7f7f7f\">:1028</span>\n",
       "                    version <span style=\"color: #000080; font-weight: bold\">1</span>                                                                \n",
       "</pre>\n"
      ],
      "text/plain": [
       "<rich.jupyter.JupyterRenderable at 0x7f94600de550>"
      ]
     },
     "metadata": {},
     "output_type": "display_data"
    },
    {
     "name": "stderr",
     "output_type": "stream",
     "text": [
      "/anaconda/envs/bonsai-batch/lib/python3.7/site-packages/msal_extensions/token_cache.py:61: RuntimeWarning: You are using an unprotected token cache\n",
      "  warnings.warn(\"You are using an unprotected token cache\", RuntimeWarning)\n"
     ]
    },
    {
     "data": {
      "text/html": [
       "<pre style=\"white-space:pre;overflow-x:auto;line-height:normal;font-family:Menlo,'DejaVu Sans Mono',consolas,'Courier New',monospace\"><span style=\"color: #7fbfbf\">[18:07:19] </span><span style=\"color: #000080\">INFO    </span> Brain cp_memory with version <span style=\"color: #000080; font-weight: bold\">1</span> status: Idle      <a href=\"file:///home/alizaidi/bonsai/bonsai-batch/batch_containers.py\"><span style=\"color: #7f7f7f\">batch_containers.py</span></a><span style=\"color: #7f7f7f\">:1033</span>\n",
       "</pre>\n"
      ],
      "text/plain": [
       "<rich.jupyter.JupyterRenderable at 0x7f94600de490>"
      ]
     },
     "metadata": {},
     "output_type": "display_data"
    },
    {
     "data": {
      "text/html": [
       "<pre style=\"white-space:pre;overflow-x:auto;line-height:normal;font-family:Menlo,'DejaVu Sans Mono',consolas,'Courier New',monospace\"><span style=\"color: #7fbfbf\">           </span><span style=\"color: #000080\">INFO    </span> Checking brain status for brain cp_memory and    <a href=\"file:///home/alizaidi/bonsai/bonsai-batch/batch_containers.py\"><span style=\"color: #7f7f7f\">batch_containers.py</span></a><span style=\"color: #7f7f7f\">:1028</span>\n",
       "                    version <span style=\"color: #000080; font-weight: bold\">2</span>                                                                \n",
       "</pre>\n"
      ],
      "text/plain": [
       "<rich.jupyter.JupyterRenderable at 0x7f94600de490>"
      ]
     },
     "metadata": {},
     "output_type": "display_data"
    },
    {
     "name": "stderr",
     "output_type": "stream",
     "text": [
      "/anaconda/envs/bonsai-batch/lib/python3.7/site-packages/msal_extensions/token_cache.py:61: RuntimeWarning: You are using an unprotected token cache\n",
      "  warnings.warn(\"You are using an unprotected token cache\", RuntimeWarning)\n"
     ]
    },
    {
     "data": {
      "text/html": [
       "<pre style=\"white-space:pre;overflow-x:auto;line-height:normal;font-family:Menlo,'DejaVu Sans Mono',consolas,'Courier New',monospace\"><span style=\"color: #7fbfbf\">[18:07:21] </span><span style=\"color: #000080\">INFO    </span> Brain cp_memory with version <span style=\"color: #000080; font-weight: bold\">2</span> status: Active    <a href=\"file:///home/alizaidi/bonsai/bonsai-batch/batch_containers.py\"><span style=\"color: #7f7f7f\">batch_containers.py</span></a><span style=\"color: #7f7f7f\">:1033</span>\n",
       "</pre>\n"
      ],
      "text/plain": [
       "<rich.jupyter.JupyterRenderable at 0x7f941ddc8490>"
      ]
     },
     "metadata": {},
     "output_type": "display_data"
    },
    {
     "data": {
      "text/html": [
       "<pre style=\"white-space:pre;overflow-x:auto;line-height:normal;font-family:Menlo,'DejaVu Sans Mono',consolas,'Courier New',monospace\"><span style=\"color: #7fbfbf\">           </span><span style=\"color: #000080\">INFO    </span> Checking brain status for brain cp_memory and    <a href=\"file:///home/alizaidi/bonsai/bonsai-batch/batch_containers.py\"><span style=\"color: #7f7f7f\">batch_containers.py</span></a><span style=\"color: #7f7f7f\">:1028</span>\n",
       "                    version <span style=\"color: #000080; font-weight: bold\">3</span>                                                                \n",
       "</pre>\n"
      ],
      "text/plain": [
       "<rich.jupyter.JupyterRenderable at 0x7f946022ee50>"
      ]
     },
     "metadata": {},
     "output_type": "display_data"
    },
    {
     "name": "stderr",
     "output_type": "stream",
     "text": [
      "/anaconda/envs/bonsai-batch/lib/python3.7/site-packages/msal_extensions/token_cache.py:61: RuntimeWarning: You are using an unprotected token cache\n",
      "  warnings.warn(\"You are using an unprotected token cache\", RuntimeWarning)\n"
     ]
    },
    {
     "data": {
      "text/html": [
       "<pre style=\"white-space:pre;overflow-x:auto;line-height:normal;font-family:Menlo,'DejaVu Sans Mono',consolas,'Courier New',monospace\"><span style=\"color: #7fbfbf\">[18:07:24] </span><span style=\"color: #000080\">INFO    </span> Brain cp_memory with version <span style=\"color: #000080; font-weight: bold\">3</span> status: Idle      <a href=\"file:///home/alizaidi/bonsai/bonsai-batch/batch_containers.py\"><span style=\"color: #7f7f7f\">batch_containers.py</span></a><span style=\"color: #7f7f7f\">:1033</span>\n",
       "</pre>\n"
      ],
      "text/plain": [
       "<rich.jupyter.JupyterRenderable at 0x7f946022ec50>"
      ]
     },
     "metadata": {},
     "output_type": "display_data"
    },
    {
     "data": {
      "text/html": [
       "<pre style=\"white-space:pre;overflow-x:auto;line-height:normal;font-family:Menlo,'DejaVu Sans Mono',consolas,'Courier New',monospace\"><span style=\"color: #7fbfbf\">           </span><span style=\"color: #000080\">INFO    </span> Checking brain status for brain cp_memory and    <a href=\"file:///home/alizaidi/bonsai/bonsai-batch/batch_containers.py\"><span style=\"color: #7f7f7f\">batch_containers.py</span></a><span style=\"color: #7f7f7f\">:1028</span>\n",
       "                    version <span style=\"color: #000080; font-weight: bold\">4</span>                                                                \n",
       "</pre>\n"
      ],
      "text/plain": [
       "<rich.jupyter.JupyterRenderable at 0x7f946022e250>"
      ]
     },
     "metadata": {},
     "output_type": "display_data"
    },
    {
     "name": "stderr",
     "output_type": "stream",
     "text": [
      "/anaconda/envs/bonsai-batch/lib/python3.7/site-packages/msal_extensions/token_cache.py:61: RuntimeWarning: You are using an unprotected token cache\n",
      "  warnings.warn(\"You are using an unprotected token cache\", RuntimeWarning)\n"
     ]
    },
    {
     "data": {
      "text/html": [
       "<pre style=\"white-space:pre;overflow-x:auto;line-height:normal;font-family:Menlo,'DejaVu Sans Mono',consolas,'Courier New',monospace\"><span style=\"color: #7fbfbf\">[18:07:26] </span><span style=\"color: #000080\">INFO    </span> Brain cp_memory with version <span style=\"color: #000080; font-weight: bold\">4</span> status: Idle      <a href=\"file:///home/alizaidi/bonsai/bonsai-batch/batch_containers.py\"><span style=\"color: #7f7f7f\">batch_containers.py</span></a><span style=\"color: #7f7f7f\">:1033</span>\n",
       "</pre>\n"
      ],
      "text/plain": [
       "<rich.jupyter.JupyterRenderable at 0x7f946022e810>"
      ]
     },
     "metadata": {},
     "output_type": "display_data"
    },
    {
     "data": {
      "text/html": [
       "<pre style=\"white-space:pre;overflow-x:auto;line-height:normal;font-family:Menlo,'DejaVu Sans Mono',consolas,'Courier New',monospace\"><span style=\"color: #7fbfbf\">           </span><span style=\"color: #000080\">INFO    </span> Checking brain status for brain cp_goalwpri and  <a href=\"file:///home/alizaidi/bonsai/bonsai-batch/batch_containers.py\"><span style=\"color: #7f7f7f\">batch_containers.py</span></a><span style=\"color: #7f7f7f\">:1028</span>\n",
       "                    version <span style=\"color: #000080; font-weight: bold\">1</span>                                                                \n",
       "</pre>\n"
      ],
      "text/plain": [
       "<rich.jupyter.JupyterRenderable at 0x7f946022e810>"
      ]
     },
     "metadata": {},
     "output_type": "display_data"
    },
    {
     "name": "stderr",
     "output_type": "stream",
     "text": [
      "/anaconda/envs/bonsai-batch/lib/python3.7/site-packages/msal_extensions/token_cache.py:61: RuntimeWarning: You are using an unprotected token cache\n",
      "  warnings.warn(\"You are using an unprotected token cache\", RuntimeWarning)\n"
     ]
    },
    {
     "data": {
      "text/html": [
       "<pre style=\"white-space:pre;overflow-x:auto;line-height:normal;font-family:Menlo,'DejaVu Sans Mono',consolas,'Courier New',monospace\"><span style=\"color: #7fbfbf\">[18:07:28] </span><span style=\"color: #000080\">INFO    </span> Brain cp_goalwpri with version <span style=\"color: #000080; font-weight: bold\">1</span> status: Idle    <a href=\"file:///home/alizaidi/bonsai/bonsai-batch/batch_containers.py\"><span style=\"color: #7f7f7f\">batch_containers.py</span></a><span style=\"color: #7f7f7f\">:1033</span>\n",
       "</pre>\n"
      ],
      "text/plain": [
       "<rich.jupyter.JupyterRenderable at 0x7f94600de790>"
      ]
     },
     "metadata": {},
     "output_type": "display_data"
    },
    {
     "data": {
      "text/html": [
       "<pre style=\"white-space:pre;overflow-x:auto;line-height:normal;font-family:Menlo,'DejaVu Sans Mono',consolas,'Courier New',monospace\"><span style=\"color: #7fbfbf\">           </span><span style=\"color: #000080\">INFO    </span> Checking brain status for brain cp_goalwpri and  <a href=\"file:///home/alizaidi/bonsai/bonsai-batch/batch_containers.py\"><span style=\"color: #7f7f7f\">batch_containers.py</span></a><span style=\"color: #7f7f7f\">:1028</span>\n",
       "                    version <span style=\"color: #000080; font-weight: bold\">2</span>                                                                \n",
       "</pre>\n"
      ],
      "text/plain": [
       "<rich.jupyter.JupyterRenderable at 0x7f94600de210>"
      ]
     },
     "metadata": {},
     "output_type": "display_data"
    },
    {
     "name": "stderr",
     "output_type": "stream",
     "text": [
      "/anaconda/envs/bonsai-batch/lib/python3.7/site-packages/msal_extensions/token_cache.py:61: RuntimeWarning: You are using an unprotected token cache\n",
      "  warnings.warn(\"You are using an unprotected token cache\", RuntimeWarning)\n"
     ]
    },
    {
     "data": {
      "text/html": [
       "<pre style=\"white-space:pre;overflow-x:auto;line-height:normal;font-family:Menlo,'DejaVu Sans Mono',consolas,'Courier New',monospace\"><span style=\"color: #7fbfbf\">[18:07:31] </span><span style=\"color: #000080\">INFO    </span> Brain cp_goalwpri with version <span style=\"color: #000080; font-weight: bold\">2</span> status: Idle    <a href=\"file:///home/alizaidi/bonsai/bonsai-batch/batch_containers.py\"><span style=\"color: #7f7f7f\">batch_containers.py</span></a><span style=\"color: #7f7f7f\">:1033</span>\n",
       "</pre>\n"
      ],
      "text/plain": [
       "<rich.jupyter.JupyterRenderable at 0x7f94600de410>"
      ]
     },
     "metadata": {},
     "output_type": "display_data"
    },
    {
     "data": {
      "text/html": [
       "<pre style=\"white-space:pre;overflow-x:auto;line-height:normal;font-family:Menlo,'DejaVu Sans Mono',consolas,'Courier New',monospace\"><span style=\"color: #7fbfbf\">           </span><span style=\"color: #000080\">INFO    </span> Checking brain status for brain cp_goalwpri and  <a href=\"file:///home/alizaidi/bonsai/bonsai-batch/batch_containers.py\"><span style=\"color: #7f7f7f\">batch_containers.py</span></a><span style=\"color: #7f7f7f\">:1028</span>\n",
       "                    version <span style=\"color: #000080; font-weight: bold\">3</span>                                                                \n",
       "</pre>\n"
      ],
      "text/plain": [
       "<rich.jupyter.JupyterRenderable at 0x7f94600de410>"
      ]
     },
     "metadata": {},
     "output_type": "display_data"
    },
    {
     "name": "stderr",
     "output_type": "stream",
     "text": [
      "/anaconda/envs/bonsai-batch/lib/python3.7/site-packages/msal_extensions/token_cache.py:61: RuntimeWarning: You are using an unprotected token cache\n",
      "  warnings.warn(\"You are using an unprotected token cache\", RuntimeWarning)\n"
     ]
    },
    {
     "data": {
      "text/html": [
       "<pre style=\"white-space:pre;overflow-x:auto;line-height:normal;font-family:Menlo,'DejaVu Sans Mono',consolas,'Courier New',monospace\"><span style=\"color: #7fbfbf\">[18:07:34] </span><span style=\"color: #000080\">INFO    </span> Brain cp_goalwpri with version <span style=\"color: #000080; font-weight: bold\">3</span> status: Idle    <a href=\"file:///home/alizaidi/bonsai/bonsai-batch/batch_containers.py\"><span style=\"color: #7f7f7f\">batch_containers.py</span></a><span style=\"color: #7f7f7f\">:1033</span>\n",
       "</pre>\n"
      ],
      "text/plain": [
       "<rich.jupyter.JupyterRenderable at 0x7f94600de250>"
      ]
     },
     "metadata": {},
     "output_type": "display_data"
    },
    {
     "data": {
      "text/html": [
       "<pre style=\"white-space:pre;overflow-x:auto;line-height:normal;font-family:Menlo,'DejaVu Sans Mono',consolas,'Courier New',monospace\"><span style=\"color: #7fbfbf\">           </span><span style=\"color: #000080\">INFO    </span> Checking brain status for brain cp_goalwpri and  <a href=\"file:///home/alizaidi/bonsai/bonsai-batch/batch_containers.py\"><span style=\"color: #7f7f7f\">batch_containers.py</span></a><span style=\"color: #7f7f7f\">:1028</span>\n",
       "                    version <span style=\"color: #000080; font-weight: bold\">4</span>                                                                \n",
       "</pre>\n"
      ],
      "text/plain": [
       "<rich.jupyter.JupyterRenderable at 0x7f94600de790>"
      ]
     },
     "metadata": {},
     "output_type": "display_data"
    },
    {
     "name": "stderr",
     "output_type": "stream",
     "text": [
      "/anaconda/envs/bonsai-batch/lib/python3.7/site-packages/msal_extensions/token_cache.py:61: RuntimeWarning: You are using an unprotected token cache\n",
      "  warnings.warn(\"You are using an unprotected token cache\", RuntimeWarning)\n"
     ]
    },
    {
     "data": {
      "text/html": [
       "<pre style=\"white-space:pre;overflow-x:auto;line-height:normal;font-family:Menlo,'DejaVu Sans Mono',consolas,'Courier New',monospace\"><span style=\"color: #7fbfbf\">[18:07:36] </span><span style=\"color: #000080\">INFO    </span> Brain cp_goalwpri with version <span style=\"color: #000080; font-weight: bold\">4</span> status: Idle    <a href=\"file:///home/alizaidi/bonsai/bonsai-batch/batch_containers.py\"><span style=\"color: #7f7f7f\">batch_containers.py</span></a><span style=\"color: #7f7f7f\">:1033</span>\n",
       "</pre>\n"
      ],
      "text/plain": [
       "<rich.jupyter.JupyterRenderable at 0x7f94600de410>"
      ]
     },
     "metadata": {},
     "output_type": "display_data"
    },
    {
     "data": {
      "text/html": [
       "<pre style=\"white-space:pre;overflow-x:auto;line-height:normal;font-family:Menlo,'DejaVu Sans Mono',consolas,'Courier New',monospace\"><span style=\"color: #7fbfbf\">           </span><span style=\"color: #000080\">INFO    </span> Checking brain status for brain cp_goalpri_tp    <a href=\"file:///home/alizaidi/bonsai/bonsai-batch/batch_containers.py\"><span style=\"color: #7f7f7f\">batch_containers.py</span></a><span style=\"color: #7f7f7f\">:1028</span>\n",
       "                    and version <span style=\"color: #000080; font-weight: bold\">1</span>                                                            \n",
       "</pre>\n"
      ],
      "text/plain": [
       "<rich.jupyter.JupyterRenderable at 0x7f94601ce150>"
      ]
     },
     "metadata": {},
     "output_type": "display_data"
    },
    {
     "name": "stderr",
     "output_type": "stream",
     "text": [
      "/anaconda/envs/bonsai-batch/lib/python3.7/site-packages/msal_extensions/token_cache.py:61: RuntimeWarning: You are using an unprotected token cache\n",
      "  warnings.warn(\"You are using an unprotected token cache\", RuntimeWarning)\n"
     ]
    },
    {
     "data": {
      "text/html": [
       "<pre style=\"white-space:pre;overflow-x:auto;line-height:normal;font-family:Menlo,'DejaVu Sans Mono',consolas,'Courier New',monospace\"><span style=\"color: #7fbfbf\">[18:07:38] </span><span style=\"color: #000080\">INFO    </span> Brain cp_goalpri_tp with version <span style=\"color: #000080; font-weight: bold\">1</span> status: Idle  <a href=\"file:///home/alizaidi/bonsai/bonsai-batch/batch_containers.py\"><span style=\"color: #7f7f7f\">batch_containers.py</span></a><span style=\"color: #7f7f7f\">:1033</span>\n",
       "</pre>\n"
      ],
      "text/plain": [
       "<rich.jupyter.JupyterRenderable at 0x7f94600de490>"
      ]
     },
     "metadata": {},
     "output_type": "display_data"
    },
    {
     "data": {
      "text/html": [
       "<pre style=\"white-space:pre;overflow-x:auto;line-height:normal;font-family:Menlo,'DejaVu Sans Mono',consolas,'Courier New',monospace\"><span style=\"color: #7fbfbf\">           </span><span style=\"color: #000080\">INFO    </span> Checking brain status for brain cp_goalpri_tp    <a href=\"file:///home/alizaidi/bonsai/bonsai-batch/batch_containers.py\"><span style=\"color: #7f7f7f\">batch_containers.py</span></a><span style=\"color: #7f7f7f\">:1028</span>\n",
       "                    and version <span style=\"color: #000080; font-weight: bold\">2</span>                                                            \n",
       "</pre>\n"
      ],
      "text/plain": [
       "<rich.jupyter.JupyterRenderable at 0x7f9460137d10>"
      ]
     },
     "metadata": {},
     "output_type": "display_data"
    },
    {
     "name": "stderr",
     "output_type": "stream",
     "text": [
      "/anaconda/envs/bonsai-batch/lib/python3.7/site-packages/msal_extensions/token_cache.py:61: RuntimeWarning: You are using an unprotected token cache\n",
      "  warnings.warn(\"You are using an unprotected token cache\", RuntimeWarning)\n"
     ]
    },
    {
     "data": {
      "text/html": [
       "<pre style=\"white-space:pre;overflow-x:auto;line-height:normal;font-family:Menlo,'DejaVu Sans Mono',consolas,'Courier New',monospace\"><span style=\"color: #7fbfbf\">[18:07:41] </span><span style=\"color: #000080\">INFO    </span> Brain cp_goalpri_tp with version <span style=\"color: #000080; font-weight: bold\">2</span> status: Idle  <a href=\"file:///home/alizaidi/bonsai/bonsai-batch/batch_containers.py\"><span style=\"color: #7f7f7f\">batch_containers.py</span></a><span style=\"color: #7f7f7f\">:1033</span>\n",
       "</pre>\n"
      ],
      "text/plain": [
       "<rich.jupyter.JupyterRenderable at 0x7f9460137c90>"
      ]
     },
     "metadata": {},
     "output_type": "display_data"
    },
    {
     "data": {
      "text/html": [
       "<pre style=\"white-space:pre;overflow-x:auto;line-height:normal;font-family:Menlo,'DejaVu Sans Mono',consolas,'Courier New',monospace\"><span style=\"color: #7fbfbf\">           </span><span style=\"color: #000080\">INFO    </span> Checking brain status for brain cp_goalpri_tp    <a href=\"file:///home/alizaidi/bonsai/bonsai-batch/batch_containers.py\"><span style=\"color: #7f7f7f\">batch_containers.py</span></a><span style=\"color: #7f7f7f\">:1028</span>\n",
       "                    and version <span style=\"color: #000080; font-weight: bold\">3</span>                                                            \n",
       "</pre>\n"
      ],
      "text/plain": [
       "<rich.jupyter.JupyterRenderable at 0x7f9460137e50>"
      ]
     },
     "metadata": {},
     "output_type": "display_data"
    },
    {
     "name": "stderr",
     "output_type": "stream",
     "text": [
      "/anaconda/envs/bonsai-batch/lib/python3.7/site-packages/msal_extensions/token_cache.py:61: RuntimeWarning: You are using an unprotected token cache\n",
      "  warnings.warn(\"You are using an unprotected token cache\", RuntimeWarning)\n"
     ]
    },
    {
     "data": {
      "text/html": [
       "<pre style=\"white-space:pre;overflow-x:auto;line-height:normal;font-family:Menlo,'DejaVu Sans Mono',consolas,'Courier New',monospace\"><span style=\"color: #7fbfbf\">[18:07:44] </span><span style=\"color: #000080\">INFO    </span> Brain cp_goalpri_tp with version <span style=\"color: #000080; font-weight: bold\">3</span> status: Idle  <a href=\"file:///home/alizaidi/bonsai/bonsai-batch/batch_containers.py\"><span style=\"color: #7f7f7f\">batch_containers.py</span></a><span style=\"color: #7f7f7f\">:1033</span>\n",
       "</pre>\n"
      ],
      "text/plain": [
       "<rich.jupyter.JupyterRenderable at 0x7f9460137c90>"
      ]
     },
     "metadata": {},
     "output_type": "display_data"
    },
    {
     "data": {
      "text/html": [
       "<pre style=\"white-space:pre;overflow-x:auto;line-height:normal;font-family:Menlo,'DejaVu Sans Mono',consolas,'Courier New',monospace\"><span style=\"color: #7fbfbf\">           </span><span style=\"color: #000080\">INFO    </span> Checking brain status for brain cp_goalpri_tp    <a href=\"file:///home/alizaidi/bonsai/bonsai-batch/batch_containers.py\"><span style=\"color: #7f7f7f\">batch_containers.py</span></a><span style=\"color: #7f7f7f\">:1028</span>\n",
       "                    and version <span style=\"color: #000080; font-weight: bold\">4</span>                                                            \n",
       "</pre>\n"
      ],
      "text/plain": [
       "<rich.jupyter.JupyterRenderable at 0x7f9460137990>"
      ]
     },
     "metadata": {},
     "output_type": "display_data"
    },
    {
     "name": "stderr",
     "output_type": "stream",
     "text": [
      "/anaconda/envs/bonsai-batch/lib/python3.7/site-packages/msal_extensions/token_cache.py:61: RuntimeWarning: You are using an unprotected token cache\n",
      "  warnings.warn(\"You are using an unprotected token cache\", RuntimeWarning)\n"
     ]
    },
    {
     "data": {
      "text/html": [
       "<pre style=\"white-space:pre;overflow-x:auto;line-height:normal;font-family:Menlo,'DejaVu Sans Mono',consolas,'Courier New',monospace\"><span style=\"color: #7fbfbf\">[18:07:47] </span><span style=\"color: #000080\">INFO    </span> Brain cp_goalpri_tp with version <span style=\"color: #000080; font-weight: bold\">4</span> status: Idle  <a href=\"file:///home/alizaidi/bonsai/bonsai-batch/batch_containers.py\"><span style=\"color: #7f7f7f\">batch_containers.py</span></a><span style=\"color: #7f7f7f\">:1033</span>\n",
       "</pre>\n"
      ],
      "text/plain": [
       "<rich.jupyter.JupyterRenderable at 0x7f9460137ad0>"
      ]
     },
     "metadata": {},
     "output_type": "display_data"
    },
    {
     "data": {
      "text/html": [
       "<pre style=\"white-space:pre;overflow-x:auto;line-height:normal;font-family:Menlo,'DejaVu Sans Mono',consolas,'Courier New',monospace\"><span style=\"color: #7fbfbf\">           </span><span style=\"color: #000080\">INFO    </span> Checking brain status for brain                  <a href=\"file:///home/alizaidi/bonsai/bonsai-batch/batch_containers.py\"><span style=\"color: #7f7f7f\">batch_containers.py</span></a><span style=\"color: #7f7f7f\">:1028</span>\n",
       "                    cp_goalwpri_tp_memory and version <span style=\"color: #000080; font-weight: bold\">1</span>                                      \n",
       "</pre>\n"
      ],
      "text/plain": [
       "<rich.jupyter.JupyterRenderable at 0x7f9460137c10>"
      ]
     },
     "metadata": {},
     "output_type": "display_data"
    },
    {
     "name": "stderr",
     "output_type": "stream",
     "text": [
      "/anaconda/envs/bonsai-batch/lib/python3.7/site-packages/msal_extensions/token_cache.py:61: RuntimeWarning: You are using an unprotected token cache\n",
      "  warnings.warn(\"You are using an unprotected token cache\", RuntimeWarning)\n"
     ]
    },
    {
     "data": {
      "text/html": [
       "<pre style=\"white-space:pre;overflow-x:auto;line-height:normal;font-family:Menlo,'DejaVu Sans Mono',consolas,'Courier New',monospace\"><span style=\"color: #7fbfbf\">[18:07:49] </span><span style=\"color: #000080\">INFO    </span> Brain cp_goalwpri_tp_memory with version <span style=\"color: #000080; font-weight: bold\">1</span>       <a href=\"file:///home/alizaidi/bonsai/bonsai-batch/batch_containers.py\"><span style=\"color: #7f7f7f\">batch_containers.py</span></a><span style=\"color: #7f7f7f\">:1033</span>\n",
       "                    status: Idle                                                             \n",
       "</pre>\n"
      ],
      "text/plain": [
       "<rich.jupyter.JupyterRenderable at 0x7f9460137ad0>"
      ]
     },
     "metadata": {},
     "output_type": "display_data"
    },
    {
     "data": {
      "text/html": [
       "<pre style=\"white-space:pre;overflow-x:auto;line-height:normal;font-family:Menlo,'DejaVu Sans Mono',consolas,'Courier New',monospace\"><span style=\"color: #7fbfbf\">           </span><span style=\"color: #000080\">INFO    </span> Checking brain status for brain                  <a href=\"file:///home/alizaidi/bonsai/bonsai-batch/batch_containers.py\"><span style=\"color: #7f7f7f\">batch_containers.py</span></a><span style=\"color: #7f7f7f\">:1028</span>\n",
       "                    cp_goalwpri_tp_memory and version <span style=\"color: #000080; font-weight: bold\">2</span>                                      \n",
       "</pre>\n"
      ],
      "text/plain": [
       "<rich.jupyter.JupyterRenderable at 0x7f9460137a10>"
      ]
     },
     "metadata": {},
     "output_type": "display_data"
    },
    {
     "name": "stderr",
     "output_type": "stream",
     "text": [
      "/anaconda/envs/bonsai-batch/lib/python3.7/site-packages/msal_extensions/token_cache.py:61: RuntimeWarning: You are using an unprotected token cache\n",
      "  warnings.warn(\"You are using an unprotected token cache\", RuntimeWarning)\n"
     ]
    },
    {
     "data": {
      "text/html": [
       "<pre style=\"white-space:pre;overflow-x:auto;line-height:normal;font-family:Menlo,'DejaVu Sans Mono',consolas,'Courier New',monospace\"><span style=\"color: #7fbfbf\">[18:07:51] </span><span style=\"color: #000080\">INFO    </span> Brain cp_goalwpri_tp_memory with version <span style=\"color: #000080; font-weight: bold\">2</span>       <a href=\"file:///home/alizaidi/bonsai/bonsai-batch/batch_containers.py\"><span style=\"color: #7f7f7f\">batch_containers.py</span></a><span style=\"color: #7f7f7f\">:1033</span>\n",
       "                    status: Idle                                                             \n",
       "</pre>\n"
      ],
      "text/plain": [
       "<rich.jupyter.JupyterRenderable at 0x7f9460137c50>"
      ]
     },
     "metadata": {},
     "output_type": "display_data"
    },
    {
     "data": {
      "text/html": [
       "<pre style=\"white-space:pre;overflow-x:auto;line-height:normal;font-family:Menlo,'DejaVu Sans Mono',consolas,'Courier New',monospace\"><span style=\"color: #7fbfbf\">           </span><span style=\"color: #000080\">INFO    </span> Checking brain status for brain                  <a href=\"file:///home/alizaidi/bonsai/bonsai-batch/batch_containers.py\"><span style=\"color: #7f7f7f\">batch_containers.py</span></a><span style=\"color: #7f7f7f\">:1028</span>\n",
       "                    cp_goalwpri_tp_memory and version <span style=\"color: #000080; font-weight: bold\">3</span>                                      \n",
       "</pre>\n"
      ],
      "text/plain": [
       "<rich.jupyter.JupyterRenderable at 0x7f9460137c90>"
      ]
     },
     "metadata": {},
     "output_type": "display_data"
    },
    {
     "name": "stderr",
     "output_type": "stream",
     "text": [
      "/anaconda/envs/bonsai-batch/lib/python3.7/site-packages/msal_extensions/token_cache.py:61: RuntimeWarning: You are using an unprotected token cache\n",
      "  warnings.warn(\"You are using an unprotected token cache\", RuntimeWarning)\n"
     ]
    },
    {
     "data": {
      "text/html": [
       "<pre style=\"white-space:pre;overflow-x:auto;line-height:normal;font-family:Menlo,'DejaVu Sans Mono',consolas,'Courier New',monospace\"><span style=\"color: #7fbfbf\">[18:07:54] </span><span style=\"color: #000080\">INFO    </span> Brain cp_goalwpri_tp_memory with version <span style=\"color: #000080; font-weight: bold\">3</span>       <a href=\"file:///home/alizaidi/bonsai/bonsai-batch/batch_containers.py\"><span style=\"color: #7f7f7f\">batch_containers.py</span></a><span style=\"color: #7f7f7f\">:1033</span>\n",
       "                    status: Idle                                                             \n",
       "</pre>\n"
      ],
      "text/plain": [
       "<rich.jupyter.JupyterRenderable at 0x7f9460137d10>"
      ]
     },
     "metadata": {},
     "output_type": "display_data"
    },
    {
     "data": {
      "text/html": [
       "<pre style=\"white-space:pre;overflow-x:auto;line-height:normal;font-family:Menlo,'DejaVu Sans Mono',consolas,'Courier New',monospace\"><span style=\"color: #7fbfbf\">           </span><span style=\"color: #000080\">INFO    </span> Checking brain status for brain                  <a href=\"file:///home/alizaidi/bonsai/bonsai-batch/batch_containers.py\"><span style=\"color: #7f7f7f\">batch_containers.py</span></a><span style=\"color: #7f7f7f\">:1028</span>\n",
       "                    cp_goalwpri_tp_memory and version <span style=\"color: #000080; font-weight: bold\">4</span>                                      \n",
       "</pre>\n"
      ],
      "text/plain": [
       "<rich.jupyter.JupyterRenderable at 0x7f9460137f10>"
      ]
     },
     "metadata": {},
     "output_type": "display_data"
    },
    {
     "name": "stderr",
     "output_type": "stream",
     "text": [
      "/anaconda/envs/bonsai-batch/lib/python3.7/site-packages/msal_extensions/token_cache.py:61: RuntimeWarning: You are using an unprotected token cache\n",
      "  warnings.warn(\"You are using an unprotected token cache\", RuntimeWarning)\n"
     ]
    },
    {
     "data": {
      "text/html": [
       "<pre style=\"white-space:pre;overflow-x:auto;line-height:normal;font-family:Menlo,'DejaVu Sans Mono',consolas,'Courier New',monospace\"><span style=\"color: #7fbfbf\">[18:07:56] </span><span style=\"color: #000080\">INFO    </span> Brain cp_goalwpri_tp_memory with version <span style=\"color: #000080; font-weight: bold\">4</span>       <a href=\"file:///home/alizaidi/bonsai/bonsai-batch/batch_containers.py\"><span style=\"color: #7f7f7f\">batch_containers.py</span></a><span style=\"color: #7f7f7f\">:1033</span>\n",
       "                    status: Idle                                                             \n",
       "</pre>\n"
      ],
      "text/plain": [
       "<rich.jupyter.JupyterRenderable at 0x7f9460137c90>"
      ]
     },
     "metadata": {},
     "output_type": "display_data"
    }
   ],
   "source": [
    "running_experiments[\"status\"] = running_experiments.apply(\n",
    "    lambda x: get_brain_status(brain_name=x['brain'], brain_version=x['version'], sleep_time=0),\n",
    "    axis=1\n",
    ")\n"
   ]
  },
  {
   "cell_type": "code",
   "execution_count": 21,
   "metadata": {},
   "outputs": [
    {
     "data": {
      "text/html": [
       "<div>\n",
       "<style scoped>\n",
       "    .dataframe tbody tr th:only-of-type {\n",
       "        vertical-align: middle;\n",
       "    }\n",
       "\n",
       "    .dataframe tbody tr th {\n",
       "        vertical-align: top;\n",
       "    }\n",
       "\n",
       "    .dataframe thead th {\n",
       "        text-align: right;\n",
       "    }\n",
       "</style>\n",
       "<table border=\"1\" class=\"dataframe\">\n",
       "  <thead>\n",
       "    <tr style=\"text-align: right;\">\n",
       "      <th></th>\n",
       "      <th>brain</th>\n",
       "      <th>concept_name</th>\n",
       "      <th>dedicated_nodes</th>\n",
       "      <th>experiment</th>\n",
       "      <th>experiment_start_time</th>\n",
       "      <th>inkling</th>\n",
       "      <th>last_checked</th>\n",
       "      <th>low_pri_nodes</th>\n",
       "      <th>pool_name</th>\n",
       "      <th>scale_platform</th>\n",
       "      <th>sim</th>\n",
       "      <th>status</th>\n",
       "      <th>task</th>\n",
       "      <th>version</th>\n",
       "    </tr>\n",
       "  </thead>\n",
       "  <tbody>\n",
       "    <tr>\n",
       "      <th>0</th>\n",
       "      <td>cartpole_single_concept</td>\n",
       "      <td>BalancePole</td>\n",
       "      <td>0.0</td>\n",
       "      <td>cartpole-launch-test</td>\n",
       "      <td>2022-02-09-17-11-14</td>\n",
       "      <td>cartpole_single_concept.ink</td>\n",
       "      <td>2022-02-09-17-11-14</td>\n",
       "      <td>10.0</td>\n",
       "      <td>cartpole-launch-test1</td>\n",
       "      <td>ACI</td>\n",
       "      <td>mba-pole</td>\n",
       "      <td>Idle</td>\n",
       "      <td>python main.py</td>\n",
       "      <td>1</td>\n",
       "    </tr>\n",
       "    <tr>\n",
       "      <th>1</th>\n",
       "      <td>cartpole_single_concept</td>\n",
       "      <td>BalancePole</td>\n",
       "      <td>0.0</td>\n",
       "      <td>cartpole-launch-test</td>\n",
       "      <td>2022-02-09-17-11-58</td>\n",
       "      <td>cartpole_single_concept.ink</td>\n",
       "      <td>2022-02-09-17-11-58</td>\n",
       "      <td>10.0</td>\n",
       "      <td>cartpole-launch-test2</td>\n",
       "      <td>ACI</td>\n",
       "      <td>mba-pole</td>\n",
       "      <td>Idle</td>\n",
       "      <td>python main.py</td>\n",
       "      <td>2</td>\n",
       "    </tr>\n",
       "    <tr>\n",
       "      <th>2</th>\n",
       "      <td>cartpole_single_concept</td>\n",
       "      <td>BalancePole</td>\n",
       "      <td>0.0</td>\n",
       "      <td>cartpole-launch-test</td>\n",
       "      <td>2022-02-09-17-12-45</td>\n",
       "      <td>cartpole_single_concept.ink</td>\n",
       "      <td>2022-02-09-17-12-45</td>\n",
       "      <td>10.0</td>\n",
       "      <td>cartpole-launch-test3</td>\n",
       "      <td>ACI</td>\n",
       "      <td>mba-pole</td>\n",
       "      <td>Idle</td>\n",
       "      <td>python main.py</td>\n",
       "      <td>3</td>\n",
       "    </tr>\n",
       "    <tr>\n",
       "      <th>3</th>\n",
       "      <td>cartpole_single_concept</td>\n",
       "      <td>BalancePole</td>\n",
       "      <td>0.0</td>\n",
       "      <td>cartpole-launch-test</td>\n",
       "      <td>2022-02-09-17-13-32</td>\n",
       "      <td>cartpole_single_concept.ink</td>\n",
       "      <td>2022-02-09-17-13-32</td>\n",
       "      <td>10.0</td>\n",
       "      <td>cartpole-launch-test4</td>\n",
       "      <td>ACI</td>\n",
       "      <td>mba-pole</td>\n",
       "      <td>Idle</td>\n",
       "      <td>python main.py</td>\n",
       "      <td>4</td>\n",
       "    </tr>\n",
       "    <tr>\n",
       "      <th>4</th>\n",
       "      <td>cp_memory</td>\n",
       "      <td>BalancePole</td>\n",
       "      <td>0.0</td>\n",
       "      <td>cartpole-launch-test</td>\n",
       "      <td>2022-02-09-17-13-46</td>\n",
       "      <td>cp_memory.ink</td>\n",
       "      <td>2022-02-09-17-13-46</td>\n",
       "      <td>10.0</td>\n",
       "      <td>cartpole-launch-test1</td>\n",
       "      <td>ACI</td>\n",
       "      <td>mba-pole</td>\n",
       "      <td>Idle</td>\n",
       "      <td>python main.py</td>\n",
       "      <td>1</td>\n",
       "    </tr>\n",
       "    <tr>\n",
       "      <th>5</th>\n",
       "      <td>cp_memory</td>\n",
       "      <td>BalancePole</td>\n",
       "      <td>0.0</td>\n",
       "      <td>cartpole-launch-test</td>\n",
       "      <td>2022-02-09-17-14-32</td>\n",
       "      <td>cp_memory.ink</td>\n",
       "      <td>2022-02-09-17-14-32</td>\n",
       "      <td>10.0</td>\n",
       "      <td>cartpole-launch-test2</td>\n",
       "      <td>ACI</td>\n",
       "      <td>mba-pole</td>\n",
       "      <td>Active</td>\n",
       "      <td>python main.py</td>\n",
       "      <td>2</td>\n",
       "    </tr>\n",
       "    <tr>\n",
       "      <th>6</th>\n",
       "      <td>cp_memory</td>\n",
       "      <td>BalancePole</td>\n",
       "      <td>0.0</td>\n",
       "      <td>cartpole-launch-test</td>\n",
       "      <td>2022-02-09-17-15-19</td>\n",
       "      <td>cp_memory.ink</td>\n",
       "      <td>2022-02-09-17-15-19</td>\n",
       "      <td>10.0</td>\n",
       "      <td>cartpole-launch-test3</td>\n",
       "      <td>ACI</td>\n",
       "      <td>mba-pole</td>\n",
       "      <td>Idle</td>\n",
       "      <td>python main.py</td>\n",
       "      <td>3</td>\n",
       "    </tr>\n",
       "    <tr>\n",
       "      <th>7</th>\n",
       "      <td>cp_memory</td>\n",
       "      <td>BalancePole</td>\n",
       "      <td>0.0</td>\n",
       "      <td>cartpole-launch-test</td>\n",
       "      <td>2022-02-09-17-16-05</td>\n",
       "      <td>cp_memory.ink</td>\n",
       "      <td>2022-02-09-17-16-05</td>\n",
       "      <td>10.0</td>\n",
       "      <td>cartpole-launch-test4</td>\n",
       "      <td>ACI</td>\n",
       "      <td>mba-pole</td>\n",
       "      <td>Idle</td>\n",
       "      <td>python main.py</td>\n",
       "      <td>4</td>\n",
       "    </tr>\n",
       "    <tr>\n",
       "      <th>8</th>\n",
       "      <td>cp_goalwpri</td>\n",
       "      <td>BalancePole</td>\n",
       "      <td>0.0</td>\n",
       "      <td>cartpole-launch-test</td>\n",
       "      <td>2022-02-09-17-16-21</td>\n",
       "      <td>cp_goalwpri.ink</td>\n",
       "      <td>2022-02-09-17-16-21</td>\n",
       "      <td>10.0</td>\n",
       "      <td>cartpole-launch-test1</td>\n",
       "      <td>ACI</td>\n",
       "      <td>mba-pole</td>\n",
       "      <td>Idle</td>\n",
       "      <td>python main.py</td>\n",
       "      <td>1</td>\n",
       "    </tr>\n",
       "    <tr>\n",
       "      <th>9</th>\n",
       "      <td>cp_goalwpri</td>\n",
       "      <td>BalancePole</td>\n",
       "      <td>0.0</td>\n",
       "      <td>cartpole-launch-test</td>\n",
       "      <td>2022-02-09-17-17-08</td>\n",
       "      <td>cp_goalwpri.ink</td>\n",
       "      <td>2022-02-09-17-17-08</td>\n",
       "      <td>10.0</td>\n",
       "      <td>cartpole-launch-test2</td>\n",
       "      <td>ACI</td>\n",
       "      <td>mba-pole</td>\n",
       "      <td>Idle</td>\n",
       "      <td>python main.py</td>\n",
       "      <td>2</td>\n",
       "    </tr>\n",
       "    <tr>\n",
       "      <th>10</th>\n",
       "      <td>cp_goalwpri</td>\n",
       "      <td>BalancePole</td>\n",
       "      <td>0.0</td>\n",
       "      <td>cartpole-launch-test</td>\n",
       "      <td>2022-02-09-17-17-53</td>\n",
       "      <td>cp_goalwpri.ink</td>\n",
       "      <td>2022-02-09-17-17-53</td>\n",
       "      <td>10.0</td>\n",
       "      <td>cartpole-launch-test3</td>\n",
       "      <td>ACI</td>\n",
       "      <td>mba-pole</td>\n",
       "      <td>Idle</td>\n",
       "      <td>python main.py</td>\n",
       "      <td>3</td>\n",
       "    </tr>\n",
       "    <tr>\n",
       "      <th>11</th>\n",
       "      <td>cp_goalwpri</td>\n",
       "      <td>BalancePole</td>\n",
       "      <td>0.0</td>\n",
       "      <td>cartpole-launch-test</td>\n",
       "      <td>2022-02-09-17-18-37</td>\n",
       "      <td>cp_goalwpri.ink</td>\n",
       "      <td>2022-02-09-17-18-37</td>\n",
       "      <td>10.0</td>\n",
       "      <td>cartpole-launch-test4</td>\n",
       "      <td>ACI</td>\n",
       "      <td>mba-pole</td>\n",
       "      <td>Idle</td>\n",
       "      <td>python main.py</td>\n",
       "      <td>4</td>\n",
       "    </tr>\n",
       "    <tr>\n",
       "      <th>12</th>\n",
       "      <td>cp_goalpri_tp</td>\n",
       "      <td>BalancePole</td>\n",
       "      <td>0.0</td>\n",
       "      <td>cartpole-launch-test</td>\n",
       "      <td>2022-02-09-17-18-50</td>\n",
       "      <td>cp_goalpri_tp.ink</td>\n",
       "      <td>2022-02-09-17-18-50</td>\n",
       "      <td>10.0</td>\n",
       "      <td>cartpole-launch-test1</td>\n",
       "      <td>ACI</td>\n",
       "      <td>mba-pole</td>\n",
       "      <td>Idle</td>\n",
       "      <td>python main.py</td>\n",
       "      <td>1</td>\n",
       "    </tr>\n",
       "    <tr>\n",
       "      <th>13</th>\n",
       "      <td>cp_goalpri_tp</td>\n",
       "      <td>BalancePole</td>\n",
       "      <td>0.0</td>\n",
       "      <td>cartpole-launch-test</td>\n",
       "      <td>2022-02-09-17-19-33</td>\n",
       "      <td>cp_goalpri_tp.ink</td>\n",
       "      <td>2022-02-09-17-19-33</td>\n",
       "      <td>10.0</td>\n",
       "      <td>cartpole-launch-test2</td>\n",
       "      <td>ACI</td>\n",
       "      <td>mba-pole</td>\n",
       "      <td>Idle</td>\n",
       "      <td>python main.py</td>\n",
       "      <td>2</td>\n",
       "    </tr>\n",
       "    <tr>\n",
       "      <th>14</th>\n",
       "      <td>cp_goalpri_tp</td>\n",
       "      <td>BalancePole</td>\n",
       "      <td>0.0</td>\n",
       "      <td>cartpole-launch-test</td>\n",
       "      <td>2022-02-09-17-20-18</td>\n",
       "      <td>cp_goalpri_tp.ink</td>\n",
       "      <td>2022-02-09-17-20-18</td>\n",
       "      <td>10.0</td>\n",
       "      <td>cartpole-launch-test3</td>\n",
       "      <td>ACI</td>\n",
       "      <td>mba-pole</td>\n",
       "      <td>Idle</td>\n",
       "      <td>python main.py</td>\n",
       "      <td>3</td>\n",
       "    </tr>\n",
       "    <tr>\n",
       "      <th>15</th>\n",
       "      <td>cp_goalpri_tp</td>\n",
       "      <td>BalancePole</td>\n",
       "      <td>0.0</td>\n",
       "      <td>cartpole-launch-test</td>\n",
       "      <td>2022-02-09-17-21-05</td>\n",
       "      <td>cp_goalpri_tp.ink</td>\n",
       "      <td>2022-02-09-17-21-05</td>\n",
       "      <td>10.0</td>\n",
       "      <td>cartpole-launch-test4</td>\n",
       "      <td>ACI</td>\n",
       "      <td>mba-pole</td>\n",
       "      <td>Idle</td>\n",
       "      <td>python main.py</td>\n",
       "      <td>4</td>\n",
       "    </tr>\n",
       "    <tr>\n",
       "      <th>16</th>\n",
       "      <td>cp_goalwpri_tp_memory</td>\n",
       "      <td>BalancePole</td>\n",
       "      <td>0.0</td>\n",
       "      <td>cartpole-launch-test</td>\n",
       "      <td>2022-02-09-17-21-18</td>\n",
       "      <td>cp_goalwpri_tp_memory.ink</td>\n",
       "      <td>2022-02-09-17-21-18</td>\n",
       "      <td>10.0</td>\n",
       "      <td>cartpole-launch-test1</td>\n",
       "      <td>ACI</td>\n",
       "      <td>mba-pole</td>\n",
       "      <td>Idle</td>\n",
       "      <td>python main.py</td>\n",
       "      <td>1</td>\n",
       "    </tr>\n",
       "    <tr>\n",
       "      <th>17</th>\n",
       "      <td>cp_goalwpri_tp_memory</td>\n",
       "      <td>BalancePole</td>\n",
       "      <td>0.0</td>\n",
       "      <td>cartpole-launch-test</td>\n",
       "      <td>2022-02-09-17-22-02</td>\n",
       "      <td>cp_goalwpri_tp_memory.ink</td>\n",
       "      <td>2022-02-09-17-22-02</td>\n",
       "      <td>10.0</td>\n",
       "      <td>cartpole-launch-test2</td>\n",
       "      <td>ACI</td>\n",
       "      <td>mba-pole</td>\n",
       "      <td>Idle</td>\n",
       "      <td>python main.py</td>\n",
       "      <td>2</td>\n",
       "    </tr>\n",
       "    <tr>\n",
       "      <th>18</th>\n",
       "      <td>cp_goalwpri_tp_memory</td>\n",
       "      <td>BalancePole</td>\n",
       "      <td>0.0</td>\n",
       "      <td>cartpole-launch-test</td>\n",
       "      <td>2022-02-09-17-22-46</td>\n",
       "      <td>cp_goalwpri_tp_memory.ink</td>\n",
       "      <td>2022-02-09-17-22-46</td>\n",
       "      <td>10.0</td>\n",
       "      <td>cartpole-launch-test3</td>\n",
       "      <td>ACI</td>\n",
       "      <td>mba-pole</td>\n",
       "      <td>Idle</td>\n",
       "      <td>python main.py</td>\n",
       "      <td>3</td>\n",
       "    </tr>\n",
       "    <tr>\n",
       "      <th>19</th>\n",
       "      <td>cp_goalwpri_tp_memory</td>\n",
       "      <td>BalancePole</td>\n",
       "      <td>0.0</td>\n",
       "      <td>cartpole-launch-test</td>\n",
       "      <td>2022-02-09-17-23-31</td>\n",
       "      <td>cp_goalwpri_tp_memory.ink</td>\n",
       "      <td>2022-02-09-17-23-31</td>\n",
       "      <td>10.0</td>\n",
       "      <td>cartpole-launch-test4</td>\n",
       "      <td>ACI</td>\n",
       "      <td>mba-pole</td>\n",
       "      <td>Idle</td>\n",
       "      <td>python main.py</td>\n",
       "      <td>4</td>\n",
       "    </tr>\n",
       "  </tbody>\n",
       "</table>\n",
       "</div>"
      ],
      "text/plain": [
       "                      brain concept_name  dedicated_nodes  \\\n",
       "0   cartpole_single_concept  BalancePole              0.0   \n",
       "1   cartpole_single_concept  BalancePole              0.0   \n",
       "2   cartpole_single_concept  BalancePole              0.0   \n",
       "3   cartpole_single_concept  BalancePole              0.0   \n",
       "4                 cp_memory  BalancePole              0.0   \n",
       "5                 cp_memory  BalancePole              0.0   \n",
       "6                 cp_memory  BalancePole              0.0   \n",
       "7                 cp_memory  BalancePole              0.0   \n",
       "8               cp_goalwpri  BalancePole              0.0   \n",
       "9               cp_goalwpri  BalancePole              0.0   \n",
       "10              cp_goalwpri  BalancePole              0.0   \n",
       "11              cp_goalwpri  BalancePole              0.0   \n",
       "12            cp_goalpri_tp  BalancePole              0.0   \n",
       "13            cp_goalpri_tp  BalancePole              0.0   \n",
       "14            cp_goalpri_tp  BalancePole              0.0   \n",
       "15            cp_goalpri_tp  BalancePole              0.0   \n",
       "16    cp_goalwpri_tp_memory  BalancePole              0.0   \n",
       "17    cp_goalwpri_tp_memory  BalancePole              0.0   \n",
       "18    cp_goalwpri_tp_memory  BalancePole              0.0   \n",
       "19    cp_goalwpri_tp_memory  BalancePole              0.0   \n",
       "\n",
       "              experiment experiment_start_time                      inkling  \\\n",
       "0   cartpole-launch-test   2022-02-09-17-11-14  cartpole_single_concept.ink   \n",
       "1   cartpole-launch-test   2022-02-09-17-11-58  cartpole_single_concept.ink   \n",
       "2   cartpole-launch-test   2022-02-09-17-12-45  cartpole_single_concept.ink   \n",
       "3   cartpole-launch-test   2022-02-09-17-13-32  cartpole_single_concept.ink   \n",
       "4   cartpole-launch-test   2022-02-09-17-13-46                cp_memory.ink   \n",
       "5   cartpole-launch-test   2022-02-09-17-14-32                cp_memory.ink   \n",
       "6   cartpole-launch-test   2022-02-09-17-15-19                cp_memory.ink   \n",
       "7   cartpole-launch-test   2022-02-09-17-16-05                cp_memory.ink   \n",
       "8   cartpole-launch-test   2022-02-09-17-16-21              cp_goalwpri.ink   \n",
       "9   cartpole-launch-test   2022-02-09-17-17-08              cp_goalwpri.ink   \n",
       "10  cartpole-launch-test   2022-02-09-17-17-53              cp_goalwpri.ink   \n",
       "11  cartpole-launch-test   2022-02-09-17-18-37              cp_goalwpri.ink   \n",
       "12  cartpole-launch-test   2022-02-09-17-18-50            cp_goalpri_tp.ink   \n",
       "13  cartpole-launch-test   2022-02-09-17-19-33            cp_goalpri_tp.ink   \n",
       "14  cartpole-launch-test   2022-02-09-17-20-18            cp_goalpri_tp.ink   \n",
       "15  cartpole-launch-test   2022-02-09-17-21-05            cp_goalpri_tp.ink   \n",
       "16  cartpole-launch-test   2022-02-09-17-21-18    cp_goalwpri_tp_memory.ink   \n",
       "17  cartpole-launch-test   2022-02-09-17-22-02    cp_goalwpri_tp_memory.ink   \n",
       "18  cartpole-launch-test   2022-02-09-17-22-46    cp_goalwpri_tp_memory.ink   \n",
       "19  cartpole-launch-test   2022-02-09-17-23-31    cp_goalwpri_tp_memory.ink   \n",
       "\n",
       "           last_checked  low_pri_nodes              pool_name scale_platform  \\\n",
       "0   2022-02-09-17-11-14           10.0  cartpole-launch-test1            ACI   \n",
       "1   2022-02-09-17-11-58           10.0  cartpole-launch-test2            ACI   \n",
       "2   2022-02-09-17-12-45           10.0  cartpole-launch-test3            ACI   \n",
       "3   2022-02-09-17-13-32           10.0  cartpole-launch-test4            ACI   \n",
       "4   2022-02-09-17-13-46           10.0  cartpole-launch-test1            ACI   \n",
       "5   2022-02-09-17-14-32           10.0  cartpole-launch-test2            ACI   \n",
       "6   2022-02-09-17-15-19           10.0  cartpole-launch-test3            ACI   \n",
       "7   2022-02-09-17-16-05           10.0  cartpole-launch-test4            ACI   \n",
       "8   2022-02-09-17-16-21           10.0  cartpole-launch-test1            ACI   \n",
       "9   2022-02-09-17-17-08           10.0  cartpole-launch-test2            ACI   \n",
       "10  2022-02-09-17-17-53           10.0  cartpole-launch-test3            ACI   \n",
       "11  2022-02-09-17-18-37           10.0  cartpole-launch-test4            ACI   \n",
       "12  2022-02-09-17-18-50           10.0  cartpole-launch-test1            ACI   \n",
       "13  2022-02-09-17-19-33           10.0  cartpole-launch-test2            ACI   \n",
       "14  2022-02-09-17-20-18           10.0  cartpole-launch-test3            ACI   \n",
       "15  2022-02-09-17-21-05           10.0  cartpole-launch-test4            ACI   \n",
       "16  2022-02-09-17-21-18           10.0  cartpole-launch-test1            ACI   \n",
       "17  2022-02-09-17-22-02           10.0  cartpole-launch-test2            ACI   \n",
       "18  2022-02-09-17-22-46           10.0  cartpole-launch-test3            ACI   \n",
       "19  2022-02-09-17-23-31           10.0  cartpole-launch-test4            ACI   \n",
       "\n",
       "         sim  status            task version  \n",
       "0   mba-pole    Idle  python main.py       1  \n",
       "1   mba-pole    Idle  python main.py       2  \n",
       "2   mba-pole    Idle  python main.py       3  \n",
       "3   mba-pole    Idle  python main.py       4  \n",
       "4   mba-pole    Idle  python main.py       1  \n",
       "5   mba-pole  Active  python main.py       2  \n",
       "6   mba-pole    Idle  python main.py       3  \n",
       "7   mba-pole    Idle  python main.py       4  \n",
       "8   mba-pole    Idle  python main.py       1  \n",
       "9   mba-pole    Idle  python main.py       2  \n",
       "10  mba-pole    Idle  python main.py       3  \n",
       "11  mba-pole    Idle  python main.py       4  \n",
       "12  mba-pole    Idle  python main.py       1  \n",
       "13  mba-pole    Idle  python main.py       2  \n",
       "14  mba-pole    Idle  python main.py       3  \n",
       "15  mba-pole    Idle  python main.py       4  \n",
       "16  mba-pole    Idle  python main.py       1  \n",
       "17  mba-pole    Idle  python main.py       2  \n",
       "18  mba-pole    Idle  python main.py       3  \n",
       "19  mba-pole    Idle  python main.py       4  "
      ]
     },
     "execution_count": 21,
     "metadata": {},
     "output_type": "execute_result"
    }
   ],
   "source": [
    "running_experiments"
   ]
  },
  {
   "cell_type": "markdown",
   "metadata": {},
   "source": [
    "## Launch Assessments"
   ]
  },
  {
   "cell_type": "code",
   "execution_count": 23,
   "metadata": {},
   "outputs": [],
   "source": [
    "# running_experiments.to_csv(\"running_experiments.csv\")"
   ]
  },
  {
   "cell_type": "code",
   "execution_count": 3,
   "metadata": {},
   "outputs": [],
   "source": [
    "running_experiments = pd.read_csv(\"running_experiments.csv\")"
   ]
  },
  {
   "cell_type": "code",
   "execution_count": 4,
   "metadata": {},
   "outputs": [
    {
     "data": {
      "text/html": [
       "<div>\n",
       "<style scoped>\n",
       "    .dataframe tbody tr th:only-of-type {\n",
       "        vertical-align: middle;\n",
       "    }\n",
       "\n",
       "    .dataframe tbody tr th {\n",
       "        vertical-align: top;\n",
       "    }\n",
       "\n",
       "    .dataframe thead th {\n",
       "        text-align: right;\n",
       "    }\n",
       "</style>\n",
       "<table border=\"1\" class=\"dataframe\">\n",
       "  <thead>\n",
       "    <tr style=\"text-align: right;\">\n",
       "      <th></th>\n",
       "      <th>Unnamed: 0</th>\n",
       "      <th>brain</th>\n",
       "      <th>concept_name</th>\n",
       "      <th>dedicated_nodes</th>\n",
       "      <th>experiment</th>\n",
       "      <th>experiment_start_time</th>\n",
       "      <th>inkling</th>\n",
       "      <th>last_checked</th>\n",
       "      <th>low_pri_nodes</th>\n",
       "      <th>pool_name</th>\n",
       "      <th>scale_platform</th>\n",
       "      <th>sim</th>\n",
       "      <th>status</th>\n",
       "      <th>task</th>\n",
       "      <th>version</th>\n",
       "    </tr>\n",
       "  </thead>\n",
       "  <tbody>\n",
       "    <tr>\n",
       "      <th>0</th>\n",
       "      <td>0</td>\n",
       "      <td>cartpole_single_concept</td>\n",
       "      <td>BalancePole</td>\n",
       "      <td>0.0</td>\n",
       "      <td>cartpole-launch-test</td>\n",
       "      <td>2022-02-09-17-11-14</td>\n",
       "      <td>cartpole_single_concept.ink</td>\n",
       "      <td>2022-02-09-17-11-14</td>\n",
       "      <td>10.0</td>\n",
       "      <td>cartpole-launch-test1</td>\n",
       "      <td>ACI</td>\n",
       "      <td>mba-pole</td>\n",
       "      <td>Idle</td>\n",
       "      <td>python main.py</td>\n",
       "      <td>1</td>\n",
       "    </tr>\n",
       "    <tr>\n",
       "      <th>1</th>\n",
       "      <td>1</td>\n",
       "      <td>cartpole_single_concept</td>\n",
       "      <td>BalancePole</td>\n",
       "      <td>0.0</td>\n",
       "      <td>cartpole-launch-test</td>\n",
       "      <td>2022-02-09-17-11-58</td>\n",
       "      <td>cartpole_single_concept.ink</td>\n",
       "      <td>2022-02-09-17-11-58</td>\n",
       "      <td>10.0</td>\n",
       "      <td>cartpole-launch-test2</td>\n",
       "      <td>ACI</td>\n",
       "      <td>mba-pole</td>\n",
       "      <td>Idle</td>\n",
       "      <td>python main.py</td>\n",
       "      <td>2</td>\n",
       "    </tr>\n",
       "    <tr>\n",
       "      <th>2</th>\n",
       "      <td>2</td>\n",
       "      <td>cartpole_single_concept</td>\n",
       "      <td>BalancePole</td>\n",
       "      <td>0.0</td>\n",
       "      <td>cartpole-launch-test</td>\n",
       "      <td>2022-02-09-17-12-45</td>\n",
       "      <td>cartpole_single_concept.ink</td>\n",
       "      <td>2022-02-09-17-12-45</td>\n",
       "      <td>10.0</td>\n",
       "      <td>cartpole-launch-test3</td>\n",
       "      <td>ACI</td>\n",
       "      <td>mba-pole</td>\n",
       "      <td>Idle</td>\n",
       "      <td>python main.py</td>\n",
       "      <td>3</td>\n",
       "    </tr>\n",
       "    <tr>\n",
       "      <th>3</th>\n",
       "      <td>3</td>\n",
       "      <td>cartpole_single_concept</td>\n",
       "      <td>BalancePole</td>\n",
       "      <td>0.0</td>\n",
       "      <td>cartpole-launch-test</td>\n",
       "      <td>2022-02-09-17-13-32</td>\n",
       "      <td>cartpole_single_concept.ink</td>\n",
       "      <td>2022-02-09-17-13-32</td>\n",
       "      <td>10.0</td>\n",
       "      <td>cartpole-launch-test4</td>\n",
       "      <td>ACI</td>\n",
       "      <td>mba-pole</td>\n",
       "      <td>Idle</td>\n",
       "      <td>python main.py</td>\n",
       "      <td>4</td>\n",
       "    </tr>\n",
       "    <tr>\n",
       "      <th>4</th>\n",
       "      <td>4</td>\n",
       "      <td>cp_memory</td>\n",
       "      <td>BalancePole</td>\n",
       "      <td>0.0</td>\n",
       "      <td>cartpole-launch-test</td>\n",
       "      <td>2022-02-09-17-13-46</td>\n",
       "      <td>cp_memory.ink</td>\n",
       "      <td>2022-02-09-17-13-46</td>\n",
       "      <td>10.0</td>\n",
       "      <td>cartpole-launch-test1</td>\n",
       "      <td>ACI</td>\n",
       "      <td>mba-pole</td>\n",
       "      <td>Idle</td>\n",
       "      <td>python main.py</td>\n",
       "      <td>1</td>\n",
       "    </tr>\n",
       "    <tr>\n",
       "      <th>5</th>\n",
       "      <td>5</td>\n",
       "      <td>cp_memory</td>\n",
       "      <td>BalancePole</td>\n",
       "      <td>0.0</td>\n",
       "      <td>cartpole-launch-test</td>\n",
       "      <td>2022-02-09-17-14-32</td>\n",
       "      <td>cp_memory.ink</td>\n",
       "      <td>2022-02-09-17-14-32</td>\n",
       "      <td>10.0</td>\n",
       "      <td>cartpole-launch-test2</td>\n",
       "      <td>ACI</td>\n",
       "      <td>mba-pole</td>\n",
       "      <td>Active</td>\n",
       "      <td>python main.py</td>\n",
       "      <td>2</td>\n",
       "    </tr>\n",
       "    <tr>\n",
       "      <th>6</th>\n",
       "      <td>6</td>\n",
       "      <td>cp_memory</td>\n",
       "      <td>BalancePole</td>\n",
       "      <td>0.0</td>\n",
       "      <td>cartpole-launch-test</td>\n",
       "      <td>2022-02-09-17-15-19</td>\n",
       "      <td>cp_memory.ink</td>\n",
       "      <td>2022-02-09-17-15-19</td>\n",
       "      <td>10.0</td>\n",
       "      <td>cartpole-launch-test3</td>\n",
       "      <td>ACI</td>\n",
       "      <td>mba-pole</td>\n",
       "      <td>Idle</td>\n",
       "      <td>python main.py</td>\n",
       "      <td>3</td>\n",
       "    </tr>\n",
       "    <tr>\n",
       "      <th>7</th>\n",
       "      <td>7</td>\n",
       "      <td>cp_memory</td>\n",
       "      <td>BalancePole</td>\n",
       "      <td>0.0</td>\n",
       "      <td>cartpole-launch-test</td>\n",
       "      <td>2022-02-09-17-16-05</td>\n",
       "      <td>cp_memory.ink</td>\n",
       "      <td>2022-02-09-17-16-05</td>\n",
       "      <td>10.0</td>\n",
       "      <td>cartpole-launch-test4</td>\n",
       "      <td>ACI</td>\n",
       "      <td>mba-pole</td>\n",
       "      <td>Idle</td>\n",
       "      <td>python main.py</td>\n",
       "      <td>4</td>\n",
       "    </tr>\n",
       "    <tr>\n",
       "      <th>8</th>\n",
       "      <td>8</td>\n",
       "      <td>cp_goalwpri</td>\n",
       "      <td>BalancePole</td>\n",
       "      <td>0.0</td>\n",
       "      <td>cartpole-launch-test</td>\n",
       "      <td>2022-02-09-17-16-21</td>\n",
       "      <td>cp_goalwpri.ink</td>\n",
       "      <td>2022-02-09-17-16-21</td>\n",
       "      <td>10.0</td>\n",
       "      <td>cartpole-launch-test1</td>\n",
       "      <td>ACI</td>\n",
       "      <td>mba-pole</td>\n",
       "      <td>Idle</td>\n",
       "      <td>python main.py</td>\n",
       "      <td>1</td>\n",
       "    </tr>\n",
       "    <tr>\n",
       "      <th>9</th>\n",
       "      <td>9</td>\n",
       "      <td>cp_goalwpri</td>\n",
       "      <td>BalancePole</td>\n",
       "      <td>0.0</td>\n",
       "      <td>cartpole-launch-test</td>\n",
       "      <td>2022-02-09-17-17-08</td>\n",
       "      <td>cp_goalwpri.ink</td>\n",
       "      <td>2022-02-09-17-17-08</td>\n",
       "      <td>10.0</td>\n",
       "      <td>cartpole-launch-test2</td>\n",
       "      <td>ACI</td>\n",
       "      <td>mba-pole</td>\n",
       "      <td>Idle</td>\n",
       "      <td>python main.py</td>\n",
       "      <td>2</td>\n",
       "    </tr>\n",
       "    <tr>\n",
       "      <th>10</th>\n",
       "      <td>10</td>\n",
       "      <td>cp_goalwpri</td>\n",
       "      <td>BalancePole</td>\n",
       "      <td>0.0</td>\n",
       "      <td>cartpole-launch-test</td>\n",
       "      <td>2022-02-09-17-17-53</td>\n",
       "      <td>cp_goalwpri.ink</td>\n",
       "      <td>2022-02-09-17-17-53</td>\n",
       "      <td>10.0</td>\n",
       "      <td>cartpole-launch-test3</td>\n",
       "      <td>ACI</td>\n",
       "      <td>mba-pole</td>\n",
       "      <td>Idle</td>\n",
       "      <td>python main.py</td>\n",
       "      <td>3</td>\n",
       "    </tr>\n",
       "    <tr>\n",
       "      <th>11</th>\n",
       "      <td>11</td>\n",
       "      <td>cp_goalwpri</td>\n",
       "      <td>BalancePole</td>\n",
       "      <td>0.0</td>\n",
       "      <td>cartpole-launch-test</td>\n",
       "      <td>2022-02-09-17-18-37</td>\n",
       "      <td>cp_goalwpri.ink</td>\n",
       "      <td>2022-02-09-17-18-37</td>\n",
       "      <td>10.0</td>\n",
       "      <td>cartpole-launch-test4</td>\n",
       "      <td>ACI</td>\n",
       "      <td>mba-pole</td>\n",
       "      <td>Idle</td>\n",
       "      <td>python main.py</td>\n",
       "      <td>4</td>\n",
       "    </tr>\n",
       "    <tr>\n",
       "      <th>12</th>\n",
       "      <td>12</td>\n",
       "      <td>cp_goalpri_tp</td>\n",
       "      <td>BalancePole</td>\n",
       "      <td>0.0</td>\n",
       "      <td>cartpole-launch-test</td>\n",
       "      <td>2022-02-09-17-18-50</td>\n",
       "      <td>cp_goalpri_tp.ink</td>\n",
       "      <td>2022-02-09-17-18-50</td>\n",
       "      <td>10.0</td>\n",
       "      <td>cartpole-launch-test1</td>\n",
       "      <td>ACI</td>\n",
       "      <td>mba-pole</td>\n",
       "      <td>Idle</td>\n",
       "      <td>python main.py</td>\n",
       "      <td>1</td>\n",
       "    </tr>\n",
       "    <tr>\n",
       "      <th>13</th>\n",
       "      <td>13</td>\n",
       "      <td>cp_goalpri_tp</td>\n",
       "      <td>BalancePole</td>\n",
       "      <td>0.0</td>\n",
       "      <td>cartpole-launch-test</td>\n",
       "      <td>2022-02-09-17-19-33</td>\n",
       "      <td>cp_goalpri_tp.ink</td>\n",
       "      <td>2022-02-09-17-19-33</td>\n",
       "      <td>10.0</td>\n",
       "      <td>cartpole-launch-test2</td>\n",
       "      <td>ACI</td>\n",
       "      <td>mba-pole</td>\n",
       "      <td>Idle</td>\n",
       "      <td>python main.py</td>\n",
       "      <td>2</td>\n",
       "    </tr>\n",
       "    <tr>\n",
       "      <th>14</th>\n",
       "      <td>14</td>\n",
       "      <td>cp_goalpri_tp</td>\n",
       "      <td>BalancePole</td>\n",
       "      <td>0.0</td>\n",
       "      <td>cartpole-launch-test</td>\n",
       "      <td>2022-02-09-17-20-18</td>\n",
       "      <td>cp_goalpri_tp.ink</td>\n",
       "      <td>2022-02-09-17-20-18</td>\n",
       "      <td>10.0</td>\n",
       "      <td>cartpole-launch-test3</td>\n",
       "      <td>ACI</td>\n",
       "      <td>mba-pole</td>\n",
       "      <td>Idle</td>\n",
       "      <td>python main.py</td>\n",
       "      <td>3</td>\n",
       "    </tr>\n",
       "    <tr>\n",
       "      <th>15</th>\n",
       "      <td>15</td>\n",
       "      <td>cp_goalpri_tp</td>\n",
       "      <td>BalancePole</td>\n",
       "      <td>0.0</td>\n",
       "      <td>cartpole-launch-test</td>\n",
       "      <td>2022-02-09-17-21-05</td>\n",
       "      <td>cp_goalpri_tp.ink</td>\n",
       "      <td>2022-02-09-17-21-05</td>\n",
       "      <td>10.0</td>\n",
       "      <td>cartpole-launch-test4</td>\n",
       "      <td>ACI</td>\n",
       "      <td>mba-pole</td>\n",
       "      <td>Idle</td>\n",
       "      <td>python main.py</td>\n",
       "      <td>4</td>\n",
       "    </tr>\n",
       "    <tr>\n",
       "      <th>16</th>\n",
       "      <td>16</td>\n",
       "      <td>cp_goalwpri_tp_memory</td>\n",
       "      <td>BalancePole</td>\n",
       "      <td>0.0</td>\n",
       "      <td>cartpole-launch-test</td>\n",
       "      <td>2022-02-09-17-21-18</td>\n",
       "      <td>cp_goalwpri_tp_memory.ink</td>\n",
       "      <td>2022-02-09-17-21-18</td>\n",
       "      <td>10.0</td>\n",
       "      <td>cartpole-launch-test1</td>\n",
       "      <td>ACI</td>\n",
       "      <td>mba-pole</td>\n",
       "      <td>Idle</td>\n",
       "      <td>python main.py</td>\n",
       "      <td>1</td>\n",
       "    </tr>\n",
       "    <tr>\n",
       "      <th>17</th>\n",
       "      <td>17</td>\n",
       "      <td>cp_goalwpri_tp_memory</td>\n",
       "      <td>BalancePole</td>\n",
       "      <td>0.0</td>\n",
       "      <td>cartpole-launch-test</td>\n",
       "      <td>2022-02-09-17-22-02</td>\n",
       "      <td>cp_goalwpri_tp_memory.ink</td>\n",
       "      <td>2022-02-09-17-22-02</td>\n",
       "      <td>10.0</td>\n",
       "      <td>cartpole-launch-test2</td>\n",
       "      <td>ACI</td>\n",
       "      <td>mba-pole</td>\n",
       "      <td>Idle</td>\n",
       "      <td>python main.py</td>\n",
       "      <td>2</td>\n",
       "    </tr>\n",
       "    <tr>\n",
       "      <th>18</th>\n",
       "      <td>18</td>\n",
       "      <td>cp_goalwpri_tp_memory</td>\n",
       "      <td>BalancePole</td>\n",
       "      <td>0.0</td>\n",
       "      <td>cartpole-launch-test</td>\n",
       "      <td>2022-02-09-17-22-46</td>\n",
       "      <td>cp_goalwpri_tp_memory.ink</td>\n",
       "      <td>2022-02-09-17-22-46</td>\n",
       "      <td>10.0</td>\n",
       "      <td>cartpole-launch-test3</td>\n",
       "      <td>ACI</td>\n",
       "      <td>mba-pole</td>\n",
       "      <td>Idle</td>\n",
       "      <td>python main.py</td>\n",
       "      <td>3</td>\n",
       "    </tr>\n",
       "    <tr>\n",
       "      <th>19</th>\n",
       "      <td>19</td>\n",
       "      <td>cp_goalwpri_tp_memory</td>\n",
       "      <td>BalancePole</td>\n",
       "      <td>0.0</td>\n",
       "      <td>cartpole-launch-test</td>\n",
       "      <td>2022-02-09-17-23-31</td>\n",
       "      <td>cp_goalwpri_tp_memory.ink</td>\n",
       "      <td>2022-02-09-17-23-31</td>\n",
       "      <td>10.0</td>\n",
       "      <td>cartpole-launch-test4</td>\n",
       "      <td>ACI</td>\n",
       "      <td>mba-pole</td>\n",
       "      <td>Idle</td>\n",
       "      <td>python main.py</td>\n",
       "      <td>4</td>\n",
       "    </tr>\n",
       "  </tbody>\n",
       "</table>\n",
       "</div>"
      ],
      "text/plain": [
       "    Unnamed: 0                    brain concept_name  dedicated_nodes  \\\n",
       "0            0  cartpole_single_concept  BalancePole              0.0   \n",
       "1            1  cartpole_single_concept  BalancePole              0.0   \n",
       "2            2  cartpole_single_concept  BalancePole              0.0   \n",
       "3            3  cartpole_single_concept  BalancePole              0.0   \n",
       "4            4                cp_memory  BalancePole              0.0   \n",
       "5            5                cp_memory  BalancePole              0.0   \n",
       "6            6                cp_memory  BalancePole              0.0   \n",
       "7            7                cp_memory  BalancePole              0.0   \n",
       "8            8              cp_goalwpri  BalancePole              0.0   \n",
       "9            9              cp_goalwpri  BalancePole              0.0   \n",
       "10          10              cp_goalwpri  BalancePole              0.0   \n",
       "11          11              cp_goalwpri  BalancePole              0.0   \n",
       "12          12            cp_goalpri_tp  BalancePole              0.0   \n",
       "13          13            cp_goalpri_tp  BalancePole              0.0   \n",
       "14          14            cp_goalpri_tp  BalancePole              0.0   \n",
       "15          15            cp_goalpri_tp  BalancePole              0.0   \n",
       "16          16    cp_goalwpri_tp_memory  BalancePole              0.0   \n",
       "17          17    cp_goalwpri_tp_memory  BalancePole              0.0   \n",
       "18          18    cp_goalwpri_tp_memory  BalancePole              0.0   \n",
       "19          19    cp_goalwpri_tp_memory  BalancePole              0.0   \n",
       "\n",
       "              experiment experiment_start_time                      inkling  \\\n",
       "0   cartpole-launch-test   2022-02-09-17-11-14  cartpole_single_concept.ink   \n",
       "1   cartpole-launch-test   2022-02-09-17-11-58  cartpole_single_concept.ink   \n",
       "2   cartpole-launch-test   2022-02-09-17-12-45  cartpole_single_concept.ink   \n",
       "3   cartpole-launch-test   2022-02-09-17-13-32  cartpole_single_concept.ink   \n",
       "4   cartpole-launch-test   2022-02-09-17-13-46                cp_memory.ink   \n",
       "5   cartpole-launch-test   2022-02-09-17-14-32                cp_memory.ink   \n",
       "6   cartpole-launch-test   2022-02-09-17-15-19                cp_memory.ink   \n",
       "7   cartpole-launch-test   2022-02-09-17-16-05                cp_memory.ink   \n",
       "8   cartpole-launch-test   2022-02-09-17-16-21              cp_goalwpri.ink   \n",
       "9   cartpole-launch-test   2022-02-09-17-17-08              cp_goalwpri.ink   \n",
       "10  cartpole-launch-test   2022-02-09-17-17-53              cp_goalwpri.ink   \n",
       "11  cartpole-launch-test   2022-02-09-17-18-37              cp_goalwpri.ink   \n",
       "12  cartpole-launch-test   2022-02-09-17-18-50            cp_goalpri_tp.ink   \n",
       "13  cartpole-launch-test   2022-02-09-17-19-33            cp_goalpri_tp.ink   \n",
       "14  cartpole-launch-test   2022-02-09-17-20-18            cp_goalpri_tp.ink   \n",
       "15  cartpole-launch-test   2022-02-09-17-21-05            cp_goalpri_tp.ink   \n",
       "16  cartpole-launch-test   2022-02-09-17-21-18    cp_goalwpri_tp_memory.ink   \n",
       "17  cartpole-launch-test   2022-02-09-17-22-02    cp_goalwpri_tp_memory.ink   \n",
       "18  cartpole-launch-test   2022-02-09-17-22-46    cp_goalwpri_tp_memory.ink   \n",
       "19  cartpole-launch-test   2022-02-09-17-23-31    cp_goalwpri_tp_memory.ink   \n",
       "\n",
       "           last_checked  low_pri_nodes              pool_name scale_platform  \\\n",
       "0   2022-02-09-17-11-14           10.0  cartpole-launch-test1            ACI   \n",
       "1   2022-02-09-17-11-58           10.0  cartpole-launch-test2            ACI   \n",
       "2   2022-02-09-17-12-45           10.0  cartpole-launch-test3            ACI   \n",
       "3   2022-02-09-17-13-32           10.0  cartpole-launch-test4            ACI   \n",
       "4   2022-02-09-17-13-46           10.0  cartpole-launch-test1            ACI   \n",
       "5   2022-02-09-17-14-32           10.0  cartpole-launch-test2            ACI   \n",
       "6   2022-02-09-17-15-19           10.0  cartpole-launch-test3            ACI   \n",
       "7   2022-02-09-17-16-05           10.0  cartpole-launch-test4            ACI   \n",
       "8   2022-02-09-17-16-21           10.0  cartpole-launch-test1            ACI   \n",
       "9   2022-02-09-17-17-08           10.0  cartpole-launch-test2            ACI   \n",
       "10  2022-02-09-17-17-53           10.0  cartpole-launch-test3            ACI   \n",
       "11  2022-02-09-17-18-37           10.0  cartpole-launch-test4            ACI   \n",
       "12  2022-02-09-17-18-50           10.0  cartpole-launch-test1            ACI   \n",
       "13  2022-02-09-17-19-33           10.0  cartpole-launch-test2            ACI   \n",
       "14  2022-02-09-17-20-18           10.0  cartpole-launch-test3            ACI   \n",
       "15  2022-02-09-17-21-05           10.0  cartpole-launch-test4            ACI   \n",
       "16  2022-02-09-17-21-18           10.0  cartpole-launch-test1            ACI   \n",
       "17  2022-02-09-17-22-02           10.0  cartpole-launch-test2            ACI   \n",
       "18  2022-02-09-17-22-46           10.0  cartpole-launch-test3            ACI   \n",
       "19  2022-02-09-17-23-31           10.0  cartpole-launch-test4            ACI   \n",
       "\n",
       "         sim  status            task  version  \n",
       "0   mba-pole    Idle  python main.py        1  \n",
       "1   mba-pole    Idle  python main.py        2  \n",
       "2   mba-pole    Idle  python main.py        3  \n",
       "3   mba-pole    Idle  python main.py        4  \n",
       "4   mba-pole    Idle  python main.py        1  \n",
       "5   mba-pole  Active  python main.py        2  \n",
       "6   mba-pole    Idle  python main.py        3  \n",
       "7   mba-pole    Idle  python main.py        4  \n",
       "8   mba-pole    Idle  python main.py        1  \n",
       "9   mba-pole    Idle  python main.py        2  \n",
       "10  mba-pole    Idle  python main.py        3  \n",
       "11  mba-pole    Idle  python main.py        4  \n",
       "12  mba-pole    Idle  python main.py        1  \n",
       "13  mba-pole    Idle  python main.py        2  \n",
       "14  mba-pole    Idle  python main.py        3  \n",
       "15  mba-pole    Idle  python main.py        4  \n",
       "16  mba-pole    Idle  python main.py        1  \n",
       "17  mba-pole    Idle  python main.py        2  \n",
       "18  mba-pole    Idle  python main.py        3  \n",
       "19  mba-pole    Idle  python main.py        4  "
      ]
     },
     "execution_count": 4,
     "metadata": {},
     "output_type": "execute_result"
    }
   ],
   "source": [
    "running_experiments"
   ]
  },
  {
   "cell_type": "code",
   "execution_count": 15,
   "metadata": {
    "collapsed": true,
    "jupyter": {
     "outputs_hidden": true
    },
    "tags": []
   },
   "outputs": [
    {
     "name": "stderr",
     "output_type": "stream",
     "text": [
      "/anaconda/envs/bonsai-batch/lib/python3.7/site-packages/msal_extensions/token_cache.py:96: RuntimeWarning: You are using an unprotected token cache\n",
      "  warnings.warn(\"You are using an unprotected token cache\", RuntimeWarning)\n"
     ]
    },
    {
     "data": {
      "text/html": [
       "<pre style=\"white-space:pre;overflow-x:auto;line-height:normal;font-family:Menlo,'DejaVu Sans Mono',consolas,'Courier New',monospace\"><span style=\"color: #7fbfbf\">[19:27:30] </span><span style=\"color: #000080\">INFO    </span> Starting assessment on cartpole_single_concept   <a href=\"file:///home/alizaidi/bonsai/bonsai-batch/batch_containers.py\"><span style=\"color: #7f7f7f\">batch_containers.py</span></a><span style=\"color: #7f7f7f\">:1063</span>\n",
       "                    and version <span style=\"color: #000080; font-weight: bold\">1</span>                                                            \n",
       "</pre>\n"
      ],
      "text/plain": [
       "<rich.jupyter.JupyterRenderable at 0x7f384b9db590>"
      ]
     },
     "metadata": {},
     "output_type": "display_data"
    },
    {
     "name": "stderr",
     "output_type": "stream",
     "text": [
      "/anaconda/envs/bonsai-batch/lib/python3.7/site-packages/msal_extensions/token_cache.py:96: RuntimeWarning: You are using an unprotected token cache\n",
      "  warnings.warn(\"You are using an unprotected token cache\", RuntimeWarning)\n",
      "/anaconda/envs/bonsai-batch/lib/python3.7/site-packages/msal_extensions/token_cache.py:96: RuntimeWarning: You are using an unprotected token cache\n",
      "  warnings.warn(\"You are using an unprotected token cache\", RuntimeWarning)\n"
     ]
    },
    {
     "data": {
      "text/html": [
       "<pre style=\"white-space:pre;overflow-x:auto;line-height:normal;font-family:Menlo,'DejaVu Sans Mono',consolas,'Courier New',monospace\"><span style=\"color: #7fbfbf\">[19:27:35] </span><span style=\"color: #000080\">INFO    </span> Starting assessment on cartpole_single_concept   <a href=\"file:///home/alizaidi/bonsai/bonsai-batch/batch_containers.py\"><span style=\"color: #7f7f7f\">batch_containers.py</span></a><span style=\"color: #7f7f7f\">:1063</span>\n",
       "                    and version <span style=\"color: #000080; font-weight: bold\">2</span>                                                            \n",
       "</pre>\n"
      ],
      "text/plain": [
       "<rich.jupyter.JupyterRenderable at 0x7f384bc142d0>"
      ]
     },
     "metadata": {},
     "output_type": "display_data"
    },
    {
     "name": "stderr",
     "output_type": "stream",
     "text": [
      "/anaconda/envs/bonsai-batch/lib/python3.7/site-packages/msal_extensions/token_cache.py:96: RuntimeWarning: You are using an unprotected token cache\n",
      "  warnings.warn(\"You are using an unprotected token cache\", RuntimeWarning)\n",
      "/anaconda/envs/bonsai-batch/lib/python3.7/site-packages/msal_extensions/token_cache.py:96: RuntimeWarning: You are using an unprotected token cache\n",
      "  warnings.warn(\"You are using an unprotected token cache\", RuntimeWarning)\n"
     ]
    },
    {
     "data": {
      "text/html": [
       "<pre style=\"white-space:pre;overflow-x:auto;line-height:normal;font-family:Menlo,'DejaVu Sans Mono',consolas,'Courier New',monospace\"><span style=\"color: #7fbfbf\">[19:27:41] </span><span style=\"color: #000080\">INFO    </span> Starting assessment on cartpole_single_concept   <a href=\"file:///home/alizaidi/bonsai/bonsai-batch/batch_containers.py\"><span style=\"color: #7f7f7f\">batch_containers.py</span></a><span style=\"color: #7f7f7f\">:1063</span>\n",
       "                    and version <span style=\"color: #000080; font-weight: bold\">3</span>                                                            \n",
       "</pre>\n"
      ],
      "text/plain": [
       "<rich.jupyter.JupyterRenderable at 0x7f380f06abd0>"
      ]
     },
     "metadata": {},
     "output_type": "display_data"
    },
    {
     "name": "stderr",
     "output_type": "stream",
     "text": [
      "/anaconda/envs/bonsai-batch/lib/python3.7/site-packages/msal_extensions/token_cache.py:96: RuntimeWarning: You are using an unprotected token cache\n",
      "  warnings.warn(\"You are using an unprotected token cache\", RuntimeWarning)\n",
      "/anaconda/envs/bonsai-batch/lib/python3.7/site-packages/msal_extensions/token_cache.py:96: RuntimeWarning: You are using an unprotected token cache\n",
      "  warnings.warn(\"You are using an unprotected token cache\", RuntimeWarning)\n"
     ]
    },
    {
     "data": {
      "text/html": [
       "<pre style=\"white-space:pre;overflow-x:auto;line-height:normal;font-family:Menlo,'DejaVu Sans Mono',consolas,'Courier New',monospace\"><span style=\"color: #7fbfbf\">[19:27:47] </span><span style=\"color: #000080\">INFO    </span> Starting assessment on cartpole_single_concept   <a href=\"file:///home/alizaidi/bonsai/bonsai-batch/batch_containers.py\"><span style=\"color: #7f7f7f\">batch_containers.py</span></a><span style=\"color: #7f7f7f\">:1063</span>\n",
       "                    and version <span style=\"color: #000080; font-weight: bold\">4</span>                                                            \n",
       "</pre>\n"
      ],
      "text/plain": [
       "<rich.jupyter.JupyterRenderable at 0x7f384bc18890>"
      ]
     },
     "metadata": {},
     "output_type": "display_data"
    },
    {
     "name": "stderr",
     "output_type": "stream",
     "text": [
      "/anaconda/envs/bonsai-batch/lib/python3.7/site-packages/msal_extensions/token_cache.py:96: RuntimeWarning: You are using an unprotected token cache\n",
      "  warnings.warn(\"You are using an unprotected token cache\", RuntimeWarning)\n",
      "/anaconda/envs/bonsai-batch/lib/python3.7/site-packages/msal_extensions/token_cache.py:96: RuntimeWarning: You are using an unprotected token cache\n",
      "  warnings.warn(\"You are using an unprotected token cache\", RuntimeWarning)\n"
     ]
    },
    {
     "data": {
      "text/html": [
       "<pre style=\"white-space:pre;overflow-x:auto;line-height:normal;font-family:Menlo,'DejaVu Sans Mono',consolas,'Courier New',monospace\"><span style=\"color: #7fbfbf\">[19:27:53] </span><span style=\"color: #000080\">INFO    </span> Starting assessment on cp_memory and version <span style=\"color: #000080; font-weight: bold\">1</span>   <a href=\"file:///home/alizaidi/bonsai/bonsai-batch/batch_containers.py\"><span style=\"color: #7f7f7f\">batch_containers.py</span></a><span style=\"color: #7f7f7f\">:1063</span>\n",
       "</pre>\n"
      ],
      "text/plain": [
       "<rich.jupyter.JupyterRenderable at 0x7f380f06abd0>"
      ]
     },
     "metadata": {},
     "output_type": "display_data"
    },
    {
     "name": "stderr",
     "output_type": "stream",
     "text": [
      "/anaconda/envs/bonsai-batch/lib/python3.7/site-packages/msal_extensions/token_cache.py:96: RuntimeWarning: You are using an unprotected token cache\n",
      "  warnings.warn(\"You are using an unprotected token cache\", RuntimeWarning)\n",
      "/anaconda/envs/bonsai-batch/lib/python3.7/site-packages/msal_extensions/token_cache.py:96: RuntimeWarning: You are using an unprotected token cache\n",
      "  warnings.warn(\"You are using an unprotected token cache\", RuntimeWarning)\n"
     ]
    },
    {
     "data": {
      "text/html": [
       "<pre style=\"white-space:pre;overflow-x:auto;line-height:normal;font-family:Menlo,'DejaVu Sans Mono',consolas,'Courier New',monospace\"><span style=\"color: #7fbfbf\">[19:27:59] </span><span style=\"color: #000080\">INFO    </span> Starting assessment on cp_memory and version <span style=\"color: #000080; font-weight: bold\">2</span>   <a href=\"file:///home/alizaidi/bonsai/bonsai-batch/batch_containers.py\"><span style=\"color: #7f7f7f\">batch_containers.py</span></a><span style=\"color: #7f7f7f\">:1063</span>\n",
       "</pre>\n"
      ],
      "text/plain": [
       "<rich.jupyter.JupyterRenderable at 0x7f384bc18a10>"
      ]
     },
     "metadata": {},
     "output_type": "display_data"
    },
    {
     "name": "stderr",
     "output_type": "stream",
     "text": [
      "/anaconda/envs/bonsai-batch/lib/python3.7/site-packages/msal_extensions/token_cache.py:96: RuntimeWarning: You are using an unprotected token cache\n",
      "  warnings.warn(\"You are using an unprotected token cache\", RuntimeWarning)\n",
      "/anaconda/envs/bonsai-batch/lib/python3.7/site-packages/msal_extensions/token_cache.py:96: RuntimeWarning: You are using an unprotected token cache\n",
      "  warnings.warn(\"You are using an unprotected token cache\", RuntimeWarning)\n"
     ]
    },
    {
     "data": {
      "text/html": [
       "<pre style=\"white-space:pre;overflow-x:auto;line-height:normal;font-family:Menlo,'DejaVu Sans Mono',consolas,'Courier New',monospace\"><span style=\"color: #7fbfbf\">[19:28:05] </span><span style=\"color: #000080\">INFO    </span> Starting assessment on cp_memory and version <span style=\"color: #000080; font-weight: bold\">3</span>   <a href=\"file:///home/alizaidi/bonsai/bonsai-batch/batch_containers.py\"><span style=\"color: #7f7f7f\">batch_containers.py</span></a><span style=\"color: #7f7f7f\">:1063</span>\n",
       "</pre>\n"
      ],
      "text/plain": [
       "<rich.jupyter.JupyterRenderable at 0x7f385553d310>"
      ]
     },
     "metadata": {},
     "output_type": "display_data"
    },
    {
     "name": "stderr",
     "output_type": "stream",
     "text": [
      "/anaconda/envs/bonsai-batch/lib/python3.7/site-packages/msal_extensions/token_cache.py:96: RuntimeWarning: You are using an unprotected token cache\n",
      "  warnings.warn(\"You are using an unprotected token cache\", RuntimeWarning)\n",
      "/anaconda/envs/bonsai-batch/lib/python3.7/site-packages/msal_extensions/token_cache.py:96: RuntimeWarning: You are using an unprotected token cache\n",
      "  warnings.warn(\"You are using an unprotected token cache\", RuntimeWarning)\n"
     ]
    },
    {
     "data": {
      "text/html": [
       "<pre style=\"white-space:pre;overflow-x:auto;line-height:normal;font-family:Menlo,'DejaVu Sans Mono',consolas,'Courier New',monospace\"><span style=\"color: #7fbfbf\">[19:28:10] </span><span style=\"color: #000080\">INFO    </span> Starting assessment on cp_memory and version <span style=\"color: #000080; font-weight: bold\">4</span>   <a href=\"file:///home/alizaidi/bonsai/bonsai-batch/batch_containers.py\"><span style=\"color: #7f7f7f\">batch_containers.py</span></a><span style=\"color: #7f7f7f\">:1063</span>\n",
       "</pre>\n"
      ],
      "text/plain": [
       "<rich.jupyter.JupyterRenderable at 0x7f384bc14e50>"
      ]
     },
     "metadata": {},
     "output_type": "display_data"
    },
    {
     "name": "stderr",
     "output_type": "stream",
     "text": [
      "/anaconda/envs/bonsai-batch/lib/python3.7/site-packages/msal_extensions/token_cache.py:96: RuntimeWarning: You are using an unprotected token cache\n",
      "  warnings.warn(\"You are using an unprotected token cache\", RuntimeWarning)\n",
      "/anaconda/envs/bonsai-batch/lib/python3.7/site-packages/msal_extensions/token_cache.py:96: RuntimeWarning: You are using an unprotected token cache\n",
      "  warnings.warn(\"You are using an unprotected token cache\", RuntimeWarning)\n"
     ]
    },
    {
     "data": {
      "text/html": [
       "<pre style=\"white-space:pre;overflow-x:auto;line-height:normal;font-family:Menlo,'DejaVu Sans Mono',consolas,'Courier New',monospace\"><span style=\"color: #7fbfbf\">[19:28:15] </span><span style=\"color: #000080\">INFO    </span> Starting assessment on cp_goalwpri and version <span style=\"color: #000080; font-weight: bold\">1</span> <a href=\"file:///home/alizaidi/bonsai/bonsai-batch/batch_containers.py\"><span style=\"color: #7f7f7f\">batch_containers.py</span></a><span style=\"color: #7f7f7f\">:1063</span>\n",
       "</pre>\n"
      ],
      "text/plain": [
       "<rich.jupyter.JupyterRenderable at 0x7f384b9db590>"
      ]
     },
     "metadata": {},
     "output_type": "display_data"
    },
    {
     "name": "stderr",
     "output_type": "stream",
     "text": [
      "/anaconda/envs/bonsai-batch/lib/python3.7/site-packages/msal_extensions/token_cache.py:96: RuntimeWarning: You are using an unprotected token cache\n",
      "  warnings.warn(\"You are using an unprotected token cache\", RuntimeWarning)\n",
      "/anaconda/envs/bonsai-batch/lib/python3.7/site-packages/msal_extensions/token_cache.py:96: RuntimeWarning: You are using an unprotected token cache\n",
      "  warnings.warn(\"You are using an unprotected token cache\", RuntimeWarning)\n"
     ]
    },
    {
     "data": {
      "text/html": [
       "<pre style=\"white-space:pre;overflow-x:auto;line-height:normal;font-family:Menlo,'DejaVu Sans Mono',consolas,'Courier New',monospace\"><span style=\"color: #7fbfbf\">[19:28:21] </span><span style=\"color: #000080\">INFO    </span> Starting assessment on cp_goalwpri and version <span style=\"color: #000080; font-weight: bold\">2</span> <a href=\"file:///home/alizaidi/bonsai/bonsai-batch/batch_containers.py\"><span style=\"color: #7f7f7f\">batch_containers.py</span></a><span style=\"color: #7f7f7f\">:1063</span>\n",
       "</pre>\n"
      ],
      "text/plain": [
       "<rich.jupyter.JupyterRenderable at 0x7f384b9d8fd0>"
      ]
     },
     "metadata": {},
     "output_type": "display_data"
    },
    {
     "name": "stderr",
     "output_type": "stream",
     "text": [
      "/anaconda/envs/bonsai-batch/lib/python3.7/site-packages/msal_extensions/token_cache.py:96: RuntimeWarning: You are using an unprotected token cache\n",
      "  warnings.warn(\"You are using an unprotected token cache\", RuntimeWarning)\n",
      "/anaconda/envs/bonsai-batch/lib/python3.7/site-packages/msal_extensions/token_cache.py:96: RuntimeWarning: You are using an unprotected token cache\n",
      "  warnings.warn(\"You are using an unprotected token cache\", RuntimeWarning)\n"
     ]
    },
    {
     "data": {
      "text/html": [
       "<pre style=\"white-space:pre;overflow-x:auto;line-height:normal;font-family:Menlo,'DejaVu Sans Mono',consolas,'Courier New',monospace\"><span style=\"color: #7fbfbf\">[19:28:27] </span><span style=\"color: #000080\">INFO    </span> Starting assessment on cp_goalwpri and version <span style=\"color: #000080; font-weight: bold\">3</span> <a href=\"file:///home/alizaidi/bonsai/bonsai-batch/batch_containers.py\"><span style=\"color: #7f7f7f\">batch_containers.py</span></a><span style=\"color: #7f7f7f\">:1063</span>\n",
       "</pre>\n"
      ],
      "text/plain": [
       "<rich.jupyter.JupyterRenderable at 0x7f380eedec90>"
      ]
     },
     "metadata": {},
     "output_type": "display_data"
    },
    {
     "name": "stderr",
     "output_type": "stream",
     "text": [
      "/anaconda/envs/bonsai-batch/lib/python3.7/site-packages/msal_extensions/token_cache.py:96: RuntimeWarning: You are using an unprotected token cache\n",
      "  warnings.warn(\"You are using an unprotected token cache\", RuntimeWarning)\n",
      "/anaconda/envs/bonsai-batch/lib/python3.7/site-packages/msal_extensions/token_cache.py:96: RuntimeWarning: You are using an unprotected token cache\n",
      "  warnings.warn(\"You are using an unprotected token cache\", RuntimeWarning)\n"
     ]
    },
    {
     "data": {
      "text/html": [
       "<pre style=\"white-space:pre;overflow-x:auto;line-height:normal;font-family:Menlo,'DejaVu Sans Mono',consolas,'Courier New',monospace\"><span style=\"color: #7fbfbf\">[19:28:33] </span><span style=\"color: #000080\">INFO    </span> Starting assessment on cp_goalwpri and version <span style=\"color: #000080; font-weight: bold\">4</span> <a href=\"file:///home/alizaidi/bonsai/bonsai-batch/batch_containers.py\"><span style=\"color: #7f7f7f\">batch_containers.py</span></a><span style=\"color: #7f7f7f\">:1063</span>\n",
       "</pre>\n"
      ],
      "text/plain": [
       "<rich.jupyter.JupyterRenderable at 0x7f384bc66e50>"
      ]
     },
     "metadata": {},
     "output_type": "display_data"
    },
    {
     "name": "stderr",
     "output_type": "stream",
     "text": [
      "/anaconda/envs/bonsai-batch/lib/python3.7/site-packages/msal_extensions/token_cache.py:96: RuntimeWarning: You are using an unprotected token cache\n",
      "  warnings.warn(\"You are using an unprotected token cache\", RuntimeWarning)\n",
      "/anaconda/envs/bonsai-batch/lib/python3.7/site-packages/msal_extensions/token_cache.py:96: RuntimeWarning: You are using an unprotected token cache\n",
      "  warnings.warn(\"You are using an unprotected token cache\", RuntimeWarning)\n"
     ]
    },
    {
     "data": {
      "text/html": [
       "<pre style=\"white-space:pre;overflow-x:auto;line-height:normal;font-family:Menlo,'DejaVu Sans Mono',consolas,'Courier New',monospace\"><span style=\"color: #7fbfbf\">[19:28:38] </span><span style=\"color: #000080\">INFO    </span> Starting assessment on cp_goalpri_tp and version <a href=\"file:///home/alizaidi/bonsai/bonsai-batch/batch_containers.py\"><span style=\"color: #7f7f7f\">batch_containers.py</span></a><span style=\"color: #7f7f7f\">:1063</span>\n",
       "                    <span style=\"color: #000080; font-weight: bold\">1</span>                                                                        \n",
       "</pre>\n"
      ],
      "text/plain": [
       "<rich.jupyter.JupyterRenderable at 0x7f385553d0d0>"
      ]
     },
     "metadata": {},
     "output_type": "display_data"
    },
    {
     "name": "stderr",
     "output_type": "stream",
     "text": [
      "/anaconda/envs/bonsai-batch/lib/python3.7/site-packages/msal_extensions/token_cache.py:96: RuntimeWarning: You are using an unprotected token cache\n",
      "  warnings.warn(\"You are using an unprotected token cache\", RuntimeWarning)\n",
      "/anaconda/envs/bonsai-batch/lib/python3.7/site-packages/msal_extensions/token_cache.py:96: RuntimeWarning: You are using an unprotected token cache\n",
      "  warnings.warn(\"You are using an unprotected token cache\", RuntimeWarning)\n"
     ]
    },
    {
     "data": {
      "text/html": [
       "<pre style=\"white-space:pre;overflow-x:auto;line-height:normal;font-family:Menlo,'DejaVu Sans Mono',consolas,'Courier New',monospace\"><span style=\"color: #7fbfbf\">[19:28:42] </span><span style=\"color: #000080\">INFO    </span> Starting assessment on cp_goalpri_tp and version <a href=\"file:///home/alizaidi/bonsai/bonsai-batch/batch_containers.py\"><span style=\"color: #7f7f7f\">batch_containers.py</span></a><span style=\"color: #7f7f7f\">:1063</span>\n",
       "                    <span style=\"color: #000080; font-weight: bold\">2</span>                                                                        \n",
       "</pre>\n"
      ],
      "text/plain": [
       "<rich.jupyter.JupyterRenderable at 0x7f385553db90>"
      ]
     },
     "metadata": {},
     "output_type": "display_data"
    },
    {
     "name": "stderr",
     "output_type": "stream",
     "text": [
      "/anaconda/envs/bonsai-batch/lib/python3.7/site-packages/msal_extensions/token_cache.py:96: RuntimeWarning: You are using an unprotected token cache\n",
      "  warnings.warn(\"You are using an unprotected token cache\", RuntimeWarning)\n",
      "/anaconda/envs/bonsai-batch/lib/python3.7/site-packages/msal_extensions/token_cache.py:96: RuntimeWarning: You are using an unprotected token cache\n",
      "  warnings.warn(\"You are using an unprotected token cache\", RuntimeWarning)\n"
     ]
    },
    {
     "data": {
      "text/html": [
       "<pre style=\"white-space:pre;overflow-x:auto;line-height:normal;font-family:Menlo,'DejaVu Sans Mono',consolas,'Courier New',monospace\"><span style=\"color: #7fbfbf\">[19:28:47] </span><span style=\"color: #000080\">INFO    </span> Starting assessment on cp_goalpri_tp and version <a href=\"file:///home/alizaidi/bonsai/bonsai-batch/batch_containers.py\"><span style=\"color: #7f7f7f\">batch_containers.py</span></a><span style=\"color: #7f7f7f\">:1063</span>\n",
       "                    <span style=\"color: #000080; font-weight: bold\">3</span>                                                                        \n",
       "</pre>\n"
      ],
      "text/plain": [
       "<rich.jupyter.JupyterRenderable at 0x7f380eda0ad0>"
      ]
     },
     "metadata": {},
     "output_type": "display_data"
    },
    {
     "name": "stderr",
     "output_type": "stream",
     "text": [
      "/anaconda/envs/bonsai-batch/lib/python3.7/site-packages/msal_extensions/token_cache.py:96: RuntimeWarning: You are using an unprotected token cache\n",
      "  warnings.warn(\"You are using an unprotected token cache\", RuntimeWarning)\n",
      "/anaconda/envs/bonsai-batch/lib/python3.7/site-packages/msal_extensions/token_cache.py:96: RuntimeWarning: You are using an unprotected token cache\n",
      "  warnings.warn(\"You are using an unprotected token cache\", RuntimeWarning)\n"
     ]
    },
    {
     "data": {
      "text/html": [
       "<pre style=\"white-space:pre;overflow-x:auto;line-height:normal;font-family:Menlo,'DejaVu Sans Mono',consolas,'Courier New',monospace\"><span style=\"color: #7fbfbf\">[19:28:53] </span><span style=\"color: #000080\">INFO    </span> Starting assessment on cp_goalpri_tp and version <a href=\"file:///home/alizaidi/bonsai/bonsai-batch/batch_containers.py\"><span style=\"color: #7f7f7f\">batch_containers.py</span></a><span style=\"color: #7f7f7f\">:1063</span>\n",
       "                    <span style=\"color: #000080; font-weight: bold\">4</span>                                                                        \n",
       "</pre>\n"
      ],
      "text/plain": [
       "<rich.jupyter.JupyterRenderable at 0x7f384b9d8dd0>"
      ]
     },
     "metadata": {},
     "output_type": "display_data"
    },
    {
     "name": "stderr",
     "output_type": "stream",
     "text": [
      "/anaconda/envs/bonsai-batch/lib/python3.7/site-packages/msal_extensions/token_cache.py:96: RuntimeWarning: You are using an unprotected token cache\n",
      "  warnings.warn(\"You are using an unprotected token cache\", RuntimeWarning)\n",
      "/anaconda/envs/bonsai-batch/lib/python3.7/site-packages/msal_extensions/token_cache.py:96: RuntimeWarning: You are using an unprotected token cache\n",
      "  warnings.warn(\"You are using an unprotected token cache\", RuntimeWarning)\n"
     ]
    },
    {
     "data": {
      "text/html": [
       "<pre style=\"white-space:pre;overflow-x:auto;line-height:normal;font-family:Menlo,'DejaVu Sans Mono',consolas,'Courier New',monospace\"><span style=\"color: #7fbfbf\">[19:28:58] </span><span style=\"color: #000080\">INFO    </span> Starting assessment on cp_goalwpri_tp_memory and <a href=\"file:///home/alizaidi/bonsai/bonsai-batch/batch_containers.py\"><span style=\"color: #7f7f7f\">batch_containers.py</span></a><span style=\"color: #7f7f7f\">:1063</span>\n",
       "                    version <span style=\"color: #000080; font-weight: bold\">1</span>                                                                \n",
       "</pre>\n"
      ],
      "text/plain": [
       "<rich.jupyter.JupyterRenderable at 0x7f384b9d8110>"
      ]
     },
     "metadata": {},
     "output_type": "display_data"
    },
    {
     "name": "stderr",
     "output_type": "stream",
     "text": [
      "/anaconda/envs/bonsai-batch/lib/python3.7/site-packages/msal_extensions/token_cache.py:96: RuntimeWarning: You are using an unprotected token cache\n",
      "  warnings.warn(\"You are using an unprotected token cache\", RuntimeWarning)\n",
      "/anaconda/envs/bonsai-batch/lib/python3.7/site-packages/msal_extensions/token_cache.py:96: RuntimeWarning: You are using an unprotected token cache\n",
      "  warnings.warn(\"You are using an unprotected token cache\", RuntimeWarning)\n"
     ]
    },
    {
     "data": {
      "text/html": [
       "<pre style=\"white-space:pre;overflow-x:auto;line-height:normal;font-family:Menlo,'DejaVu Sans Mono',consolas,'Courier New',monospace\"><span style=\"color: #7fbfbf\">[19:29:04] </span><span style=\"color: #000080\">INFO    </span> Starting assessment on cp_goalwpri_tp_memory and <a href=\"file:///home/alizaidi/bonsai/bonsai-batch/batch_containers.py\"><span style=\"color: #7f7f7f\">batch_containers.py</span></a><span style=\"color: #7f7f7f\">:1063</span>\n",
       "                    version <span style=\"color: #000080; font-weight: bold\">2</span>                                                                \n",
       "</pre>\n"
      ],
      "text/plain": [
       "<rich.jupyter.JupyterRenderable at 0x7f384b9d8fd0>"
      ]
     },
     "metadata": {},
     "output_type": "display_data"
    },
    {
     "name": "stderr",
     "output_type": "stream",
     "text": [
      "/anaconda/envs/bonsai-batch/lib/python3.7/site-packages/msal_extensions/token_cache.py:96: RuntimeWarning: You are using an unprotected token cache\n",
      "  warnings.warn(\"You are using an unprotected token cache\", RuntimeWarning)\n",
      "/anaconda/envs/bonsai-batch/lib/python3.7/site-packages/msal_extensions/token_cache.py:96: RuntimeWarning: You are using an unprotected token cache\n",
      "  warnings.warn(\"You are using an unprotected token cache\", RuntimeWarning)\n"
     ]
    },
    {
     "data": {
      "text/html": [
       "<pre style=\"white-space:pre;overflow-x:auto;line-height:normal;font-family:Menlo,'DejaVu Sans Mono',consolas,'Courier New',monospace\"><span style=\"color: #7fbfbf\">[19:29:11] </span><span style=\"color: #000080\">INFO    </span> Starting assessment on cp_goalwpri_tp_memory and <a href=\"file:///home/alizaidi/bonsai/bonsai-batch/batch_containers.py\"><span style=\"color: #7f7f7f\">batch_containers.py</span></a><span style=\"color: #7f7f7f\">:1063</span>\n",
       "                    version <span style=\"color: #000080; font-weight: bold\">3</span>                                                                \n",
       "</pre>\n"
      ],
      "text/plain": [
       "<rich.jupyter.JupyterRenderable at 0x7f384bc18a10>"
      ]
     },
     "metadata": {},
     "output_type": "display_data"
    },
    {
     "name": "stderr",
     "output_type": "stream",
     "text": [
      "/anaconda/envs/bonsai-batch/lib/python3.7/site-packages/msal_extensions/token_cache.py:96: RuntimeWarning: You are using an unprotected token cache\n",
      "  warnings.warn(\"You are using an unprotected token cache\", RuntimeWarning)\n",
      "/anaconda/envs/bonsai-batch/lib/python3.7/site-packages/msal_extensions/token_cache.py:96: RuntimeWarning: You are using an unprotected token cache\n",
      "  warnings.warn(\"You are using an unprotected token cache\", RuntimeWarning)\n"
     ]
    },
    {
     "data": {
      "text/html": [
       "<pre style=\"white-space:pre;overflow-x:auto;line-height:normal;font-family:Menlo,'DejaVu Sans Mono',consolas,'Courier New',monospace\"><span style=\"color: #7fbfbf\">[19:29:17] </span><span style=\"color: #000080\">INFO    </span> Starting assessment on cp_goalwpri_tp_memory and <a href=\"file:///home/alizaidi/bonsai/bonsai-batch/batch_containers.py\"><span style=\"color: #7f7f7f\">batch_containers.py</span></a><span style=\"color: #7f7f7f\">:1063</span>\n",
       "                    version <span style=\"color: #000080; font-weight: bold\">4</span>                                                                \n",
       "</pre>\n"
      ],
      "text/plain": [
       "<rich.jupyter.JupyterRenderable at 0x7f387c4281d0>"
      ]
     },
     "metadata": {},
     "output_type": "display_data"
    },
    {
     "name": "stderr",
     "output_type": "stream",
     "text": [
      "/anaconda/envs/bonsai-batch/lib/python3.7/site-packages/msal_extensions/token_cache.py:96: RuntimeWarning: You are using an unprotected token cache\n",
      "  warnings.warn(\"You are using an unprotected token cache\", RuntimeWarning)\n",
      "/anaconda/envs/bonsai-batch/lib/python3.7/site-packages/msal_extensions/token_cache.py:96: RuntimeWarning: You are using an unprotected token cache\n",
      "  warnings.warn(\"You are using an unprotected token cache\", RuntimeWarning)\n"
     ]
    },
    {
     "data": {
      "text/html": [
       "<pre style=\"white-space:pre;overflow-x:auto;line-height:normal;font-family:Menlo,'DejaVu Sans Mono',consolas,'Courier New',monospace\"><span style=\"color: #7fbfbf\">[19:29:23] </span><span style=\"color: #000080\">INFO    </span> Starting assessment on cartpole_single_concept   <a href=\"file:///home/alizaidi/bonsai/bonsai-batch/batch_containers.py\"><span style=\"color: #7f7f7f\">batch_containers.py</span></a><span style=\"color: #7f7f7f\">:1063</span>\n",
       "                    and version <span style=\"color: #000080; font-weight: bold\">1</span>                                                            \n",
       "</pre>\n"
      ],
      "text/plain": [
       "<rich.jupyter.JupyterRenderable at 0x7f384bc61d10>"
      ]
     },
     "metadata": {},
     "output_type": "display_data"
    },
    {
     "name": "stderr",
     "output_type": "stream",
     "text": [
      "/anaconda/envs/bonsai-batch/lib/python3.7/site-packages/msal_extensions/token_cache.py:96: RuntimeWarning: You are using an unprotected token cache\n",
      "  warnings.warn(\"You are using an unprotected token cache\", RuntimeWarning)\n",
      "/anaconda/envs/bonsai-batch/lib/python3.7/site-packages/msal_extensions/token_cache.py:96: RuntimeWarning: You are using an unprotected token cache\n",
      "  warnings.warn(\"You are using an unprotected token cache\", RuntimeWarning)\n"
     ]
    },
    {
     "data": {
      "text/html": [
       "<pre style=\"white-space:pre;overflow-x:auto;line-height:normal;font-family:Menlo,'DejaVu Sans Mono',consolas,'Courier New',monospace\"><span style=\"color: #7fbfbf\">[19:29:29] </span><span style=\"color: #000080\">INFO    </span> Starting assessment on cartpole_single_concept   <a href=\"file:///home/alizaidi/bonsai/bonsai-batch/batch_containers.py\"><span style=\"color: #7f7f7f\">batch_containers.py</span></a><span style=\"color: #7f7f7f\">:1063</span>\n",
       "                    and version <span style=\"color: #000080; font-weight: bold\">2</span>                                                            \n",
       "</pre>\n"
      ],
      "text/plain": [
       "<rich.jupyter.JupyterRenderable at 0x7f380ef65e90>"
      ]
     },
     "metadata": {},
     "output_type": "display_data"
    },
    {
     "name": "stderr",
     "output_type": "stream",
     "text": [
      "/anaconda/envs/bonsai-batch/lib/python3.7/site-packages/msal_extensions/token_cache.py:96: RuntimeWarning: You are using an unprotected token cache\n",
      "  warnings.warn(\"You are using an unprotected token cache\", RuntimeWarning)\n",
      "/anaconda/envs/bonsai-batch/lib/python3.7/site-packages/msal_extensions/token_cache.py:96: RuntimeWarning: You are using an unprotected token cache\n",
      "  warnings.warn(\"You are using an unprotected token cache\", RuntimeWarning)\n"
     ]
    },
    {
     "data": {
      "text/html": [
       "<pre style=\"white-space:pre;overflow-x:auto;line-height:normal;font-family:Menlo,'DejaVu Sans Mono',consolas,'Courier New',monospace\"><span style=\"color: #7fbfbf\">[19:29:34] </span><span style=\"color: #000080\">INFO    </span> Starting assessment on cartpole_single_concept   <a href=\"file:///home/alizaidi/bonsai/bonsai-batch/batch_containers.py\"><span style=\"color: #7f7f7f\">batch_containers.py</span></a><span style=\"color: #7f7f7f\">:1063</span>\n",
       "                    and version <span style=\"color: #000080; font-weight: bold\">3</span>                                                            \n",
       "</pre>\n"
      ],
      "text/plain": [
       "<rich.jupyter.JupyterRenderable at 0x7f3855623050>"
      ]
     },
     "metadata": {},
     "output_type": "display_data"
    },
    {
     "name": "stderr",
     "output_type": "stream",
     "text": [
      "/anaconda/envs/bonsai-batch/lib/python3.7/site-packages/msal_extensions/token_cache.py:96: RuntimeWarning: You are using an unprotected token cache\n",
      "  warnings.warn(\"You are using an unprotected token cache\", RuntimeWarning)\n",
      "/anaconda/envs/bonsai-batch/lib/python3.7/site-packages/msal_extensions/token_cache.py:96: RuntimeWarning: You are using an unprotected token cache\n",
      "  warnings.warn(\"You are using an unprotected token cache\", RuntimeWarning)\n"
     ]
    },
    {
     "data": {
      "text/html": [
       "<pre style=\"white-space:pre;overflow-x:auto;line-height:normal;font-family:Menlo,'DejaVu Sans Mono',consolas,'Courier New',monospace\"><span style=\"color: #7fbfbf\">[19:29:39] </span><span style=\"color: #000080\">INFO    </span> Starting assessment on cartpole_single_concept   <a href=\"file:///home/alizaidi/bonsai/bonsai-batch/batch_containers.py\"><span style=\"color: #7f7f7f\">batch_containers.py</span></a><span style=\"color: #7f7f7f\">:1063</span>\n",
       "                    and version <span style=\"color: #000080; font-weight: bold\">4</span>                                                            \n",
       "</pre>\n"
      ],
      "text/plain": [
       "<rich.jupyter.JupyterRenderable at 0x7f384bc142d0>"
      ]
     },
     "metadata": {},
     "output_type": "display_data"
    },
    {
     "name": "stderr",
     "output_type": "stream",
     "text": [
      "/anaconda/envs/bonsai-batch/lib/python3.7/site-packages/msal_extensions/token_cache.py:96: RuntimeWarning: You are using an unprotected token cache\n",
      "  warnings.warn(\"You are using an unprotected token cache\", RuntimeWarning)\n",
      "/anaconda/envs/bonsai-batch/lib/python3.7/site-packages/msal_extensions/token_cache.py:96: RuntimeWarning: You are using an unprotected token cache\n",
      "  warnings.warn(\"You are using an unprotected token cache\", RuntimeWarning)\n"
     ]
    },
    {
     "data": {
      "text/html": [
       "<pre style=\"white-space:pre;overflow-x:auto;line-height:normal;font-family:Menlo,'DejaVu Sans Mono',consolas,'Courier New',monospace\"><span style=\"color: #7fbfbf\">[19:29:45] </span><span style=\"color: #000080\">INFO    </span> Starting assessment on cp_memory and version <span style=\"color: #000080; font-weight: bold\">1</span>   <a href=\"file:///home/alizaidi/bonsai/bonsai-batch/batch_containers.py\"><span style=\"color: #7f7f7f\">batch_containers.py</span></a><span style=\"color: #7f7f7f\">:1063</span>\n",
       "</pre>\n"
      ],
      "text/plain": [
       "<rich.jupyter.JupyterRenderable at 0x7f380ef625d0>"
      ]
     },
     "metadata": {},
     "output_type": "display_data"
    },
    {
     "name": "stderr",
     "output_type": "stream",
     "text": [
      "/anaconda/envs/bonsai-batch/lib/python3.7/site-packages/msal_extensions/token_cache.py:96: RuntimeWarning: You are using an unprotected token cache\n",
      "  warnings.warn(\"You are using an unprotected token cache\", RuntimeWarning)\n",
      "/anaconda/envs/bonsai-batch/lib/python3.7/site-packages/msal_extensions/token_cache.py:96: RuntimeWarning: You are using an unprotected token cache\n",
      "  warnings.warn(\"You are using an unprotected token cache\", RuntimeWarning)\n"
     ]
    },
    {
     "data": {
      "text/html": [
       "<pre style=\"white-space:pre;overflow-x:auto;line-height:normal;font-family:Menlo,'DejaVu Sans Mono',consolas,'Courier New',monospace\"><span style=\"color: #7fbfbf\">[19:29:51] </span><span style=\"color: #000080\">INFO    </span> Starting assessment on cp_memory and version <span style=\"color: #000080; font-weight: bold\">2</span>   <a href=\"file:///home/alizaidi/bonsai/bonsai-batch/batch_containers.py\"><span style=\"color: #7f7f7f\">batch_containers.py</span></a><span style=\"color: #7f7f7f\">:1063</span>\n",
       "</pre>\n"
      ],
      "text/plain": [
       "<rich.jupyter.JupyterRenderable at 0x7f384bc18190>"
      ]
     },
     "metadata": {},
     "output_type": "display_data"
    },
    {
     "name": "stderr",
     "output_type": "stream",
     "text": [
      "/anaconda/envs/bonsai-batch/lib/python3.7/site-packages/msal_extensions/token_cache.py:96: RuntimeWarning: You are using an unprotected token cache\n",
      "  warnings.warn(\"You are using an unprotected token cache\", RuntimeWarning)\n",
      "/anaconda/envs/bonsai-batch/lib/python3.7/site-packages/msal_extensions/token_cache.py:96: RuntimeWarning: You are using an unprotected token cache\n",
      "  warnings.warn(\"You are using an unprotected token cache\", RuntimeWarning)\n"
     ]
    },
    {
     "data": {
      "text/html": [
       "<pre style=\"white-space:pre;overflow-x:auto;line-height:normal;font-family:Menlo,'DejaVu Sans Mono',consolas,'Courier New',monospace\"><span style=\"color: #7fbfbf\">[19:29:57] </span><span style=\"color: #000080\">INFO    </span> Starting assessment on cp_memory and version <span style=\"color: #000080; font-weight: bold\">3</span>   <a href=\"file:///home/alizaidi/bonsai/bonsai-batch/batch_containers.py\"><span style=\"color: #7f7f7f\">batch_containers.py</span></a><span style=\"color: #7f7f7f\">:1063</span>\n",
       "</pre>\n"
      ],
      "text/plain": [
       "<rich.jupyter.JupyterRenderable at 0x7f3810209b10>"
      ]
     },
     "metadata": {},
     "output_type": "display_data"
    },
    {
     "name": "stderr",
     "output_type": "stream",
     "text": [
      "/anaconda/envs/bonsai-batch/lib/python3.7/site-packages/msal_extensions/token_cache.py:96: RuntimeWarning: You are using an unprotected token cache\n",
      "  warnings.warn(\"You are using an unprotected token cache\", RuntimeWarning)\n",
      "/anaconda/envs/bonsai-batch/lib/python3.7/site-packages/msal_extensions/token_cache.py:96: RuntimeWarning: You are using an unprotected token cache\n",
      "  warnings.warn(\"You are using an unprotected token cache\", RuntimeWarning)\n"
     ]
    },
    {
     "data": {
      "text/html": [
       "<pre style=\"white-space:pre;overflow-x:auto;line-height:normal;font-family:Menlo,'DejaVu Sans Mono',consolas,'Courier New',monospace\"><span style=\"color: #7fbfbf\">[19:30:03] </span><span style=\"color: #000080\">INFO    </span> Starting assessment on cp_memory and version <span style=\"color: #000080; font-weight: bold\">4</span>   <a href=\"file:///home/alizaidi/bonsai/bonsai-batch/batch_containers.py\"><span style=\"color: #7f7f7f\">batch_containers.py</span></a><span style=\"color: #7f7f7f\">:1063</span>\n",
       "</pre>\n"
      ],
      "text/plain": [
       "<rich.jupyter.JupyterRenderable at 0x7f3810209b10>"
      ]
     },
     "metadata": {},
     "output_type": "display_data"
    },
    {
     "name": "stderr",
     "output_type": "stream",
     "text": [
      "/anaconda/envs/bonsai-batch/lib/python3.7/site-packages/msal_extensions/token_cache.py:96: RuntimeWarning: You are using an unprotected token cache\n",
      "  warnings.warn(\"You are using an unprotected token cache\", RuntimeWarning)\n",
      "/anaconda/envs/bonsai-batch/lib/python3.7/site-packages/msal_extensions/token_cache.py:96: RuntimeWarning: You are using an unprotected token cache\n",
      "  warnings.warn(\"You are using an unprotected token cache\", RuntimeWarning)\n"
     ]
    },
    {
     "data": {
      "text/html": [
       "<pre style=\"white-space:pre;overflow-x:auto;line-height:normal;font-family:Menlo,'DejaVu Sans Mono',consolas,'Courier New',monospace\"><span style=\"color: #7fbfbf\">[19:30:08] </span><span style=\"color: #000080\">INFO    </span> Starting assessment on cp_goalwpri and version <span style=\"color: #000080; font-weight: bold\">1</span> <a href=\"file:///home/alizaidi/bonsai/bonsai-batch/batch_containers.py\"><span style=\"color: #7f7f7f\">batch_containers.py</span></a><span style=\"color: #7f7f7f\">:1063</span>\n",
       "</pre>\n"
      ],
      "text/plain": [
       "<rich.jupyter.JupyterRenderable at 0x7f380eedec90>"
      ]
     },
     "metadata": {},
     "output_type": "display_data"
    },
    {
     "name": "stderr",
     "output_type": "stream",
     "text": [
      "/anaconda/envs/bonsai-batch/lib/python3.7/site-packages/msal_extensions/token_cache.py:96: RuntimeWarning: You are using an unprotected token cache\n",
      "  warnings.warn(\"You are using an unprotected token cache\", RuntimeWarning)\n",
      "/anaconda/envs/bonsai-batch/lib/python3.7/site-packages/msal_extensions/token_cache.py:96: RuntimeWarning: You are using an unprotected token cache\n",
      "  warnings.warn(\"You are using an unprotected token cache\", RuntimeWarning)\n"
     ]
    },
    {
     "data": {
      "text/html": [
       "<pre style=\"white-space:pre;overflow-x:auto;line-height:normal;font-family:Menlo,'DejaVu Sans Mono',consolas,'Courier New',monospace\"><span style=\"color: #7fbfbf\">[19:30:13] </span><span style=\"color: #000080\">INFO    </span> Starting assessment on cp_goalwpri and version <span style=\"color: #000080; font-weight: bold\">2</span> <a href=\"file:///home/alizaidi/bonsai/bonsai-batch/batch_containers.py\"><span style=\"color: #7f7f7f\">batch_containers.py</span></a><span style=\"color: #7f7f7f\">:1063</span>\n",
       "</pre>\n"
      ],
      "text/plain": [
       "<rich.jupyter.JupyterRenderable at 0x7f387c428310>"
      ]
     },
     "metadata": {},
     "output_type": "display_data"
    },
    {
     "name": "stderr",
     "output_type": "stream",
     "text": [
      "/anaconda/envs/bonsai-batch/lib/python3.7/site-packages/msal_extensions/token_cache.py:96: RuntimeWarning: You are using an unprotected token cache\n",
      "  warnings.warn(\"You are using an unprotected token cache\", RuntimeWarning)\n",
      "/anaconda/envs/bonsai-batch/lib/python3.7/site-packages/msal_extensions/token_cache.py:96: RuntimeWarning: You are using an unprotected token cache\n",
      "  warnings.warn(\"You are using an unprotected token cache\", RuntimeWarning)\n"
     ]
    },
    {
     "data": {
      "text/html": [
       "<pre style=\"white-space:pre;overflow-x:auto;line-height:normal;font-family:Menlo,'DejaVu Sans Mono',consolas,'Courier New',monospace\"><span style=\"color: #7fbfbf\">[19:30:19] </span><span style=\"color: #000080\">INFO    </span> Starting assessment on cp_goalwpri and version <span style=\"color: #000080; font-weight: bold\">3</span> <a href=\"file:///home/alizaidi/bonsai/bonsai-batch/batch_containers.py\"><span style=\"color: #7f7f7f\">batch_containers.py</span></a><span style=\"color: #7f7f7f\">:1063</span>\n",
       "</pre>\n"
      ],
      "text/plain": [
       "<rich.jupyter.JupyterRenderable at 0x7f387c11ee10>"
      ]
     },
     "metadata": {},
     "output_type": "display_data"
    },
    {
     "name": "stderr",
     "output_type": "stream",
     "text": [
      "/anaconda/envs/bonsai-batch/lib/python3.7/site-packages/msal_extensions/token_cache.py:96: RuntimeWarning: You are using an unprotected token cache\n",
      "  warnings.warn(\"You are using an unprotected token cache\", RuntimeWarning)\n",
      "/anaconda/envs/bonsai-batch/lib/python3.7/site-packages/msal_extensions/token_cache.py:96: RuntimeWarning: You are using an unprotected token cache\n",
      "  warnings.warn(\"You are using an unprotected token cache\", RuntimeWarning)\n"
     ]
    },
    {
     "data": {
      "text/html": [
       "<pre style=\"white-space:pre;overflow-x:auto;line-height:normal;font-family:Menlo,'DejaVu Sans Mono',consolas,'Courier New',monospace\"><span style=\"color: #7fbfbf\">[19:30:24] </span><span style=\"color: #000080\">INFO    </span> Starting assessment on cp_goalwpri and version <span style=\"color: #000080; font-weight: bold\">4</span> <a href=\"file:///home/alizaidi/bonsai/bonsai-batch/batch_containers.py\"><span style=\"color: #7f7f7f\">batch_containers.py</span></a><span style=\"color: #7f7f7f\">:1063</span>\n",
       "</pre>\n"
      ],
      "text/plain": [
       "<rich.jupyter.JupyterRenderable at 0x7f387c11ef50>"
      ]
     },
     "metadata": {},
     "output_type": "display_data"
    },
    {
     "name": "stderr",
     "output_type": "stream",
     "text": [
      "/anaconda/envs/bonsai-batch/lib/python3.7/site-packages/msal_extensions/token_cache.py:96: RuntimeWarning: You are using an unprotected token cache\n",
      "  warnings.warn(\"You are using an unprotected token cache\", RuntimeWarning)\n",
      "/anaconda/envs/bonsai-batch/lib/python3.7/site-packages/msal_extensions/token_cache.py:96: RuntimeWarning: You are using an unprotected token cache\n",
      "  warnings.warn(\"You are using an unprotected token cache\", RuntimeWarning)\n"
     ]
    },
    {
     "data": {
      "text/html": [
       "<pre style=\"white-space:pre;overflow-x:auto;line-height:normal;font-family:Menlo,'DejaVu Sans Mono',consolas,'Courier New',monospace\"><span style=\"color: #7fbfbf\">[19:30:30] </span><span style=\"color: #000080\">INFO    </span> Starting assessment on cp_goalpri_tp and version <a href=\"file:///home/alizaidi/bonsai/bonsai-batch/batch_containers.py\"><span style=\"color: #7f7f7f\">batch_containers.py</span></a><span style=\"color: #7f7f7f\">:1063</span>\n",
       "                    <span style=\"color: #000080; font-weight: bold\">1</span>                                                                        \n",
       "</pre>\n"
      ],
      "text/plain": [
       "<rich.jupyter.JupyterRenderable at 0x7f384bc14e50>"
      ]
     },
     "metadata": {},
     "output_type": "display_data"
    },
    {
     "name": "stderr",
     "output_type": "stream",
     "text": [
      "/anaconda/envs/bonsai-batch/lib/python3.7/site-packages/msal_extensions/token_cache.py:96: RuntimeWarning: You are using an unprotected token cache\n",
      "  warnings.warn(\"You are using an unprotected token cache\", RuntimeWarning)\n",
      "/anaconda/envs/bonsai-batch/lib/python3.7/site-packages/msal_extensions/token_cache.py:96: RuntimeWarning: You are using an unprotected token cache\n",
      "  warnings.warn(\"You are using an unprotected token cache\", RuntimeWarning)\n"
     ]
    },
    {
     "data": {
      "text/html": [
       "<pre style=\"white-space:pre;overflow-x:auto;line-height:normal;font-family:Menlo,'DejaVu Sans Mono',consolas,'Courier New',monospace\"><span style=\"color: #7fbfbf\">[19:30:36] </span><span style=\"color: #000080\">INFO    </span> Starting assessment on cp_goalpri_tp and version <a href=\"file:///home/alizaidi/bonsai/bonsai-batch/batch_containers.py\"><span style=\"color: #7f7f7f\">batch_containers.py</span></a><span style=\"color: #7f7f7f\">:1063</span>\n",
       "                    <span style=\"color: #000080; font-weight: bold\">2</span>                                                                        \n",
       "</pre>\n"
      ],
      "text/plain": [
       "<rich.jupyter.JupyterRenderable at 0x7f384b9d3fd0>"
      ]
     },
     "metadata": {},
     "output_type": "display_data"
    },
    {
     "name": "stderr",
     "output_type": "stream",
     "text": [
      "/anaconda/envs/bonsai-batch/lib/python3.7/site-packages/msal_extensions/token_cache.py:96: RuntimeWarning: You are using an unprotected token cache\n",
      "  warnings.warn(\"You are using an unprotected token cache\", RuntimeWarning)\n",
      "/anaconda/envs/bonsai-batch/lib/python3.7/site-packages/msal_extensions/token_cache.py:96: RuntimeWarning: You are using an unprotected token cache\n",
      "  warnings.warn(\"You are using an unprotected token cache\", RuntimeWarning)\n"
     ]
    },
    {
     "data": {
      "text/html": [
       "<pre style=\"white-space:pre;overflow-x:auto;line-height:normal;font-family:Menlo,'DejaVu Sans Mono',consolas,'Courier New',monospace\"><span style=\"color: #7fbfbf\">[19:30:42] </span><span style=\"color: #000080\">INFO    </span> Starting assessment on cp_goalpri_tp and version <a href=\"file:///home/alizaidi/bonsai/bonsai-batch/batch_containers.py\"><span style=\"color: #7f7f7f\">batch_containers.py</span></a><span style=\"color: #7f7f7f\">:1063</span>\n",
       "                    <span style=\"color: #000080; font-weight: bold\">3</span>                                                                        \n",
       "</pre>\n"
      ],
      "text/plain": [
       "<rich.jupyter.JupyterRenderable at 0x7f387c11ed90>"
      ]
     },
     "metadata": {},
     "output_type": "display_data"
    },
    {
     "name": "stderr",
     "output_type": "stream",
     "text": [
      "/anaconda/envs/bonsai-batch/lib/python3.7/site-packages/msal_extensions/token_cache.py:96: RuntimeWarning: You are using an unprotected token cache\n",
      "  warnings.warn(\"You are using an unprotected token cache\", RuntimeWarning)\n",
      "/anaconda/envs/bonsai-batch/lib/python3.7/site-packages/msal_extensions/token_cache.py:96: RuntimeWarning: You are using an unprotected token cache\n",
      "  warnings.warn(\"You are using an unprotected token cache\", RuntimeWarning)\n"
     ]
    },
    {
     "data": {
      "text/html": [
       "<pre style=\"white-space:pre;overflow-x:auto;line-height:normal;font-family:Menlo,'DejaVu Sans Mono',consolas,'Courier New',monospace\"><span style=\"color: #7fbfbf\">[19:30:48] </span><span style=\"color: #000080\">INFO    </span> Starting assessment on cp_goalpri_tp and version <a href=\"file:///home/alizaidi/bonsai/bonsai-batch/batch_containers.py\"><span style=\"color: #7f7f7f\">batch_containers.py</span></a><span style=\"color: #7f7f7f\">:1063</span>\n",
       "                    <span style=\"color: #000080; font-weight: bold\">4</span>                                                                        \n",
       "</pre>\n"
      ],
      "text/plain": [
       "<rich.jupyter.JupyterRenderable at 0x7f387c11ee10>"
      ]
     },
     "metadata": {},
     "output_type": "display_data"
    },
    {
     "name": "stderr",
     "output_type": "stream",
     "text": [
      "/anaconda/envs/bonsai-batch/lib/python3.7/site-packages/msal_extensions/token_cache.py:96: RuntimeWarning: You are using an unprotected token cache\n",
      "  warnings.warn(\"You are using an unprotected token cache\", RuntimeWarning)\n",
      "/anaconda/envs/bonsai-batch/lib/python3.7/site-packages/msal_extensions/token_cache.py:96: RuntimeWarning: You are using an unprotected token cache\n",
      "  warnings.warn(\"You are using an unprotected token cache\", RuntimeWarning)\n"
     ]
    },
    {
     "data": {
      "text/html": [
       "<pre style=\"white-space:pre;overflow-x:auto;line-height:normal;font-family:Menlo,'DejaVu Sans Mono',consolas,'Courier New',monospace\"><span style=\"color: #7fbfbf\">[19:30:53] </span><span style=\"color: #000080\">INFO    </span> Starting assessment on cp_goalwpri_tp_memory and <a href=\"file:///home/alizaidi/bonsai/bonsai-batch/batch_containers.py\"><span style=\"color: #7f7f7f\">batch_containers.py</span></a><span style=\"color: #7f7f7f\">:1063</span>\n",
       "                    version <span style=\"color: #000080; font-weight: bold\">1</span>                                                                \n",
       "</pre>\n"
      ],
      "text/plain": [
       "<rich.jupyter.JupyterRenderable at 0x7f384bc18a10>"
      ]
     },
     "metadata": {},
     "output_type": "display_data"
    },
    {
     "name": "stderr",
     "output_type": "stream",
     "text": [
      "/anaconda/envs/bonsai-batch/lib/python3.7/site-packages/msal_extensions/token_cache.py:96: RuntimeWarning: You are using an unprotected token cache\n",
      "  warnings.warn(\"You are using an unprotected token cache\", RuntimeWarning)\n",
      "/anaconda/envs/bonsai-batch/lib/python3.7/site-packages/msal_extensions/token_cache.py:96: RuntimeWarning: You are using an unprotected token cache\n",
      "  warnings.warn(\"You are using an unprotected token cache\", RuntimeWarning)\n"
     ]
    },
    {
     "data": {
      "text/html": [
       "<pre style=\"white-space:pre;overflow-x:auto;line-height:normal;font-family:Menlo,'DejaVu Sans Mono',consolas,'Courier New',monospace\"><span style=\"color: #7fbfbf\">[19:30:59] </span><span style=\"color: #000080\">INFO    </span> Starting assessment on cp_goalwpri_tp_memory and <a href=\"file:///home/alizaidi/bonsai/bonsai-batch/batch_containers.py\"><span style=\"color: #7f7f7f\">batch_containers.py</span></a><span style=\"color: #7f7f7f\">:1063</span>\n",
       "                    version <span style=\"color: #000080; font-weight: bold\">2</span>                                                                \n",
       "</pre>\n"
      ],
      "text/plain": [
       "<rich.jupyter.JupyterRenderable at 0x7f387c11ed90>"
      ]
     },
     "metadata": {},
     "output_type": "display_data"
    },
    {
     "name": "stderr",
     "output_type": "stream",
     "text": [
      "/anaconda/envs/bonsai-batch/lib/python3.7/site-packages/msal_extensions/token_cache.py:96: RuntimeWarning: You are using an unprotected token cache\n",
      "  warnings.warn(\"You are using an unprotected token cache\", RuntimeWarning)\n",
      "/anaconda/envs/bonsai-batch/lib/python3.7/site-packages/msal_extensions/token_cache.py:96: RuntimeWarning: You are using an unprotected token cache\n",
      "  warnings.warn(\"You are using an unprotected token cache\", RuntimeWarning)\n"
     ]
    },
    {
     "data": {
      "text/html": [
       "<pre style=\"white-space:pre;overflow-x:auto;line-height:normal;font-family:Menlo,'DejaVu Sans Mono',consolas,'Courier New',monospace\"><span style=\"color: #7fbfbf\">[19:31:03] </span><span style=\"color: #000080\">INFO    </span> Starting assessment on cp_goalwpri_tp_memory and <a href=\"file:///home/alizaidi/bonsai/bonsai-batch/batch_containers.py\"><span style=\"color: #7f7f7f\">batch_containers.py</span></a><span style=\"color: #7f7f7f\">:1063</span>\n",
       "                    version <span style=\"color: #000080; font-weight: bold\">3</span>                                                                \n",
       "</pre>\n"
      ],
      "text/plain": [
       "<rich.jupyter.JupyterRenderable at 0x7f384bc18590>"
      ]
     },
     "metadata": {},
     "output_type": "display_data"
    },
    {
     "name": "stderr",
     "output_type": "stream",
     "text": [
      "/anaconda/envs/bonsai-batch/lib/python3.7/site-packages/msal_extensions/token_cache.py:96: RuntimeWarning: You are using an unprotected token cache\n",
      "  warnings.warn(\"You are using an unprotected token cache\", RuntimeWarning)\n",
      "/anaconda/envs/bonsai-batch/lib/python3.7/site-packages/msal_extensions/token_cache.py:96: RuntimeWarning: You are using an unprotected token cache\n",
      "  warnings.warn(\"You are using an unprotected token cache\", RuntimeWarning)\n"
     ]
    },
    {
     "data": {
      "text/html": [
       "<pre style=\"white-space:pre;overflow-x:auto;line-height:normal;font-family:Menlo,'DejaVu Sans Mono',consolas,'Courier New',monospace\"><span style=\"color: #7fbfbf\">[19:31:10] </span><span style=\"color: #000080\">INFO    </span> Starting assessment on cp_goalwpri_tp_memory and <a href=\"file:///home/alizaidi/bonsai/bonsai-batch/batch_containers.py\"><span style=\"color: #7f7f7f\">batch_containers.py</span></a><span style=\"color: #7f7f7f\">:1063</span>\n",
       "                    version <span style=\"color: #000080; font-weight: bold\">4</span>                                                                \n",
       "</pre>\n"
      ],
      "text/plain": [
       "<rich.jupyter.JupyterRenderable at 0x7f384b9d8110>"
      ]
     },
     "metadata": {},
     "output_type": "display_data"
    },
    {
     "name": "stderr",
     "output_type": "stream",
     "text": [
      "/anaconda/envs/bonsai-batch/lib/python3.7/site-packages/msal_extensions/token_cache.py:96: RuntimeWarning: You are using an unprotected token cache\n",
      "  warnings.warn(\"You are using an unprotected token cache\", RuntimeWarning)\n",
      "/anaconda/envs/bonsai-batch/lib/python3.7/site-packages/msal_extensions/token_cache.py:96: RuntimeWarning: You are using an unprotected token cache\n",
      "  warnings.warn(\"You are using an unprotected token cache\", RuntimeWarning)\n"
     ]
    },
    {
     "data": {
      "text/html": [
       "<pre style=\"white-space:pre;overflow-x:auto;line-height:normal;font-family:Menlo,'DejaVu Sans Mono',consolas,'Courier New',monospace\"><span style=\"color: #7fbfbf\">[19:31:16] </span><span style=\"color: #000080\">INFO    </span> Starting assessment on cartpole_single_concept   <a href=\"file:///home/alizaidi/bonsai/bonsai-batch/batch_containers.py\"><span style=\"color: #7f7f7f\">batch_containers.py</span></a><span style=\"color: #7f7f7f\">:1063</span>\n",
       "                    and version <span style=\"color: #000080; font-weight: bold\">1</span>                                                            \n",
       "</pre>\n"
      ],
      "text/plain": [
       "<rich.jupyter.JupyterRenderable at 0x7f384be12550>"
      ]
     },
     "metadata": {},
     "output_type": "display_data"
    },
    {
     "name": "stderr",
     "output_type": "stream",
     "text": [
      "/anaconda/envs/bonsai-batch/lib/python3.7/site-packages/msal_extensions/token_cache.py:96: RuntimeWarning: You are using an unprotected token cache\n",
      "  warnings.warn(\"You are using an unprotected token cache\", RuntimeWarning)\n",
      "/anaconda/envs/bonsai-batch/lib/python3.7/site-packages/msal_extensions/token_cache.py:96: RuntimeWarning: You are using an unprotected token cache\n",
      "  warnings.warn(\"You are using an unprotected token cache\", RuntimeWarning)\n"
     ]
    },
    {
     "data": {
      "text/html": [
       "<pre style=\"white-space:pre;overflow-x:auto;line-height:normal;font-family:Menlo,'DejaVu Sans Mono',consolas,'Courier New',monospace\"><span style=\"color: #7fbfbf\">[19:31:21] </span><span style=\"color: #000080\">INFO    </span> Starting assessment on cartpole_single_concept   <a href=\"file:///home/alizaidi/bonsai/bonsai-batch/batch_containers.py\"><span style=\"color: #7f7f7f\">batch_containers.py</span></a><span style=\"color: #7f7f7f\">:1063</span>\n",
       "                    and version <span style=\"color: #000080; font-weight: bold\">2</span>                                                            \n",
       "</pre>\n"
      ],
      "text/plain": [
       "<rich.jupyter.JupyterRenderable at 0x7f380ef65fd0>"
      ]
     },
     "metadata": {},
     "output_type": "display_data"
    },
    {
     "name": "stderr",
     "output_type": "stream",
     "text": [
      "/anaconda/envs/bonsai-batch/lib/python3.7/site-packages/msal_extensions/token_cache.py:96: RuntimeWarning: You are using an unprotected token cache\n",
      "  warnings.warn(\"You are using an unprotected token cache\", RuntimeWarning)\n",
      "/anaconda/envs/bonsai-batch/lib/python3.7/site-packages/msal_extensions/token_cache.py:96: RuntimeWarning: You are using an unprotected token cache\n",
      "  warnings.warn(\"You are using an unprotected token cache\", RuntimeWarning)\n"
     ]
    },
    {
     "data": {
      "text/html": [
       "<pre style=\"white-space:pre;overflow-x:auto;line-height:normal;font-family:Menlo,'DejaVu Sans Mono',consolas,'Courier New',monospace\"><span style=\"color: #7fbfbf\">[19:31:27] </span><span style=\"color: #000080\">INFO    </span> Starting assessment on cartpole_single_concept   <a href=\"file:///home/alizaidi/bonsai/bonsai-batch/batch_containers.py\"><span style=\"color: #7f7f7f\">batch_containers.py</span></a><span style=\"color: #7f7f7f\">:1063</span>\n",
       "                    and version <span style=\"color: #000080; font-weight: bold\">3</span>                                                            \n",
       "</pre>\n"
      ],
      "text/plain": [
       "<rich.jupyter.JupyterRenderable at 0x7f380ef65b90>"
      ]
     },
     "metadata": {},
     "output_type": "display_data"
    },
    {
     "name": "stderr",
     "output_type": "stream",
     "text": [
      "/anaconda/envs/bonsai-batch/lib/python3.7/site-packages/msal_extensions/token_cache.py:96: RuntimeWarning: You are using an unprotected token cache\n",
      "  warnings.warn(\"You are using an unprotected token cache\", RuntimeWarning)\n",
      "/anaconda/envs/bonsai-batch/lib/python3.7/site-packages/msal_extensions/token_cache.py:96: RuntimeWarning: You are using an unprotected token cache\n",
      "  warnings.warn(\"You are using an unprotected token cache\", RuntimeWarning)\n"
     ]
    },
    {
     "data": {
      "text/html": [
       "<pre style=\"white-space:pre;overflow-x:auto;line-height:normal;font-family:Menlo,'DejaVu Sans Mono',consolas,'Courier New',monospace\"><span style=\"color: #7fbfbf\">[19:31:33] </span><span style=\"color: #000080\">INFO    </span> Starting assessment on cartpole_single_concept   <a href=\"file:///home/alizaidi/bonsai/bonsai-batch/batch_containers.py\"><span style=\"color: #7f7f7f\">batch_containers.py</span></a><span style=\"color: #7f7f7f\">:1063</span>\n",
       "                    and version <span style=\"color: #000080; font-weight: bold\">4</span>                                                            \n",
       "</pre>\n"
      ],
      "text/plain": [
       "<rich.jupyter.JupyterRenderable at 0x7f384bcd0990>"
      ]
     },
     "metadata": {},
     "output_type": "display_data"
    },
    {
     "name": "stderr",
     "output_type": "stream",
     "text": [
      "/anaconda/envs/bonsai-batch/lib/python3.7/site-packages/msal_extensions/token_cache.py:96: RuntimeWarning: You are using an unprotected token cache\n",
      "  warnings.warn(\"You are using an unprotected token cache\", RuntimeWarning)\n",
      "/anaconda/envs/bonsai-batch/lib/python3.7/site-packages/msal_extensions/token_cache.py:96: RuntimeWarning: You are using an unprotected token cache\n",
      "  warnings.warn(\"You are using an unprotected token cache\", RuntimeWarning)\n"
     ]
    },
    {
     "data": {
      "text/html": [
       "<pre style=\"white-space:pre;overflow-x:auto;line-height:normal;font-family:Menlo,'DejaVu Sans Mono',consolas,'Courier New',monospace\"><span style=\"color: #7fbfbf\">[19:31:39] </span><span style=\"color: #000080\">INFO    </span> Starting assessment on cp_memory and version <span style=\"color: #000080; font-weight: bold\">1</span>   <a href=\"file:///home/alizaidi/bonsai/bonsai-batch/batch_containers.py\"><span style=\"color: #7f7f7f\">batch_containers.py</span></a><span style=\"color: #7f7f7f\">:1063</span>\n",
       "</pre>\n"
      ],
      "text/plain": [
       "<rich.jupyter.JupyterRenderable at 0x7f38556237d0>"
      ]
     },
     "metadata": {},
     "output_type": "display_data"
    },
    {
     "name": "stderr",
     "output_type": "stream",
     "text": [
      "/anaconda/envs/bonsai-batch/lib/python3.7/site-packages/msal_extensions/token_cache.py:96: RuntimeWarning: You are using an unprotected token cache\n",
      "  warnings.warn(\"You are using an unprotected token cache\", RuntimeWarning)\n",
      "/anaconda/envs/bonsai-batch/lib/python3.7/site-packages/msal_extensions/token_cache.py:96: RuntimeWarning: You are using an unprotected token cache\n",
      "  warnings.warn(\"You are using an unprotected token cache\", RuntimeWarning)\n"
     ]
    },
    {
     "data": {
      "text/html": [
       "<pre style=\"white-space:pre;overflow-x:auto;line-height:normal;font-family:Menlo,'DejaVu Sans Mono',consolas,'Courier New',monospace\"><span style=\"color: #7fbfbf\">[19:31:45] </span><span style=\"color: #000080\">INFO    </span> Starting assessment on cp_memory and version <span style=\"color: #000080; font-weight: bold\">2</span>   <a href=\"file:///home/alizaidi/bonsai/bonsai-batch/batch_containers.py\"><span style=\"color: #7f7f7f\">batch_containers.py</span></a><span style=\"color: #7f7f7f\">:1063</span>\n",
       "</pre>\n"
      ],
      "text/plain": [
       "<rich.jupyter.JupyterRenderable at 0x7f380f19fb50>"
      ]
     },
     "metadata": {},
     "output_type": "display_data"
    },
    {
     "name": "stderr",
     "output_type": "stream",
     "text": [
      "/anaconda/envs/bonsai-batch/lib/python3.7/site-packages/msal_extensions/token_cache.py:96: RuntimeWarning: You are using an unprotected token cache\n",
      "  warnings.warn(\"You are using an unprotected token cache\", RuntimeWarning)\n",
      "/anaconda/envs/bonsai-batch/lib/python3.7/site-packages/msal_extensions/token_cache.py:96: RuntimeWarning: You are using an unprotected token cache\n",
      "  warnings.warn(\"You are using an unprotected token cache\", RuntimeWarning)\n"
     ]
    },
    {
     "data": {
      "text/html": [
       "<pre style=\"white-space:pre;overflow-x:auto;line-height:normal;font-family:Menlo,'DejaVu Sans Mono',consolas,'Courier New',monospace\"><span style=\"color: #7fbfbf\">[19:31:51] </span><span style=\"color: #000080\">INFO    </span> Starting assessment on cp_memory and version <span style=\"color: #000080; font-weight: bold\">3</span>   <a href=\"file:///home/alizaidi/bonsai/bonsai-batch/batch_containers.py\"><span style=\"color: #7f7f7f\">batch_containers.py</span></a><span style=\"color: #7f7f7f\">:1063</span>\n",
       "</pre>\n"
      ],
      "text/plain": [
       "<rich.jupyter.JupyterRenderable at 0x7f380ef65b90>"
      ]
     },
     "metadata": {},
     "output_type": "display_data"
    },
    {
     "name": "stderr",
     "output_type": "stream",
     "text": [
      "/anaconda/envs/bonsai-batch/lib/python3.7/site-packages/msal_extensions/token_cache.py:96: RuntimeWarning: You are using an unprotected token cache\n",
      "  warnings.warn(\"You are using an unprotected token cache\", RuntimeWarning)\n",
      "/anaconda/envs/bonsai-batch/lib/python3.7/site-packages/msal_extensions/token_cache.py:96: RuntimeWarning: You are using an unprotected token cache\n",
      "  warnings.warn(\"You are using an unprotected token cache\", RuntimeWarning)\n"
     ]
    },
    {
     "data": {
      "text/html": [
       "<pre style=\"white-space:pre;overflow-x:auto;line-height:normal;font-family:Menlo,'DejaVu Sans Mono',consolas,'Courier New',monospace\"><span style=\"color: #7fbfbf\">[19:31:57] </span><span style=\"color: #000080\">INFO    </span> Starting assessment on cp_memory and version <span style=\"color: #000080; font-weight: bold\">4</span>   <a href=\"file:///home/alizaidi/bonsai/bonsai-batch/batch_containers.py\"><span style=\"color: #7f7f7f\">batch_containers.py</span></a><span style=\"color: #7f7f7f\">:1063</span>\n",
       "</pre>\n"
      ],
      "text/plain": [
       "<rich.jupyter.JupyterRenderable at 0x7f384bc7d990>"
      ]
     },
     "metadata": {},
     "output_type": "display_data"
    },
    {
     "name": "stderr",
     "output_type": "stream",
     "text": [
      "/anaconda/envs/bonsai-batch/lib/python3.7/site-packages/msal_extensions/token_cache.py:96: RuntimeWarning: You are using an unprotected token cache\n",
      "  warnings.warn(\"You are using an unprotected token cache\", RuntimeWarning)\n",
      "/anaconda/envs/bonsai-batch/lib/python3.7/site-packages/msal_extensions/token_cache.py:96: RuntimeWarning: You are using an unprotected token cache\n",
      "  warnings.warn(\"You are using an unprotected token cache\", RuntimeWarning)\n"
     ]
    },
    {
     "data": {
      "text/html": [
       "<pre style=\"white-space:pre;overflow-x:auto;line-height:normal;font-family:Menlo,'DejaVu Sans Mono',consolas,'Courier New',monospace\"><span style=\"color: #7fbfbf\">[19:32:03] </span><span style=\"color: #000080\">INFO    </span> Starting assessment on cp_goalwpri and version <span style=\"color: #000080; font-weight: bold\">1</span> <a href=\"file:///home/alizaidi/bonsai/bonsai-batch/batch_containers.py\"><span style=\"color: #7f7f7f\">batch_containers.py</span></a><span style=\"color: #7f7f7f\">:1063</span>\n",
       "</pre>\n"
      ],
      "text/plain": [
       "<rich.jupyter.JupyterRenderable at 0x7f380f1aa6d0>"
      ]
     },
     "metadata": {},
     "output_type": "display_data"
    },
    {
     "name": "stderr",
     "output_type": "stream",
     "text": [
      "/anaconda/envs/bonsai-batch/lib/python3.7/site-packages/msal_extensions/token_cache.py:96: RuntimeWarning: You are using an unprotected token cache\n",
      "  warnings.warn(\"You are using an unprotected token cache\", RuntimeWarning)\n",
      "/anaconda/envs/bonsai-batch/lib/python3.7/site-packages/msal_extensions/token_cache.py:96: RuntimeWarning: You are using an unprotected token cache\n",
      "  warnings.warn(\"You are using an unprotected token cache\", RuntimeWarning)\n"
     ]
    },
    {
     "data": {
      "text/html": [
       "<pre style=\"white-space:pre;overflow-x:auto;line-height:normal;font-family:Menlo,'DejaVu Sans Mono',consolas,'Courier New',monospace\"><span style=\"color: #7fbfbf\">[19:32:10] </span><span style=\"color: #000080\">INFO    </span> Starting assessment on cp_goalwpri and version <span style=\"color: #000080; font-weight: bold\">2</span> <a href=\"file:///home/alizaidi/bonsai/bonsai-batch/batch_containers.py\"><span style=\"color: #7f7f7f\">batch_containers.py</span></a><span style=\"color: #7f7f7f\">:1063</span>\n",
       "</pre>\n"
      ],
      "text/plain": [
       "<rich.jupyter.JupyterRenderable at 0x7f380ef65b90>"
      ]
     },
     "metadata": {},
     "output_type": "display_data"
    },
    {
     "name": "stderr",
     "output_type": "stream",
     "text": [
      "/anaconda/envs/bonsai-batch/lib/python3.7/site-packages/msal_extensions/token_cache.py:96: RuntimeWarning: You are using an unprotected token cache\n",
      "  warnings.warn(\"You are using an unprotected token cache\", RuntimeWarning)\n",
      "/anaconda/envs/bonsai-batch/lib/python3.7/site-packages/msal_extensions/token_cache.py:96: RuntimeWarning: You are using an unprotected token cache\n",
      "  warnings.warn(\"You are using an unprotected token cache\", RuntimeWarning)\n"
     ]
    },
    {
     "data": {
      "text/html": [
       "<pre style=\"white-space:pre;overflow-x:auto;line-height:normal;font-family:Menlo,'DejaVu Sans Mono',consolas,'Courier New',monospace\"><span style=\"color: #7fbfbf\">[19:32:15] </span><span style=\"color: #000080\">INFO    </span> Starting assessment on cp_goalwpri and version <span style=\"color: #000080; font-weight: bold\">3</span> <a href=\"file:///home/alizaidi/bonsai/bonsai-batch/batch_containers.py\"><span style=\"color: #7f7f7f\">batch_containers.py</span></a><span style=\"color: #7f7f7f\">:1063</span>\n",
       "</pre>\n"
      ],
      "text/plain": [
       "<rich.jupyter.JupyterRenderable at 0x7f384bcd0490>"
      ]
     },
     "metadata": {},
     "output_type": "display_data"
    },
    {
     "name": "stderr",
     "output_type": "stream",
     "text": [
      "/anaconda/envs/bonsai-batch/lib/python3.7/site-packages/msal_extensions/token_cache.py:96: RuntimeWarning: You are using an unprotected token cache\n",
      "  warnings.warn(\"You are using an unprotected token cache\", RuntimeWarning)\n",
      "/anaconda/envs/bonsai-batch/lib/python3.7/site-packages/msal_extensions/token_cache.py:96: RuntimeWarning: You are using an unprotected token cache\n",
      "  warnings.warn(\"You are using an unprotected token cache\", RuntimeWarning)\n"
     ]
    },
    {
     "data": {
      "text/html": [
       "<pre style=\"white-space:pre;overflow-x:auto;line-height:normal;font-family:Menlo,'DejaVu Sans Mono',consolas,'Courier New',monospace\"><span style=\"color: #7fbfbf\">[19:32:21] </span><span style=\"color: #000080\">INFO    </span> Starting assessment on cp_goalwpri and version <span style=\"color: #000080; font-weight: bold\">4</span> <a href=\"file:///home/alizaidi/bonsai/bonsai-batch/batch_containers.py\"><span style=\"color: #7f7f7f\">batch_containers.py</span></a><span style=\"color: #7f7f7f\">:1063</span>\n",
       "</pre>\n"
      ],
      "text/plain": [
       "<rich.jupyter.JupyterRenderable at 0x7f384bc64ed0>"
      ]
     },
     "metadata": {},
     "output_type": "display_data"
    },
    {
     "name": "stderr",
     "output_type": "stream",
     "text": [
      "/anaconda/envs/bonsai-batch/lib/python3.7/site-packages/msal_extensions/token_cache.py:96: RuntimeWarning: You are using an unprotected token cache\n",
      "  warnings.warn(\"You are using an unprotected token cache\", RuntimeWarning)\n",
      "/anaconda/envs/bonsai-batch/lib/python3.7/site-packages/msal_extensions/token_cache.py:96: RuntimeWarning: You are using an unprotected token cache\n",
      "  warnings.warn(\"You are using an unprotected token cache\", RuntimeWarning)\n"
     ]
    },
    {
     "data": {
      "text/html": [
       "<pre style=\"white-space:pre;overflow-x:auto;line-height:normal;font-family:Menlo,'DejaVu Sans Mono',consolas,'Courier New',monospace\"><span style=\"color: #7fbfbf\">[19:32:27] </span><span style=\"color: #000080\">INFO    </span> Starting assessment on cp_goalpri_tp and version <a href=\"file:///home/alizaidi/bonsai/bonsai-batch/batch_containers.py\"><span style=\"color: #7f7f7f\">batch_containers.py</span></a><span style=\"color: #7f7f7f\">:1063</span>\n",
       "                    <span style=\"color: #000080; font-weight: bold\">1</span>                                                                        \n",
       "</pre>\n"
      ],
      "text/plain": [
       "<rich.jupyter.JupyterRenderable at 0x7f38556237d0>"
      ]
     },
     "metadata": {},
     "output_type": "display_data"
    },
    {
     "name": "stderr",
     "output_type": "stream",
     "text": [
      "/anaconda/envs/bonsai-batch/lib/python3.7/site-packages/msal_extensions/token_cache.py:96: RuntimeWarning: You are using an unprotected token cache\n",
      "  warnings.warn(\"You are using an unprotected token cache\", RuntimeWarning)\n",
      "/anaconda/envs/bonsai-batch/lib/python3.7/site-packages/msal_extensions/token_cache.py:96: RuntimeWarning: You are using an unprotected token cache\n",
      "  warnings.warn(\"You are using an unprotected token cache\", RuntimeWarning)\n"
     ]
    },
    {
     "data": {
      "text/html": [
       "<pre style=\"white-space:pre;overflow-x:auto;line-height:normal;font-family:Menlo,'DejaVu Sans Mono',consolas,'Courier New',monospace\"><span style=\"color: #7fbfbf\">[19:32:33] </span><span style=\"color: #000080\">INFO    </span> Starting assessment on cp_goalpri_tp and version <a href=\"file:///home/alizaidi/bonsai/bonsai-batch/batch_containers.py\"><span style=\"color: #7f7f7f\">batch_containers.py</span></a><span style=\"color: #7f7f7f\">:1063</span>\n",
       "                    <span style=\"color: #000080; font-weight: bold\">2</span>                                                                        \n",
       "</pre>\n"
      ],
      "text/plain": [
       "<rich.jupyter.JupyterRenderable at 0x7f384bc0b090>"
      ]
     },
     "metadata": {},
     "output_type": "display_data"
    },
    {
     "name": "stderr",
     "output_type": "stream",
     "text": [
      "/anaconda/envs/bonsai-batch/lib/python3.7/site-packages/msal_extensions/token_cache.py:96: RuntimeWarning: You are using an unprotected token cache\n",
      "  warnings.warn(\"You are using an unprotected token cache\", RuntimeWarning)\n",
      "/anaconda/envs/bonsai-batch/lib/python3.7/site-packages/msal_extensions/token_cache.py:96: RuntimeWarning: You are using an unprotected token cache\n",
      "  warnings.warn(\"You are using an unprotected token cache\", RuntimeWarning)\n"
     ]
    },
    {
     "data": {
      "text/html": [
       "<pre style=\"white-space:pre;overflow-x:auto;line-height:normal;font-family:Menlo,'DejaVu Sans Mono',consolas,'Courier New',monospace\"><span style=\"color: #7fbfbf\">[19:32:39] </span><span style=\"color: #000080\">INFO    </span> Starting assessment on cp_goalpri_tp and version <a href=\"file:///home/alizaidi/bonsai/bonsai-batch/batch_containers.py\"><span style=\"color: #7f7f7f\">batch_containers.py</span></a><span style=\"color: #7f7f7f\">:1063</span>\n",
       "                    <span style=\"color: #000080; font-weight: bold\">3</span>                                                                        \n",
       "</pre>\n"
      ],
      "text/plain": [
       "<rich.jupyter.JupyterRenderable at 0x7f384b9d3350>"
      ]
     },
     "metadata": {},
     "output_type": "display_data"
    },
    {
     "name": "stderr",
     "output_type": "stream",
     "text": [
      "/anaconda/envs/bonsai-batch/lib/python3.7/site-packages/msal_extensions/token_cache.py:96: RuntimeWarning: You are using an unprotected token cache\n",
      "  warnings.warn(\"You are using an unprotected token cache\", RuntimeWarning)\n",
      "/anaconda/envs/bonsai-batch/lib/python3.7/site-packages/msal_extensions/token_cache.py:96: RuntimeWarning: You are using an unprotected token cache\n",
      "  warnings.warn(\"You are using an unprotected token cache\", RuntimeWarning)\n"
     ]
    },
    {
     "data": {
      "text/html": [
       "<pre style=\"white-space:pre;overflow-x:auto;line-height:normal;font-family:Menlo,'DejaVu Sans Mono',consolas,'Courier New',monospace\"><span style=\"color: #7fbfbf\">[19:32:45] </span><span style=\"color: #000080\">INFO    </span> Starting assessment on cp_goalpri_tp and version <a href=\"file:///home/alizaidi/bonsai/bonsai-batch/batch_containers.py\"><span style=\"color: #7f7f7f\">batch_containers.py</span></a><span style=\"color: #7f7f7f\">:1063</span>\n",
       "                    <span style=\"color: #000080; font-weight: bold\">4</span>                                                                        \n",
       "</pre>\n"
      ],
      "text/plain": [
       "<rich.jupyter.JupyterRenderable at 0x7f384b9d3810>"
      ]
     },
     "metadata": {},
     "output_type": "display_data"
    },
    {
     "name": "stderr",
     "output_type": "stream",
     "text": [
      "/anaconda/envs/bonsai-batch/lib/python3.7/site-packages/msal_extensions/token_cache.py:96: RuntimeWarning: You are using an unprotected token cache\n",
      "  warnings.warn(\"You are using an unprotected token cache\", RuntimeWarning)\n",
      "/anaconda/envs/bonsai-batch/lib/python3.7/site-packages/msal_extensions/token_cache.py:96: RuntimeWarning: You are using an unprotected token cache\n",
      "  warnings.warn(\"You are using an unprotected token cache\", RuntimeWarning)\n"
     ]
    },
    {
     "data": {
      "text/html": [
       "<pre style=\"white-space:pre;overflow-x:auto;line-height:normal;font-family:Menlo,'DejaVu Sans Mono',consolas,'Courier New',monospace\"><span style=\"color: #7fbfbf\">[19:32:52] </span><span style=\"color: #000080\">INFO    </span> Starting assessment on cp_goalwpri_tp_memory and <a href=\"file:///home/alizaidi/bonsai/bonsai-batch/batch_containers.py\"><span style=\"color: #7f7f7f\">batch_containers.py</span></a><span style=\"color: #7f7f7f\">:1063</span>\n",
       "                    version <span style=\"color: #000080; font-weight: bold\">1</span>                                                                \n",
       "</pre>\n"
      ],
      "text/plain": [
       "<rich.jupyter.JupyterRenderable at 0x7f384b9d3090>"
      ]
     },
     "metadata": {},
     "output_type": "display_data"
    },
    {
     "name": "stderr",
     "output_type": "stream",
     "text": [
      "/anaconda/envs/bonsai-batch/lib/python3.7/site-packages/msal_extensions/token_cache.py:96: RuntimeWarning: You are using an unprotected token cache\n",
      "  warnings.warn(\"You are using an unprotected token cache\", RuntimeWarning)\n",
      "/anaconda/envs/bonsai-batch/lib/python3.7/site-packages/msal_extensions/token_cache.py:96: RuntimeWarning: You are using an unprotected token cache\n",
      "  warnings.warn(\"You are using an unprotected token cache\", RuntimeWarning)\n"
     ]
    },
    {
     "data": {
      "text/html": [
       "<pre style=\"white-space:pre;overflow-x:auto;line-height:normal;font-family:Menlo,'DejaVu Sans Mono',consolas,'Courier New',monospace\"><span style=\"color: #7fbfbf\">[19:32:57] </span><span style=\"color: #000080\">INFO    </span> Starting assessment on cp_goalwpri_tp_memory and <a href=\"file:///home/alizaidi/bonsai/bonsai-batch/batch_containers.py\"><span style=\"color: #7f7f7f\">batch_containers.py</span></a><span style=\"color: #7f7f7f\">:1063</span>\n",
       "                    version <span style=\"color: #000080; font-weight: bold\">2</span>                                                                \n",
       "</pre>\n"
      ],
      "text/plain": [
       "<rich.jupyter.JupyterRenderable at 0x7f380efa9110>"
      ]
     },
     "metadata": {},
     "output_type": "display_data"
    },
    {
     "name": "stderr",
     "output_type": "stream",
     "text": [
      "/anaconda/envs/bonsai-batch/lib/python3.7/site-packages/msal_extensions/token_cache.py:96: RuntimeWarning: You are using an unprotected token cache\n",
      "  warnings.warn(\"You are using an unprotected token cache\", RuntimeWarning)\n",
      "/anaconda/envs/bonsai-batch/lib/python3.7/site-packages/msal_extensions/token_cache.py:96: RuntimeWarning: You are using an unprotected token cache\n",
      "  warnings.warn(\"You are using an unprotected token cache\", RuntimeWarning)\n"
     ]
    },
    {
     "data": {
      "text/html": [
       "<pre style=\"white-space:pre;overflow-x:auto;line-height:normal;font-family:Menlo,'DejaVu Sans Mono',consolas,'Courier New',monospace\"><span style=\"color: #7fbfbf\">[19:33:02] </span><span style=\"color: #000080\">INFO    </span> Starting assessment on cp_goalwpri_tp_memory and <a href=\"file:///home/alizaidi/bonsai/bonsai-batch/batch_containers.py\"><span style=\"color: #7f7f7f\">batch_containers.py</span></a><span style=\"color: #7f7f7f\">:1063</span>\n",
       "                    version <span style=\"color: #000080; font-weight: bold\">3</span>                                                                \n",
       "</pre>\n"
      ],
      "text/plain": [
       "<rich.jupyter.JupyterRenderable at 0x7f38556ae350>"
      ]
     },
     "metadata": {},
     "output_type": "display_data"
    },
    {
     "name": "stderr",
     "output_type": "stream",
     "text": [
      "/anaconda/envs/bonsai-batch/lib/python3.7/site-packages/msal_extensions/token_cache.py:96: RuntimeWarning: You are using an unprotected token cache\n",
      "  warnings.warn(\"You are using an unprotected token cache\", RuntimeWarning)\n",
      "/anaconda/envs/bonsai-batch/lib/python3.7/site-packages/msal_extensions/token_cache.py:96: RuntimeWarning: You are using an unprotected token cache\n",
      "  warnings.warn(\"You are using an unprotected token cache\", RuntimeWarning)\n"
     ]
    },
    {
     "data": {
      "text/html": [
       "<pre style=\"white-space:pre;overflow-x:auto;line-height:normal;font-family:Menlo,'DejaVu Sans Mono',consolas,'Courier New',monospace\"><span style=\"color: #7fbfbf\">[19:33:08] </span><span style=\"color: #000080\">INFO    </span> Starting assessment on cp_goalwpri_tp_memory and <a href=\"file:///home/alizaidi/bonsai/bonsai-batch/batch_containers.py\"><span style=\"color: #7f7f7f\">batch_containers.py</span></a><span style=\"color: #7f7f7f\">:1063</span>\n",
       "                    version <span style=\"color: #000080; font-weight: bold\">4</span>                                                                \n",
       "</pre>\n"
      ],
      "text/plain": [
       "<rich.jupyter.JupyterRenderable at 0x7f384b9db590>"
      ]
     },
     "metadata": {},
     "output_type": "display_data"
    },
    {
     "name": "stderr",
     "output_type": "stream",
     "text": [
      "/anaconda/envs/bonsai-batch/lib/python3.7/site-packages/msal_extensions/token_cache.py:96: RuntimeWarning: You are using an unprotected token cache\n",
      "  warnings.warn(\"You are using an unprotected token cache\", RuntimeWarning)\n"
     ]
    }
   ],
   "source": [
    "assessment_files = [\"cartpole-assess-default.json\", \"cartpole-assess-initvelocity.json\", \"cartpole-assess-initposition.json\"]\n",
    "EPISODE_LIMIT=100\n",
    "NUM_INSTANCES=2\n",
    "for i in assessment_files:\n",
    "    running_experiments.apply(\n",
    "        lambda x: run_assessment(\n",
    "            brain_name=x['brain'], brain_version=x['version'], concept_name=x['concept_name'],\n",
    "            assess_file=i, \n",
    "            assess_name=str(datetime.datetime.now().strftime(\"%Y%m%d%H%M%S\")+x['brain']+str(x['version'])+i).replace(\".json\", \"\")[:63],\n",
    "            episode_limit=EPISODE_LIMIT, sim_package=x['sim'], num_instances=NUM_INSTANCES),\n",
    "        axis=1\n",
    "    )"
   ]
  },
  {
   "cell_type": "markdown",
   "metadata": {},
   "source": [
    "## Get All Assessments"
   ]
  },
  {
   "cell_type": "code",
   "execution_count": 6,
   "metadata": {},
   "outputs": [
    {
     "name": "stderr",
     "output_type": "stream",
     "text": [
      "/anaconda/envs/bonsai-batch/lib/python3.7/site-packages/msal_extensions/token_cache.py:96: RuntimeWarning: You are using an unprotected token cache\n",
      "  warnings.warn(\"You are using an unprotected token cache\", RuntimeWarning)\n"
     ]
    }
   ],
   "source": [
    "a = get_assessments(\"cartpole_single_concept\", 1)"
   ]
  },
  {
   "cell_type": "code",
   "execution_count": 8,
   "metadata": {},
   "outputs": [],
   "source": [
    "expand_assess = pd.json_normalize(a['value'])"
   ]
  },
  {
   "cell_type": "code",
   "execution_count": 9,
   "metadata": {},
   "outputs": [
    {
     "data": {
      "text/html": [
       "<div>\n",
       "<style scoped>\n",
       "    .dataframe tbody tr th:only-of-type {\n",
       "        vertical-align: middle;\n",
       "    }\n",
       "\n",
       "    .dataframe tbody tr th {\n",
       "        vertical-align: top;\n",
       "    }\n",
       "\n",
       "    .dataframe thead th {\n",
       "        text-align: right;\n",
       "    }\n",
       "</style>\n",
       "<table border=\"1\" class=\"dataframe\">\n",
       "  <thead>\n",
       "    <tr style=\"text-align: right;\">\n",
       "      <th></th>\n",
       "      <th>assessmentName</th>\n",
       "      <th>status</th>\n",
       "      <th>description</th>\n",
       "    </tr>\n",
       "  </thead>\n",
       "  <tbody>\n",
       "    <tr>\n",
       "      <th>0</th>\n",
       "      <td>automatic-09February2022-17.12.27Z</td>\n",
       "      <td>Completed</td>\n",
       "      <td>Run on 09February2022-17.12.27 UTC</td>\n",
       "    </tr>\n",
       "    <tr>\n",
       "      <th>1</th>\n",
       "      <td>automatic-09February2022-17.15.23Z</td>\n",
       "      <td>Completed</td>\n",
       "      <td>Run on 09February2022-17.15.23 UTC</td>\n",
       "    </tr>\n",
       "    <tr>\n",
       "      <th>2</th>\n",
       "      <td>automatic-09February2022-17.21.21Z</td>\n",
       "      <td>Completed</td>\n",
       "      <td>Run on 09February2022-17.21.21 UTC</td>\n",
       "    </tr>\n",
       "    <tr>\n",
       "      <th>3</th>\n",
       "      <td>automatic-09February2022-17.27.10Z</td>\n",
       "      <td>Completed</td>\n",
       "      <td>Run on 09February2022-17.27.10 UTC</td>\n",
       "    </tr>\n",
       "    <tr>\n",
       "      <th>4</th>\n",
       "      <td>cartpole_single_concept1cartpole-assess-defaul...</td>\n",
       "      <td>Completed</td>\n",
       "      <td></td>\n",
       "    </tr>\n",
       "    <tr>\n",
       "      <th>5</th>\n",
       "      <td>20220209183235cartpole_single_concept1cartpole...</td>\n",
       "      <td>Completed</td>\n",
       "      <td></td>\n",
       "    </tr>\n",
       "    <tr>\n",
       "      <th>6</th>\n",
       "      <td>20220209183437cartpole_single_concept1cartpole...</td>\n",
       "      <td>Completed</td>\n",
       "      <td></td>\n",
       "    </tr>\n",
       "    <tr>\n",
       "      <th>7</th>\n",
       "      <td>20220209183637cartpole_single_concept1cartpole...</td>\n",
       "      <td>Completed</td>\n",
       "      <td></td>\n",
       "    </tr>\n",
       "    <tr>\n",
       "      <th>8</th>\n",
       "      <td>20220209190456cartpole_single_concept1cartpole...</td>\n",
       "      <td>Completed</td>\n",
       "      <td></td>\n",
       "    </tr>\n",
       "  </tbody>\n",
       "</table>\n",
       "</div>"
      ],
      "text/plain": [
       "                                      assessmentName     status  \\\n",
       "0                 automatic-09February2022-17.12.27Z  Completed   \n",
       "1                 automatic-09February2022-17.15.23Z  Completed   \n",
       "2                 automatic-09February2022-17.21.21Z  Completed   \n",
       "3                 automatic-09February2022-17.27.10Z  Completed   \n",
       "4  cartpole_single_concept1cartpole-assess-defaul...  Completed   \n",
       "5  20220209183235cartpole_single_concept1cartpole...  Completed   \n",
       "6  20220209183437cartpole_single_concept1cartpole...  Completed   \n",
       "7  20220209183637cartpole_single_concept1cartpole...  Completed   \n",
       "8  20220209190456cartpole_single_concept1cartpole...  Completed   \n",
       "\n",
       "                          description  \n",
       "0  Run on 09February2022-17.12.27 UTC  \n",
       "1  Run on 09February2022-17.15.23 UTC  \n",
       "2  Run on 09February2022-17.21.21 UTC  \n",
       "3  Run on 09February2022-17.27.10 UTC  \n",
       "4                                      \n",
       "5                                      \n",
       "6                                      \n",
       "7                                      \n",
       "8                                      "
      ]
     },
     "execution_count": 9,
     "metadata": {},
     "output_type": "execute_result"
    }
   ],
   "source": [
    "expand_assess"
   ]
  },
  {
   "cell_type": "code",
   "execution_count": 11,
   "metadata": {},
   "outputs": [
    {
     "data": {
      "text/plain": [
       "array(['automatic-09February2022-17.12.27Z',\n",
       "       'automatic-09February2022-17.15.23Z',\n",
       "       'automatic-09February2022-17.21.21Z',\n",
       "       'automatic-09February2022-17.27.10Z',\n",
       "       'cartpole_single_concept1cartpole-assess-default.json',\n",
       "       '20220209183235cartpole_single_concept1cartpole-assess-default',\n",
       "       '20220209183437cartpole_single_concept1cartpole-assess-initveloc',\n",
       "       '20220209183637cartpole_single_concept1cartpole-assess-initposit',\n",
       "       '20220209190456cartpole_single_concept1cartpole-assess-default'],\n",
       "      dtype=object)"
      ]
     },
     "execution_count": 11,
     "metadata": {},
     "output_type": "execute_result"
    }
   ],
   "source": [
    "expand_assess['assessmentName'].values"
   ]
  }
 ],
 "metadata": {
  "interpreter": {
   "hash": "9fb4f11af92422c534054c72450d84b87ef4bd4bf88a59eeeb66c2e6904824e8"
  },
  "kernelspec": {
   "display_name": "Python [conda env:bonsai-batch]",
   "language": "python",
   "name": "conda-env-bonsai-batch-py"
  },
  "language_info": {
   "codemirror_mode": {
    "name": "ipython",
    "version": 3
   },
   "file_extension": ".py",
   "mimetype": "text/x-python",
   "name": "python",
   "nbconvert_exporter": "python",
   "pygments_lexer": "ipython3",
   "version": "3.7.11"
  }
 },
 "nbformat": 4,
 "nbformat_minor": 4
}
